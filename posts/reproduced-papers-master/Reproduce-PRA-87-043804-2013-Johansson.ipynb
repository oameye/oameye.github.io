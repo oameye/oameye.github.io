{
 "cells": [
  {
   "cell_type": "markdown",
   "id": "19ff6115",
   "metadata": {},
   "source": [
    "# Reproduce: Johansson et al., PRA 87 043804 (2013)"
   ]
  },
  {
   "cell_type": "markdown",
   "id": "6326acf2",
   "metadata": {},
   "source": [
    "J. R. Johansson, http://jrjohansson.github.com, <robert@riken.jp>"
   ]
  },
  {
   "cell_type": "code",
   "execution_count": 1,
   "id": "fb9f4f80",
   "metadata": {
    "collapsed": false
   },
   "outputs": [],
   "source": [
    "from sympy import *\n",
    "init_printing()"
   ]
  },
  {
   "cell_type": "code",
   "execution_count": 2,
   "id": "7734668e",
   "metadata": {
    "collapsed": false
   },
   "outputs": [],
   "source": [
    "# Note: This notebook requires and experimental branch of sympy available at: https://github.com/jrjohansson/sympy\n",
    "from sympy.physics.quantum import *"
   ]
  },
  {
   "cell_type": "markdown",
   "id": "6b63adc4",
   "metadata": {},
   "source": [
    "## Introduction"
   ]
  },
  {
   "cell_type": "markdown",
   "id": "95d1e566",
   "metadata": {},
   "source": [
    "In this notebook I reproduce some results from Johansson et al., PRA 87, 043804 (2013), which is one of my own papers. Normally this would not qualify as a reproduced results, but in this case I will use a different method to obtain the same result. Here I will use SymPy and its quantum physics module to demonstrate how an analytical result can be obtained using symbolic operator manipulation, instead of calculations with pen and paper."
   ]
  },
  {
   "cell_type": "markdown",
   "id": "56a6813f",
   "metadata": {},
   "source": [
    "Here we are interested in evaluating the nonclassicality indicator [see, e.g., Miranowicz et al. Phys. Rev. A 82, 013824 (2010)]\n",
    "\n",
    "$$\n",
    "\\langle: f^\\dagger f :\\rangle\n",
    "$$\n",
    "\n",
    "which is positive for classical states, and where $f$ is a function of the field operator $b$. We will use the following choise of $f$, which is ideally suited for detecting the presence of nonclassial two-mode squeezing (nonclassical quadrature correlations between photons at difference frequencies):\n",
    "\n",
    "\n",
    "$$\n",
    "f = e^{i\\theta} b_- + e^{-i\\theta} b_-^\\dagger + i(e^{i\\theta} b_+ - e^{-i\\theta} b_+^\\dagger )\n",
    "$$\n",
    "\n",
    "where $b_\\pm$ are the field operators at frequencies $\\omega_\\pm = \\omega_d/2 \\pm \\delta\\omega$. Note that the structure of $f$ is $f = x_- - p_+$ where $x_\\pm$ and $p_\\pm$ are the $x$ and $p$ quadrature operators of modes with frequency $\\omega_\\pm$, which suggest that this form is suitable for two-mode quadrature squeezing where exactly this operator combination is squeezed below its vacuum level.\n",
    "\n",
    "Below we will evaluate $\\langle: f^\\dagger f :\\rangle$ for the state of the field $b$ that is produced by the dynamical Casimir effect when the boundary condition of the field is varied in time. The relation between the output field $b$ and the input field $a$ (that impinges on the time-varying boundary condition) is, in the perturbative regime, given as\n",
    "\n",
    "$$\n",
    "b_{\\pm} = -a_{\\pm} - i\\frac{\\delta\\!L_{\\rm eff}}{v}\\sqrt{\\omega_-\\omega_+} a_{\\mp}^\\dagger\n",
    "$$\n",
    "\n",
    "Here $\\frac{\\delta\\!L_{\\rm eff}}{v}\\sqrt{\\omega_-\\omega_+}$ is a small parameter in the perturbation calculation, which we for brievity will denote $x$ in the following (see PRA 87 043804 for details)."
   ]
  },
  {
   "cell_type": "markdown",
   "id": "ab0f3ec0",
   "metadata": {},
   "source": [
    "We start by defining symbols and operators:"
   ]
  },
  {
   "cell_type": "code",
   "execution_count": 3,
   "id": "e7e2396c",
   "metadata": {
    "collapsed": false
   },
   "outputs": [],
   "source": [
    "theta = Symbol(\"theta\", real=True)\n",
    "x = Symbol(\"x\", real=True)"
   ]
  },
  {
   "cell_type": "code",
   "execution_count": 4,
   "id": "c4e41e44",
   "metadata": {
    "collapsed": false
   },
   "outputs": [],
   "source": [
    "dL, v, wp, wm = symbols(\"{\\delta\\!L}, v, omega_-, omega_+\")"
   ]
  },
  {
   "cell_type": "code",
   "execution_count": 5,
   "id": "bdfb06b2",
   "metadata": {
    "collapsed": false
   },
   "outputs": [],
   "source": [
    "# input field operators\n",
    "am = BosonOperator(\"a_-\")\n",
    "ap = BosonOperator(\"a_+\")"
   ]
  },
  {
   "cell_type": "code",
   "execution_count": 6,
   "id": "314eeda1",
   "metadata": {
    "collapsed": false
   },
   "outputs": [],
   "source": [
    "# output field operators\n",
    "bm = BosonOperator(\"b_-\")\n",
    "bp = BosonOperator(\"b_+\")"
   ]
  },
  {
   "cell_type": "code",
   "execution_count": 7,
   "id": "4402302f",
   "metadata": {
    "collapsed": false
   },
   "outputs": [],
   "source": [
    "# relation between input field operators and output field operators\n",
    "bm_sub = -am - 1j * x * Dagger(ap)\n",
    "bp_sub = -ap - 1j * x * Dagger(am)\n",
    "\n",
    "bmd_sub = Dagger(bm_sub)\n",
    "bpd_sub = Dagger(bp_sub)"
   ]
  },
  {
   "cell_type": "markdown",
   "id": "461a3798",
   "metadata": {},
   "source": [
    "$$\n",
    "f = e^{i\\theta} b_- + e^{-i\\theta} b_-^\\dagger + i(e^{i\\theta} b_+ - e^{-i\\theta} b_+^\\dagger )\n",
    "$$"
   ]
  },
  {
   "cell_type": "code",
   "execution_count": 8,
   "id": "3a25108e",
   "metadata": {
    "collapsed": false
   },
   "outputs": [
    {
     "data": {
      "image/png": "[encoded data removed]",
      "text/latex": [
       "$$e^{- 1.0 i \\theta} {{b_-}^\\dagger} + e^{1.0 i \\theta} {b_-} + 1.0 i \\left(- e^{- 1.0 i \\theta} {{b_+}^\\dagger} + e^{1.0 i \\theta} {b_+}\\right)$$"
      ],
      "text/plain": [
       " -1.0⋅ⅈ⋅θ                        1.0⋅ⅈ⋅θ                             ⎛   -1.0⋅\n",
       "ℯ        ⋅BosonOperator(b₋,0) + ℯ       ⋅BosonOperator(b₋,1) + 1.0⋅ⅈ⋅⎝- ℯ     \n",
       "\n",
       "ⅈ⋅θ                        1.0⋅ⅈ⋅θ                    ⎞\n",
       "   ⋅BosonOperator(b₊,0) + ℯ       ⋅BosonOperator(b₊,1)⎠"
      ]
     },
     "execution_count": 8,
     "metadata": {},
     "output_type": "execute_result"
    }
   ],
   "source": [
    "f = exp(1j*theta) * bm + exp(-1j*theta) * Dagger(bm) + 1j * (exp(1j*theta) * bp - exp(-1j*theta) * Dagger(bp))\n",
    "\n",
    "f"
   ]
  },
  {
   "cell_type": "markdown",
   "id": "6389b07f",
   "metadata": {},
   "source": [
    "Now we construct $f^\\dagger f$"
   ]
  },
  {
   "cell_type": "code",
   "execution_count": 9,
   "id": "fe140211",
   "metadata": {
    "collapsed": false
   },
   "outputs": [],
   "source": [
    "fdf = Dagger(f) * f"
   ]
  },
  {
   "cell_type": "code",
   "execution_count": 10,
   "id": "afbf7e7b",
   "metadata": {
    "collapsed": false
   },
   "outputs": [
    {
     "data": {
      "image/png": "[encoded data removed]",
      "text/latex": [
       "$$- 1.0 i e^{- 2.0 i \\theta} {{b_+}^\\dagger} {{b_-}^\\dagger} - 1.0 e^{- 2.0 i \\theta} \\left({{b_+}^\\dagger}\\right)^{2} - 1.0 i e^{- 2.0 i \\theta} {{b_-}^\\dagger} {{b_+}^\\dagger} + e^{- 2.0 i \\theta} \\left({{b_-}^\\dagger}\\right)^{2} + 1.0 i e^{2.0 i \\theta} {b_+} {b_-} - 1.0 e^{2.0 i \\theta} \\left({b_+}\\right)^{2} + 1.0 i e^{2.0 i \\theta} {b_-} {b_+} + e^{2.0 i \\theta} \\left({b_-}\\right)^{2} + 1.0 {{b_+}^\\dagger} {b_+} - 1.0 i {{b_+}^\\dagger} {b_-} + 1.0 {b_+} {{b_+}^\\dagger} + 1.0 i {b_+} {{b_-}^\\dagger} + 1.0 i {{b_-}^\\dagger} {b_+} + {{b_-}^\\dagger} {b_-} - 1.0 i {b_-} {{b_+}^\\dagger} + {b_-} {{b_-}^\\dagger}$$"
      ],
      "text/plain": [
       "         -2.0⋅ⅈ⋅θ                                                -2.0⋅ⅈ⋅θ     \n",
       "- 1.0⋅ⅈ⋅ℯ        ⋅BosonOperator(b₊,0)⋅BosonOperator(b₋,0) - 1.0⋅ℯ        ⋅Boso\n",
       "\n",
       "               2          -2.0⋅ⅈ⋅θ                                            \n",
       "nOperator(b₊,0)  - 1.0⋅ⅈ⋅ℯ        ⋅BosonOperator(b₋,0)⋅BosonOperator(b₊,0) + ℯ\n",
       "\n",
       "-2.0⋅ⅈ⋅θ                    2          2.0⋅ⅈ⋅θ                                \n",
       "        ⋅BosonOperator(b₋,0)  + 1.0⋅ⅈ⋅ℯ       ⋅BosonOperator(b₊,1)⋅BosonOperat\n",
       "\n",
       "                2.0⋅ⅈ⋅θ                    2          2.0⋅ⅈ⋅θ                 \n",
       "or(b₋,1) - 1.0⋅ℯ       ⋅BosonOperator(b₊,1)  + 1.0⋅ⅈ⋅ℯ       ⋅BosonOperator(b₋\n",
       "\n",
       "                           2.0⋅ⅈ⋅θ                    2                       \n",
       ",1)⋅BosonOperator(b₊,1) + ℯ       ⋅BosonOperator(b₋,1)  + 1.0⋅BosonOperator(b₊\n",
       "\n",
       "                                                                              \n",
       ",0)⋅BosonOperator(b₊,1) - 1.0⋅ⅈ⋅BosonOperator(b₊,0)⋅BosonOperator(b₋,1) + 1.0⋅\n",
       "\n",
       "                                                                              \n",
       "BosonOperator(b₊,1)⋅BosonOperator(b₊,0) + 1.0⋅ⅈ⋅BosonOperator(b₊,1)⋅BosonOpera\n",
       "\n",
       "                                                                              \n",
       "tor(b₋,0) + 1.0⋅ⅈ⋅BosonOperator(b₋,0)⋅BosonOperator(b₊,1) + BosonOperator(b₋,0\n",
       "\n",
       "                                                                              \n",
       ")⋅BosonOperator(b₋,1) - 1.0⋅ⅈ⋅BosonOperator(b₋,1)⋅BosonOperator(b₊,0) + BosonO\n",
       "\n",
       "                                 \n",
       "perator(b₋,1)⋅BosonOperator(b₋,0)"
      ]
     },
     "execution_count": 10,
     "metadata": {},
     "output_type": "execute_result"
    }
   ],
   "source": [
    "fdf.expand()"
   ]
  },
  {
   "cell_type": "markdown",
   "id": "ff5b2d29",
   "metadata": {},
   "source": [
    "Now we calculate the normal order expression $:f^\\dagger f:$, with respect to the operators in the output field ($b_\\pm$)"
   ]
  },
  {
   "cell_type": "code",
   "execution_count": 11,
   "id": "d9d57484",
   "metadata": {
    "collapsed": false
   },
   "outputs": [],
   "source": [
    "fdf_normal = normal_order(fdf.expand())"
   ]
  },
  {
   "cell_type": "code",
   "execution_count": 12,
   "id": "d43ac004",
   "metadata": {
    "collapsed": false
   },
   "outputs": [
    {
     "data": {
      "image/png": "[encoded data removed]",
      "text/latex": [
       "$$- 1.0 i e^{- 2.0 i \\theta} {{b_+}^\\dagger} {{b_-}^\\dagger} - 1.0 e^{- 2.0 i \\theta} \\left({{b_+}^\\dagger}\\right)^{2} - 1.0 i e^{- 2.0 i \\theta} {{b_-}^\\dagger} {{b_+}^\\dagger} + e^{- 2.0 i \\theta} \\left({{b_-}^\\dagger}\\right)^{2} + 1.0 i e^{2.0 i \\theta} {b_+} {b_-} - 1.0 e^{2.0 i \\theta} \\left({b_+}\\right)^{2} + 1.0 i e^{2.0 i \\theta} {b_-} {b_+} + e^{2.0 i \\theta} \\left({b_-}\\right)^{2} + 2.0 {{b_+}^\\dagger} {b_+} - 2.0 i {{b_+}^\\dagger} {b_-} + 2.0 i {{b_-}^\\dagger} {b_+} + 2 {{b_-}^\\dagger} {b_-}$$"
      ],
      "text/plain": [
       "         -2.0⋅ⅈ⋅θ                                                -2.0⋅ⅈ⋅θ     \n",
       "- 1.0⋅ⅈ⋅ℯ        ⋅BosonOperator(b₊,0)⋅BosonOperator(b₋,0) - 1.0⋅ℯ        ⋅Boso\n",
       "\n",
       "               2          -2.0⋅ⅈ⋅θ                                            \n",
       "nOperator(b₊,0)  - 1.0⋅ⅈ⋅ℯ        ⋅BosonOperator(b₋,0)⋅BosonOperator(b₊,0) + ℯ\n",
       "\n",
       "-2.0⋅ⅈ⋅θ                    2          2.0⋅ⅈ⋅θ                                \n",
       "        ⋅BosonOperator(b₋,0)  + 1.0⋅ⅈ⋅ℯ       ⋅BosonOperator(b₊,1)⋅BosonOperat\n",
       "\n",
       "                2.0⋅ⅈ⋅θ                    2          2.0⋅ⅈ⋅θ                 \n",
       "or(b₋,1) - 1.0⋅ℯ       ⋅BosonOperator(b₊,1)  + 1.0⋅ⅈ⋅ℯ       ⋅BosonOperator(b₋\n",
       "\n",
       "                           2.0⋅ⅈ⋅θ                    2                       \n",
       ",1)⋅BosonOperator(b₊,1) + ℯ       ⋅BosonOperator(b₋,1)  + 2.0⋅BosonOperator(b₊\n",
       "\n",
       "                                                                              \n",
       ",0)⋅BosonOperator(b₊,1) - 2.0⋅ⅈ⋅BosonOperator(b₊,0)⋅BosonOperator(b₋,1) + 2.0⋅\n",
       "\n",
       "                                                                              \n",
       "ⅈ⋅BosonOperator(b₋,0)⋅BosonOperator(b₊,1) + 2⋅BosonOperator(b₋,0)⋅BosonOperato\n",
       "\n",
       "       \n",
       "r(b₋,1)"
      ]
     },
     "execution_count": 12,
     "metadata": {},
     "output_type": "execute_result"
    }
   ],
   "source": [
    "fdf_normal"
   ]
  },
  {
   "cell_type": "markdown",
   "id": "8b14c5f3",
   "metadata": {},
   "source": [
    "Now substitute the output field operators with the input field operators:"
   ]
  },
  {
   "cell_type": "code",
   "execution_count": 13,
   "id": "7b48eeda",
   "metadata": {
    "collapsed": false
   },
   "outputs": [
    {
     "data": {
      "image/png": "[encoded data removed]",
      "text/latex": [
       "$$1.0 i x^{2} e^{- 2.0 i \\theta} {a_+} {a_-} - 1.0 x^{2} e^{- 2.0 i \\theta} \\left({a_+}\\right)^{2} + 1.0 i x^{2} e^{- 2.0 i \\theta} {a_-} {a_+} + 1.0 x^{2} e^{- 2.0 i \\theta} \\left({a_-}\\right)^{2} - 1.0 i x^{2} e^{2.0 i \\theta} {{a_+}^\\dagger} {{a_-}^\\dagger} - 1.0 x^{2} e^{2.0 i \\theta} \\left({{a_+}^\\dagger}\\right)^{2} - 1.0 i x^{2} e^{2.0 i \\theta} {{a_-}^\\dagger} {{a_+}^\\dagger} + 1.0 x^{2} e^{2.0 i \\theta} \\left({{a_-}^\\dagger}\\right)^{2} + 2.0 x^{2} {a_+} {{a_+}^\\dagger} + 2.0 i x^{2} {a_+} {{a_-}^\\dagger} - 2.0 i x^{2} {a_-} {{a_+}^\\dagger} + 2.0 x^{2} {a_-} {{a_-}^\\dagger} - 1.0 x e^{- 2.0 i \\theta} {{a_+}^\\dagger} {a_+} + 1.0 i x e^{- 2.0 i \\theta} {{a_+}^\\dagger} {a_-} - 1.0 x e^{- 2.0 i \\theta} {a_+} {{a_+}^\\dagger} - 1.0 i x e^{- 2.0 i \\theta} {a_+} {{a_-}^\\dagger} - 1.0 i x e^{- 2.0 i \\theta} {{a_-}^\\dagger} {a_+} - 1.0 x e^{- 2.0 i \\theta} {{a_-}^\\dagger} {a_-} + 1.0 i x e^{- 2.0 i \\theta} {a_-} {{a_+}^\\dagger} - 1.0 x e^{- 2.0 i \\theta} {a_-} {{a_-}^\\dagger} - 1.0 x e^{2.0 i \\theta} {{a_+}^\\dagger} {a_+} + 1.0 i x e^{2.0 i \\theta} {{a_+}^\\dagger} {a_-} - 1.0 x e^{2.0 i \\theta} {a_+} {{a_+}^\\dagger} - 1.0 i x e^{2.0 i \\theta} {a_+} {{a_-}^\\dagger} - 1.0 i x e^{2.0 i \\theta} {{a_-}^\\dagger} {a_+} - 1.0 x e^{2.0 i \\theta} {{a_-}^\\dagger} {a_-} + 1.0 i x e^{2.0 i \\theta} {a_-} {{a_+}^\\dagger} - 1.0 x e^{2.0 i \\theta} {a_-} {{a_-}^\\dagger} + 2.0 i x {{a_+}^\\dagger} {{a_-}^\\dagger} + 2.0 x \\left({{a_+}^\\dagger}\\right)^{2} - 2.0 i x {a_+} {a_-} + 2.0 x \\left({a_+}\\right)^{2} + 2.0 i x {{a_-}^\\dagger} {{a_+}^\\dagger} - 2.0 x \\left({{a_-}^\\dagger}\\right)^{2} - 2.0 i x {a_-} {a_+} - 2.0 x \\left({a_-}\\right)^{2} - 1.0 i e^{- 2.0 i \\theta} {{a_+}^\\dagger} {{a_-}^\\dagger} - 1.0 e^{- 2.0 i \\theta} \\left({{a_+}^\\dagger}\\right)^{2} - 1.0 i e^{- 2.0 i \\theta} {{a_-}^\\dagger} {{a_+}^\\dagger} + e^{- 2.0 i \\theta} \\left({{a_-}^\\dagger}\\right)^{2} + 1.0 i e^{2.0 i \\theta} {a_+} {a_-} - 1.0 e^{2.0 i \\theta} \\left({a_+}\\right)^{2} + 1.0 i e^{2.0 i \\theta} {a_-} {a_+} + e^{2.0 i \\theta} \\left({a_-}\\right)^{2} + 2.0 {{a_+}^\\dagger} {a_+} - 2.0 i {{a_+}^\\dagger} {a_-} + 2.0 i {{a_-}^\\dagger} {a_+} + 2 {{a_-}^\\dagger} {a_-}$$"
      ],
      "text/plain": [
       "       2  -2.0⋅ⅈ⋅θ                                                2  -2.0⋅ⅈ⋅θ \n",
       "1.0⋅ⅈ⋅x ⋅ℯ        ⋅BosonOperator(a₊,1)⋅BosonOperator(a₋,1) - 1.0⋅x ⋅ℯ        ⋅\n",
       "\n",
       "                   2          2  -2.0⋅ⅈ⋅θ                                     \n",
       "BosonOperator(a₊,1)  + 1.0⋅ⅈ⋅x ⋅ℯ        ⋅BosonOperator(a₋,1)⋅BosonOperator(a₊\n",
       "\n",
       "           2  -2.0⋅ⅈ⋅θ                    2          2  2.0⋅ⅈ⋅θ               \n",
       ",1) + 1.0⋅x ⋅ℯ        ⋅BosonOperator(a₋,1)  - 1.0⋅ⅈ⋅x ⋅ℯ       ⋅BosonOperator(\n",
       "\n",
       "                                 2  2.0⋅ⅈ⋅θ                    2          2  2\n",
       "a₊,0)⋅BosonOperator(a₋,0) - 1.0⋅x ⋅ℯ       ⋅BosonOperator(a₊,0)  - 1.0⋅ⅈ⋅x ⋅ℯ \n",
       "\n",
       ".0⋅ⅈ⋅θ                                                2  2.0⋅ⅈ⋅θ              \n",
       "      ⋅BosonOperator(a₋,0)⋅BosonOperator(a₊,0) + 1.0⋅x ⋅ℯ       ⋅BosonOperator\n",
       "\n",
       "      2        2                                                  2           \n",
       "(a₋,0)  + 2.0⋅x ⋅BosonOperator(a₊,1)⋅BosonOperator(a₊,0) + 2.0⋅ⅈ⋅x ⋅BosonOpera\n",
       "\n",
       "                                       2                                      \n",
       "tor(a₊,1)⋅BosonOperator(a₋,0) - 2.0⋅ⅈ⋅x ⋅BosonOperator(a₋,1)⋅BosonOperator(a₊,\n",
       "\n",
       "          2                                                  -2.0⋅ⅈ⋅θ         \n",
       "0) + 2.0⋅x ⋅BosonOperator(a₋,1)⋅BosonOperator(a₋,0) - 1.0⋅x⋅ℯ        ⋅BosonOpe\n",
       "\n",
       "                                           -2.0⋅ⅈ⋅θ                           \n",
       "rator(a₊,0)⋅BosonOperator(a₊,1) + 1.0⋅ⅈ⋅x⋅ℯ        ⋅BosonOperator(a₊,0)⋅BosonO\n",
       "\n",
       "                       -2.0⋅ⅈ⋅θ                                               \n",
       "perator(a₋,1) - 1.0⋅x⋅ℯ        ⋅BosonOperator(a₊,1)⋅BosonOperator(a₊,0) - 1.0⋅\n",
       "\n",
       "     -2.0⋅ⅈ⋅θ                                                    -2.0⋅ⅈ⋅θ     \n",
       "ⅈ⋅x⋅ℯ        ⋅BosonOperator(a₊,1)⋅BosonOperator(a₋,0) - 1.0⋅ⅈ⋅x⋅ℯ        ⋅Boso\n",
       "\n",
       "                                             -2.0⋅ⅈ⋅θ                         \n",
       "nOperator(a₋,0)⋅BosonOperator(a₊,1) - 1.0⋅x⋅ℯ        ⋅BosonOperator(a₋,0)⋅Boso\n",
       "\n",
       "                           -2.0⋅ⅈ⋅θ                                           \n",
       "nOperator(a₋,1) + 1.0⋅ⅈ⋅x⋅ℯ        ⋅BosonOperator(a₋,1)⋅BosonOperator(a₊,0) - \n",
       "\n",
       "       -2.0⋅ⅈ⋅θ                                                  2.0⋅ⅈ⋅θ      \n",
       "1.0⋅x⋅ℯ        ⋅BosonOperator(a₋,1)⋅BosonOperator(a₋,0) - 1.0⋅x⋅ℯ       ⋅Boson\n",
       "\n",
       "                                              2.0⋅ⅈ⋅θ                         \n",
       "Operator(a₊,0)⋅BosonOperator(a₊,1) + 1.0⋅ⅈ⋅x⋅ℯ       ⋅BosonOperator(a₊,0)⋅Boso\n",
       "\n",
       "                         2.0⋅ⅈ⋅θ                                              \n",
       "nOperator(a₋,1) - 1.0⋅x⋅ℯ       ⋅BosonOperator(a₊,1)⋅BosonOperator(a₊,0) - 1.0\n",
       "\n",
       "      2.0⋅ⅈ⋅θ                                                    2.0⋅ⅈ⋅θ      \n",
       "⋅ⅈ⋅x⋅ℯ       ⋅BosonOperator(a₊,1)⋅BosonOperator(a₋,0) - 1.0⋅ⅈ⋅x⋅ℯ       ⋅Boson\n",
       "\n",
       "                                            2.0⋅ⅈ⋅θ                           \n",
       "Operator(a₋,0)⋅BosonOperator(a₊,1) - 1.0⋅x⋅ℯ       ⋅BosonOperator(a₋,0)⋅BosonO\n",
       "\n",
       "                         2.0⋅ⅈ⋅θ                                              \n",
       "perator(a₋,1) + 1.0⋅ⅈ⋅x⋅ℯ       ⋅BosonOperator(a₋,1)⋅BosonOperator(a₊,0) - 1.0\n",
       "\n",
       "    2.0⋅ⅈ⋅θ                                                                   \n",
       "⋅x⋅ℯ       ⋅BosonOperator(a₋,1)⋅BosonOperator(a₋,0) + 2.0⋅ⅈ⋅x⋅BosonOperator(a₊\n",
       "\n",
       "                                                   2                          \n",
       ",0)⋅BosonOperator(a₋,0) + 2.0⋅x⋅BosonOperator(a₊,0)  - 2.0⋅ⅈ⋅x⋅BosonOperator(a\n",
       "\n",
       "                                                    2                         \n",
       "₊,1)⋅BosonOperator(a₋,1) + 2.0⋅x⋅BosonOperator(a₊,1)  + 2.0⋅ⅈ⋅x⋅BosonOperator(\n",
       "\n",
       "                                                     2                        \n",
       "a₋,0)⋅BosonOperator(a₊,0) - 2.0⋅x⋅BosonOperator(a₋,0)  - 2.0⋅ⅈ⋅x⋅BosonOperator\n",
       "\n",
       "                                                      2          -2.0⋅ⅈ⋅θ     \n",
       "(a₋,1)⋅BosonOperator(a₊,1) - 2.0⋅x⋅BosonOperator(a₋,1)  - 1.0⋅ⅈ⋅ℯ        ⋅Boso\n",
       "\n",
       "                                           -2.0⋅ⅈ⋅θ                    2      \n",
       "nOperator(a₊,0)⋅BosonOperator(a₋,0) - 1.0⋅ℯ        ⋅BosonOperator(a₊,0)  - 1.0\n",
       "\n",
       "    -2.0⋅ⅈ⋅θ                                            -2.0⋅ⅈ⋅θ              \n",
       "⋅ⅈ⋅ℯ        ⋅BosonOperator(a₋,0)⋅BosonOperator(a₊,0) + ℯ        ⋅BosonOperator\n",
       "\n",
       "      2          2.0⋅ⅈ⋅θ                                                2.0⋅ⅈ⋅\n",
       "(a₋,0)  + 1.0⋅ⅈ⋅ℯ       ⋅BosonOperator(a₊,1)⋅BosonOperator(a₋,1) - 1.0⋅ℯ      \n",
       "\n",
       "θ                    2          2.0⋅ⅈ⋅θ                                       \n",
       " ⋅BosonOperator(a₊,1)  + 1.0⋅ⅈ⋅ℯ       ⋅BosonOperator(a₋,1)⋅BosonOperator(a₊,1\n",
       "\n",
       "     2.0⋅ⅈ⋅θ                    2                                             \n",
       ") + ℯ       ⋅BosonOperator(a₋,1)  + 2.0⋅BosonOperator(a₊,0)⋅BosonOperator(a₊,1\n",
       "\n",
       "                                                                              \n",
       ") - 2.0⋅ⅈ⋅BosonOperator(a₊,0)⋅BosonOperator(a₋,1) + 2.0⋅ⅈ⋅BosonOperator(a₋,0)⋅\n",
       "\n",
       "                                                               \n",
       "BosonOperator(a₊,1) + 2⋅BosonOperator(a₋,0)⋅BosonOperator(a₋,1)"
      ]
     },
     "execution_count": 13,
     "metadata": {},
     "output_type": "execute_result"
    }
   ],
   "source": [
    "fdf_1 = fdf_normal.expand().subs({bm: bm_sub, Dagger(bm): bmd_sub, bp: bp_sub, Dagger(bp): bpd_sub}).expand()\n",
    "\n",
    "fdf_1"
   ]
  },
  {
   "cell_type": "markdown",
   "id": "ca5c428a",
   "metadata": {},
   "source": [
    "Write all input operators in normal ordered form:"
   ]
  },
  {
   "cell_type": "code",
   "execution_count": 14,
   "id": "2a2c1ac2",
   "metadata": {
    "collapsed": false
   },
   "outputs": [
    {
     "data": {
      "image/png": "[encoded data removed]",
      "text/latex": [
       "$$1.0 i x^{2} e^{- 2.0 i \\theta} {a_+} {a_-} - 1.0 x^{2} e^{- 2.0 i \\theta} \\left({a_+}\\right)^{2} + 1.0 i x^{2} e^{- 2.0 i \\theta} {a_-} {a_+} + 1.0 x^{2} e^{- 2.0 i \\theta} \\left({a_-}\\right)^{2} - 1.0 i x^{2} e^{2.0 i \\theta} {{a_+}^\\dagger} {{a_-}^\\dagger} - 1.0 x^{2} e^{2.0 i \\theta} \\left({{a_+}^\\dagger}\\right)^{2} - 1.0 i x^{2} e^{2.0 i \\theta} {{a_-}^\\dagger} {{a_+}^\\dagger} + 1.0 x^{2} e^{2.0 i \\theta} \\left({{a_-}^\\dagger}\\right)^{2} + 4.0 x^{2} + 2.0 x^{2} {{a_+}^\\dagger} {a_+} - 2.0 i x^{2} {{a_+}^\\dagger} {a_-} + 2.0 i x^{2} {{a_-}^\\dagger} {a_+} + 2.0 x^{2} {{a_-}^\\dagger} {a_-} - 2.0 x e^{- 2.0 i \\theta} - 2.0 x e^{- 2.0 i \\theta} {{a_+}^\\dagger} {a_+} + 2.0 i x e^{- 2.0 i \\theta} {{a_+}^\\dagger} {a_-} - 2.0 i x e^{- 2.0 i \\theta} {{a_-}^\\dagger} {a_+} - 2.0 x e^{- 2.0 i \\theta} {{a_-}^\\dagger} {a_-} - 2.0 x e^{2.0 i \\theta} - 2.0 x e^{2.0 i \\theta} {{a_+}^\\dagger} {a_+} + 2.0 i x e^{2.0 i \\theta} {{a_+}^\\dagger} {a_-} - 2.0 i x e^{2.0 i \\theta} {{a_-}^\\dagger} {a_+} - 2.0 x e^{2.0 i \\theta} {{a_-}^\\dagger} {a_-} + 2.0 i x {{a_+}^\\dagger} {{a_-}^\\dagger} + 2.0 x \\left({{a_+}^\\dagger}\\right)^{2} - 2.0 i x {a_+} {a_-} + 2.0 x \\left({a_+}\\right)^{2} + 2.0 i x {{a_-}^\\dagger} {{a_+}^\\dagger} - 2.0 x \\left({{a_-}^\\dagger}\\right)^{2} - 2.0 i x {a_-} {a_+} - 2.0 x \\left({a_-}\\right)^{2} - 1.0 i e^{- 2.0 i \\theta} {{a_+}^\\dagger} {{a_-}^\\dagger} - 1.0 e^{- 2.0 i \\theta} \\left({{a_+}^\\dagger}\\right)^{2} - 1.0 i e^{- 2.0 i \\theta} {{a_-}^\\dagger} {{a_+}^\\dagger} + e^{- 2.0 i \\theta} \\left({{a_-}^\\dagger}\\right)^{2} + 1.0 i e^{2.0 i \\theta} {a_+} {a_-} - 1.0 e^{2.0 i \\theta} \\left({a_+}\\right)^{2} + 1.0 i e^{2.0 i \\theta} {a_-} {a_+} + e^{2.0 i \\theta} \\left({a_-}\\right)^{2} + 2.0 {{a_+}^\\dagger} {a_+} - 2.0 i {{a_+}^\\dagger} {a_-} + 2.0 i {{a_-}^\\dagger} {a_+} + 2 {{a_-}^\\dagger} {a_-}$$"
      ],
      "text/plain": [
       "       2  -2.0⋅ⅈ⋅θ                                                2  -2.0⋅ⅈ⋅θ \n",
       "1.0⋅ⅈ⋅x ⋅ℯ        ⋅BosonOperator(a₊,1)⋅BosonOperator(a₋,1) - 1.0⋅x ⋅ℯ        ⋅\n",
       "\n",
       "                   2          2  -2.0⋅ⅈ⋅θ                                     \n",
       "BosonOperator(a₊,1)  + 1.0⋅ⅈ⋅x ⋅ℯ        ⋅BosonOperator(a₋,1)⋅BosonOperator(a₊\n",
       "\n",
       "           2  -2.0⋅ⅈ⋅θ                    2          2  2.0⋅ⅈ⋅θ               \n",
       ",1) + 1.0⋅x ⋅ℯ        ⋅BosonOperator(a₋,1)  - 1.0⋅ⅈ⋅x ⋅ℯ       ⋅BosonOperator(\n",
       "\n",
       "                                 2  2.0⋅ⅈ⋅θ                    2          2  2\n",
       "a₊,0)⋅BosonOperator(a₋,0) - 1.0⋅x ⋅ℯ       ⋅BosonOperator(a₊,0)  - 1.0⋅ⅈ⋅x ⋅ℯ \n",
       "\n",
       ".0⋅ⅈ⋅θ                                                2  2.0⋅ⅈ⋅θ              \n",
       "      ⋅BosonOperator(a₋,0)⋅BosonOperator(a₊,0) + 1.0⋅x ⋅ℯ       ⋅BosonOperator\n",
       "\n",
       "      2        2        2                                                  2  \n",
       "(a₋,0)  + 4.0⋅x  + 2.0⋅x ⋅BosonOperator(a₊,0)⋅BosonOperator(a₊,1) - 2.0⋅ⅈ⋅x ⋅B\n",
       "\n",
       "                                                2                             \n",
       "osonOperator(a₊,0)⋅BosonOperator(a₋,1) + 2.0⋅ⅈ⋅x ⋅BosonOperator(a₋,0)⋅BosonOpe\n",
       "\n",
       "                   2                                                  -2.0⋅ⅈ⋅θ\n",
       "rator(a₊,1) + 2.0⋅x ⋅BosonOperator(a₋,0)⋅BosonOperator(a₋,1) - 2.0⋅x⋅ℯ        \n",
       "\n",
       "          -2.0⋅ⅈ⋅θ                                                    -2.0⋅ⅈ⋅θ\n",
       " - 2.0⋅x⋅ℯ        ⋅BosonOperator(a₊,0)⋅BosonOperator(a₊,1) + 2.0⋅ⅈ⋅x⋅ℯ        \n",
       "\n",
       "                                                    -2.0⋅ⅈ⋅θ                  \n",
       "⋅BosonOperator(a₊,0)⋅BosonOperator(a₋,1) - 2.0⋅ⅈ⋅x⋅ℯ        ⋅BosonOperator(a₋,\n",
       "\n",
       "                                -2.0⋅ⅈ⋅θ                                      \n",
       "0)⋅BosonOperator(a₊,1) - 2.0⋅x⋅ℯ        ⋅BosonOperator(a₋,0)⋅BosonOperator(a₋,\n",
       "\n",
       "            2.0⋅ⅈ⋅θ          2.0⋅ⅈ⋅θ                                          \n",
       "1) - 2.0⋅x⋅ℯ        - 2.0⋅x⋅ℯ       ⋅BosonOperator(a₊,0)⋅BosonOperator(a₊,1) +\n",
       "\n",
       "          2.0⋅ⅈ⋅θ                                                    2.0⋅ⅈ⋅θ  \n",
       " 2.0⋅ⅈ⋅x⋅ℯ       ⋅BosonOperator(a₊,0)⋅BosonOperator(a₋,1) - 2.0⋅ⅈ⋅x⋅ℯ       ⋅B\n",
       "\n",
       "                                                2.0⋅ⅈ⋅θ                       \n",
       "osonOperator(a₋,0)⋅BosonOperator(a₊,1) - 2.0⋅x⋅ℯ       ⋅BosonOperator(a₋,0)⋅Bo\n",
       "\n",
       "                                                                              \n",
       "sonOperator(a₋,1) + 2.0⋅ⅈ⋅x⋅BosonOperator(a₊,0)⋅BosonOperator(a₋,0) + 2.0⋅x⋅Bo\n",
       "\n",
       "                 2                                                            \n",
       "sonOperator(a₊,0)  - 2.0⋅ⅈ⋅x⋅BosonOperator(a₊,1)⋅BosonOperator(a₋,1) + 2.0⋅x⋅B\n",
       "\n",
       "                  2                                                           \n",
       "osonOperator(a₊,1)  + 2.0⋅ⅈ⋅x⋅BosonOperator(a₋,0)⋅BosonOperator(a₊,0) - 2.0⋅x⋅\n",
       "\n",
       "                   2                                                          \n",
       "BosonOperator(a₋,0)  - 2.0⋅ⅈ⋅x⋅BosonOperator(a₋,1)⋅BosonOperator(a₊,1) - 2.0⋅x\n",
       "\n",
       "                    2          -2.0⋅ⅈ⋅θ                                       \n",
       "⋅BosonOperator(a₋,1)  - 1.0⋅ⅈ⋅ℯ        ⋅BosonOperator(a₊,0)⋅BosonOperator(a₋,0\n",
       "\n",
       "         -2.0⋅ⅈ⋅θ                    2          -2.0⋅ⅈ⋅θ                      \n",
       ") - 1.0⋅ℯ        ⋅BosonOperator(a₊,0)  - 1.0⋅ⅈ⋅ℯ        ⋅BosonOperator(a₋,0)⋅B\n",
       "\n",
       "                      -2.0⋅ⅈ⋅θ                    2          2.0⋅ⅈ⋅θ          \n",
       "osonOperator(a₊,0) + ℯ        ⋅BosonOperator(a₋,0)  + 1.0⋅ⅈ⋅ℯ       ⋅BosonOper\n",
       "\n",
       "                                      2.0⋅ⅈ⋅θ                    2          2.\n",
       "ator(a₊,1)⋅BosonOperator(a₋,1) - 1.0⋅ℯ       ⋅BosonOperator(a₊,1)  + 1.0⋅ⅈ⋅ℯ  \n",
       "\n",
       "0⋅ⅈ⋅θ                                            2.0⋅ⅈ⋅θ                    2 \n",
       "     ⋅BosonOperator(a₋,1)⋅BosonOperator(a₊,1) + ℯ       ⋅BosonOperator(a₋,1)  \n",
       "\n",
       "                                                                              \n",
       "+ 2.0⋅BosonOperator(a₊,0)⋅BosonOperator(a₊,1) - 2.0⋅ⅈ⋅BosonOperator(a₊,0)⋅Boso\n",
       "\n",
       "                                                                              \n",
       "nOperator(a₋,1) + 2.0⋅ⅈ⋅BosonOperator(a₋,0)⋅BosonOperator(a₊,1) + 2⋅BosonOpera\n",
       "\n",
       "                             \n",
       "tor(a₋,0)⋅BosonOperator(a₋,1)"
      ]
     },
     "execution_count": 14,
     "metadata": {},
     "output_type": "execute_result"
    }
   ],
   "source": [
    "fdf_2 = normal_ordered_form(fdf_1.expand(), independent=True)\n",
    "\n",
    "fdf_2"
   ]
  },
  {
   "cell_type": "markdown",
   "id": "aa642bff",
   "metadata": {},
   "source": [
    "### Assume thermal input field"
   ]
  },
  {
   "cell_type": "markdown",
   "id": "192b1d64",
   "metadata": {},
   "source": [
    "Elimitate operators that do not contribute to expectation values assuming thermal input field. The only operators that contribute are $a_-^\\dagger a_-$ and $a_+^\\dagger a_+$, and expressions such as for example $\\langle a_-a_-\\rangle = 0$."
   ]
  },
  {
   "cell_type": "code",
   "execution_count": 15,
   "id": "6f35a69e",
   "metadata": {
    "collapsed": false
   },
   "outputs": [
    {
     "data": {
      "image/png": "[encoded data removed]",
      "text/latex": [
       "$$4.0 x^{2} + 2.0 x^{2} {{a_+}^\\dagger} {a_+} + 2.0 x^{2} {{a_-}^\\dagger} {a_-} - 2.0 x e^{- 2.0 i \\theta} - 2.0 x e^{- 2.0 i \\theta} {{a_+}^\\dagger} {a_+} - 2.0 x e^{- 2.0 i \\theta} {{a_-}^\\dagger} {a_-} - 2.0 x e^{2.0 i \\theta} - 2.0 x e^{2.0 i \\theta} {{a_+}^\\dagger} {a_+} - 2.0 x e^{2.0 i \\theta} {{a_-}^\\dagger} {a_-} + 2.0 {{a_+}^\\dagger} {a_+} + 2 {{a_-}^\\dagger} {a_-}$$"
      ],
      "text/plain": [
       "     2        2                                                2              \n",
       "4.0⋅x  + 2.0⋅x ⋅BosonOperator(a₊,0)⋅BosonOperator(a₊,1) + 2.0⋅x ⋅BosonOperator\n",
       "\n",
       "                                    -2.0⋅ⅈ⋅θ          -2.0⋅ⅈ⋅θ                \n",
       "(a₋,0)⋅BosonOperator(a₋,1) - 2.0⋅x⋅ℯ         - 2.0⋅x⋅ℯ        ⋅BosonOperator(a\n",
       "\n",
       "                                  -2.0⋅ⅈ⋅θ                                    \n",
       "₊,0)⋅BosonOperator(a₊,1) - 2.0⋅x⋅ℯ        ⋅BosonOperator(a₋,0)⋅BosonOperator(a\n",
       "\n",
       "              2.0⋅ⅈ⋅θ          2.0⋅ⅈ⋅θ                                        \n",
       "₋,1) - 2.0⋅x⋅ℯ        - 2.0⋅x⋅ℯ       ⋅BosonOperator(a₊,0)⋅BosonOperator(a₊,1)\n",
       "\n",
       "          2.0⋅ⅈ⋅θ                                                             \n",
       " - 2.0⋅x⋅ℯ       ⋅BosonOperator(a₋,0)⋅BosonOperator(a₋,1) + 2.0⋅BosonOperator(\n",
       "\n",
       "                                                                     \n",
       "a₊,0)⋅BosonOperator(a₊,1) + 2⋅BosonOperator(a₋,0)⋅BosonOperator(a₋,1)"
      ]
     },
     "execution_count": 15,
     "metadata": {},
     "output_type": "execute_result"
    }
   ],
   "source": [
    "# assume thermal input: first remove nonthermal operator combinations\n",
    "fdf_3 = fdf_2.subs({am**2: 0, ap**2: 0,\n",
    "                    ap*am: 0, am*ap: 0, \n",
    "                    Dagger(ap) * am: 0, Dagger(am) * ap: 0, \n",
    "                    Dagger(ap) * Dagger(am): 0, Dagger(am) * Dagger(ap): 0, \n",
    "                    Dagger(ap)**2: 0, \n",
    "                    Dagger(am)**2: 0})\n",
    "\n",
    "fdf_3"
   ]
  },
  {
   "cell_type": "markdown",
   "id": "3b1420ab",
   "metadata": {},
   "source": [
    "Now replace the operators that do contibute with their expectation values:\n",
    "\n",
    "$$\n",
    "\\langle a_-^\\dagger a_-\\rangle = n_{\\rm th}^-\n",
    "$$\n",
    "\n",
    "$$\n",
    "\\langle a_+^\\dagger a_+\\rangle = n_{\\rm th}^+\n",
    "$$"
   ]
  },
  {
   "cell_type": "code",
   "execution_count": 16,
   "id": "68b1af5c",
   "metadata": {
    "collapsed": false
   },
   "outputs": [],
   "source": [
    "n_th_m, n_th_p = symbols(\"{n^-_{th}}, {n^+_{th}}\", positive=True)"
   ]
  },
  {
   "cell_type": "code",
   "execution_count": 17,
   "id": "80171aa9",
   "metadata": {
    "collapsed": false
   },
   "outputs": [
    {
     "data": {
      "image/png": "[encoded data removed]",
      "text/latex": [
       "$$2.0 x^{2} {n^{+}_{{th}}} + 2.0 x^{2} {n^{-}_{{th}}} + 4.0 x^{2} - 2.0 x {n^{+}_{{th}}} e^{- 2.0 i \\theta} - 2.0 x {n^{+}_{{th}}} e^{2.0 i \\theta} - 2.0 x {n^{-}_{{th}}} e^{- 2.0 i \\theta} - 2.0 x {n^{-}_{{th}}} e^{2.0 i \\theta} - 2.0 x e^{- 2.0 i \\theta} - 2.0 x e^{2.0 i \\theta} + 2.0 {n^{+}_{{th}}} + 2 {n^{-}_{{th}}}$$"
      ],
      "text/plain": [
       "     2                    2                    2                      -2.0⋅ⅈ⋅θ\n",
       "2.0⋅x ⋅{n_{th}}__+ + 2.0⋅x ⋅{n_{th}}__- + 4.0⋅x  - 2.0⋅x⋅{n_{th}}__+⋅ℯ        \n",
       "\n",
       "                      2.0⋅ⅈ⋅θ                      -2.0⋅ⅈ⋅θ                   \n",
       " - 2.0⋅x⋅{n_{th}}__+⋅ℯ        - 2.0⋅x⋅{n_{th}}__-⋅ℯ         - 2.0⋅x⋅{n_{th}}__\n",
       "\n",
       "   2.0⋅ⅈ⋅θ          -2.0⋅ⅈ⋅θ          2.0⋅ⅈ⋅θ                                 \n",
       "-⋅ℯ        - 2.0⋅x⋅ℯ         - 2.0⋅x⋅ℯ        + 2.0⋅{n_{th}}__+ + 2⋅{n_{th}}__\n",
       "\n",
       " \n",
       "-"
      ]
     },
     "execution_count": 17,
     "metadata": {},
     "output_type": "execute_result"
    }
   ],
   "source": [
    "# thermal operator combinations \n",
    "fdf_4 = fdf_3.subs({Dagger(am) * am: n_th_m, Dagger(ap) * ap: n_th_p})\n",
    "\n",
    "fdf_4"
   ]
  },
  {
   "cell_type": "markdown",
   "id": "16d51348",
   "metadata": {},
   "source": [
    "Replace $e^{\\pm i\\theta}$ with trigonometric expressions, and simplify the expression:"
   ]
  },
  {
   "cell_type": "code",
   "execution_count": 18,
   "id": "e11926cb",
   "metadata": {
    "collapsed": false
   },
   "outputs": [
    {
     "data": {
      "image/png": "[encoded data removed]",
      "text/latex": [
       "$$x^{2} \\left(2.0 {n^{+}_{{th}}} + 2.0 {n^{-}_{{th}}} + 4.0\\right) - 4.0 x \\left({n^{+}_{{th}}} + {n^{-}_{{th}}} + 1\\right) \\cos{\\left (2 \\theta \\right )} + 2.0 {n^{+}_{{th}}} + 2.0 {n^{-}_{{th}}}$$"
      ],
      "text/plain": [
       " 2                                                                            \n",
       "x ⋅(2.0⋅{n_{th}}__+ + 2.0⋅{n_{th}}__- + 4.0) - 4.0⋅x⋅({n_{th}}__+ + {n_{th}}__\n",
       "\n",
       "                                                   \n",
       "- + 1)⋅cos(2⋅θ) + 2.0⋅{n_{th}}__+ + 2.0⋅{n_{th}}__-"
      ]
     },
     "execution_count": 18,
     "metadata": {},
     "output_type": "execute_result"
    }
   ],
   "source": [
    "fdf_5 = fdf_4.collect(x).replace(exp(2j*theta), cos(2*theta) + 1j * sin(2*theta)).\\\n",
    "                         replace(exp(-2j*theta), cos(2*theta) - 1j * sin(2*theta))\n",
    "    \n",
    "fdf_6 = fdf_5.simplify().collect(cos(2*theta)).collect(x).simplify()\n",
    "\n",
    "fdf_6"
   ]
  },
  {
   "cell_type": "markdown",
   "id": "5b11f199",
   "metadata": {},
   "source": [
    "Drop the $x^2$ term because our relation between the output field and input field is only valid to first order in $x$:"
   ]
  },
  {
   "cell_type": "code",
   "execution_count": 19,
   "id": "707fab2c",
   "metadata": {
    "collapsed": false
   },
   "outputs": [
    {
     "data": {
      "image/png": "[encoded data removed]",
      "text/latex": [
       "$$- 4.0 x \\left({n^{+}_{{th}}} + {n^{-}_{{th}}} + 1\\right) \\cos{\\left (2 \\theta \\right )} + 2.0 {n^{+}_{{th}}} + 2.0 {n^{-}_{{th}}}$$"
      ],
      "text/plain": [
       "-4.0⋅x⋅({n_{th}}__+ + {n_{th}}__- + 1)⋅cos(2⋅θ) + 2.0⋅{n_{th}}__+ + 2.0⋅{n_{th\n",
       "}}__-"
      ]
     },
     "execution_count": 19,
     "metadata": {},
     "output_type": "execute_result"
    }
   ],
   "source": [
    "fdf_7 = fdf_6.subs(x**2, 0)\n",
    "\n",
    "fdf_7"
   ]
  },
  {
   "cell_type": "markdown",
   "id": "c4fac2c2",
   "metadata": {},
   "source": [
    "Substitute the small parameter $x$ with the physical parameters it represents:"
   ]
  },
  {
   "cell_type": "code",
   "execution_count": 20,
   "id": "76403159",
   "metadata": {
    "collapsed": false
   },
   "outputs": [
    {
     "data": {
      "image/png": "[encoded data removed]",
      "text/latex": [
       "$$2.0 {n^{+}_{{th}}} + 2.0 {n^{-}_{{th}}} - \\frac{4.0 {\\delta\\!L}}{v} \\sqrt{\\omega_{+} \\omega_{-}} \\left({n^{+}_{{th}}} + {n^{-}_{{th}}} + 1\\right) \\cos{\\left (2 \\theta \\right )}$$"
      ],
      "text/plain": [
       "                                                      _______                 \n",
       "                                    4.0⋅{\\delta\\!L}⋅╲╱ ω₊⋅ω₋ ⋅({n_{th}}__+ + {\n",
       "2.0⋅{n_{th}}__+ + 2.0⋅{n_{th}}__- - ──────────────────────────────────────────\n",
       "                                                                    v         \n",
       "\n",
       "                        \n",
       "n_{th}}__- + 1)⋅cos(2⋅θ)\n",
       "────────────────────────\n",
       "                        "
      ]
     },
     "execution_count": 20,
     "metadata": {},
     "output_type": "execute_result"
    }
   ],
   "source": [
    "fdf_8 = fdf_7.subs(x**2, 0).subs(x, dL/v * sqrt(wp * wm))\n",
    "\n",
    "fdf_8"
   ]
  },
  {
   "cell_type": "markdown",
   "id": "b997d95e",
   "metadata": {},
   "source": [
    "This is equation 14 in Phys. Rev. A 87, 043804 (2013).\n",
    "\n",
    "The interesting regime is when this expression is negative, because it indicates that there are nonclassical correlations between the quadrature at the different frequencies $\\omega_\\pm$. It is clear that $\\theta = 0$ minimizes the expression, and that for finite temperature the expression is initially positive (the prefactor to the other term is small). We can find the transition point from positive to negative by solving $\\langle:f^\\dagger f:\\rangle = 0$ for $x = \\frac{\\delta\\!L_{\\rm eff}}{v}\\sqrt{\\omega_-\\omega_+}$:"
   ]
  },
  {
   "cell_type": "code",
   "execution_count": 21,
   "id": "23bbf125",
   "metadata": {
    "collapsed": false
   },
   "outputs": [
    {
     "data": {
      "image/png": "[encoded data removed]",
      "text/latex": [
       "$$- 4.0 x \\left({n^{+}_{{th}}} + {n^{-}_{{th}}} + 1\\right) + 2.0 {n^{+}_{{th}}} + 2.0 {n^{-}_{{th}}}$$"
      ],
      "text/plain": [
       "-4.0⋅x⋅({n_{th}}__+ + {n_{th}}__- + 1) + 2.0⋅{n_{th}}__+ + 2.0⋅{n_{th}}__-"
      ]
     },
     "execution_count": 21,
     "metadata": {},
     "output_type": "execute_result"
    }
   ],
   "source": [
    "# switch back to using x as small paramter, and set theta = 0\n",
    "fdf_9 = fdf_8.subs(dL/v * sqrt(wp*wm), x).subs(theta, 0)\n",
    "\n",
    "fdf_9"
   ]
  },
  {
   "cell_type": "code",
   "execution_count": 22,
   "id": "6d87248c",
   "metadata": {
    "collapsed": false
   },
   "outputs": [
    {
     "data": {
      "image/png": "[encoded data removed]",
      "text/latex": [
       "$$\\frac{0.5 {n^{+}_{{th}}} + 0.5 {n^{-}_{{th}}}}{{n^{+}_{{th}}} + {n^{-}_{{th}}} + 1.0}$$"
      ],
      "text/plain": [
       "0.5⋅({n_{th}}__+ + {n_{th}}__-)\n",
       "───────────────────────────────\n",
       "{n_{th}}__+ + {n_{th}}__- + 1.0"
      ]
     },
     "execution_count": 22,
     "metadata": {},
     "output_type": "execute_result"
    }
   ],
   "source": [
    "fdf_neg = solve(fdf_9, x)[0]\n",
    "\n",
    "fdf_neg"
   ]
  },
  {
   "cell_type": "markdown",
   "id": "6cba9c70",
   "metadata": {},
   "source": [
    "Which in the low tempeature case ($n_{\\rm th}^+ + n_{\\rm th}^- \\ll 1$)  simply gives\n",
    "\n",
    "$$\n",
    "\\frac{\\delta\\!L_{\\rm eff}}{v}\\sqrt{\\omega_-\\omega_+} > \\sim (n_{\\rm th}^+ + n_{\\rm th}^-)/2\n",
    "$$\n",
    "\n",
    "as a condition for when the output field becomes nonclassical."
   ]
  },
  {
   "cell_type": "markdown",
   "id": "1dc7e3f4",
   "metadata": {},
   "source": [
    "## Versions"
   ]
  },
  {
   "cell_type": "code",
   "execution_count": 23,
   "id": "a031a375",
   "metadata": {
    "collapsed": false
   },
   "outputs": [
    {
     "data": {
      "application/json": {
       "Software versions": [
        {
         "module": "Python",
         "version": "3.3.2+ (default, Oct  9 2013, 14:50:09) [GCC 4.8.1]"
        },
        {
         "module": "IPython",
         "version": "1.1.0"
        },
        {
         "module": "OS",
         "version": "posix [linux]"
        },
        {
         "module": "sympy",
         "version": "0.7.4.1-git"
        }
       ]
      },
      "text/html": [
       "<table><tr><th>Software</th><th>Version</th></tr><tr><td>Python</td><td>3.3.2+ (default, Oct  9 2013, 14:50:09) [GCC 4.8.1]</td></tr><tr><td>IPython</td><td>1.1.0</td></tr><tr><td>OS</td><td>posix [linux]</td></tr><tr><td>sympy</td><td>0.7.4.1-git</td></tr><tr><td colspan='2'>Wed Dec 18 14:05:32 2013 KST</td></tr></table>"
      ],
      "text/latex": [
       "\\begin{tabular}{|l|l|}\\hline\n",
       "{\\bf Software} & {\\bf Version} \\\\ \\hline\\hline\n",
       "Python & 3.3.2+ (default, Oct  9 2013, 14:50:09) [GCC 4.8.1] \\\\ \\hline\n",
       "IPython & 1.1.0 \\\\ \\hline\n",
       "OS & posix [linux] \\\\ \\hline\n",
       "sympy & 0.7.4.1-git \\\\ \\hline\n",
       "\\hline \\multicolumn{2}{|l|}{Wed Dec 18 14:05:32 2013 KST} \\\\ \\hline\n",
       "\\end{tabular}\n"
      ],
      "text/plain": [
       "Software versions\n",
       "Python 3.3.2+ (default, Oct  9 2013, 14:50:09) [GCC 4.8.1]\n",
       "IPython 1.1.0\n",
       "OS posix [linux]\n",
       "sympy 0.7.4.1-git\n",
       "\n",
       "Wed Dec 18 14:05:32 2013 KST"
      ]
     },
     "execution_count": 23,
     "metadata": {},
     "output_type": "execute_result"
    }
   ],
   "source": [
    "#%install_ext http://raw.github.com/jrjohansson/version_information/master/version_information.py\n",
    "%reload_ext version_information\n",
    "\n",
    "%version_information sympy"
   ]
  }
 ],
 "metadata": {},
 "nbformat": 4,
 "nbformat_minor": 5
}

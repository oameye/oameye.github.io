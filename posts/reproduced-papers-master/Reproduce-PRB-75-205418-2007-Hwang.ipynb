{
 "cells": [
  {
   "cell_type": "markdown",
   "metadata": {},
   "source": [
    "# Reproduce: Dielectric function, screening, and plasmons in two-dimensional graphene"
   ]
  },
  {
   "cell_type": "markdown",
   "metadata": {},
   "source": [
    "E. H. Hwang and S. Das Sarma, <i>Dielectric function, screening, and plasmons in two-dimensional graphene</i>, Phys. Rev. B <strong>75</strong>, 205418 (2007)."
   ]
  },
  {
   "cell_type": "markdown",
   "metadata": {},
   "source": [
    "Reproduced by <strong>Eunjong Kim</strong> (ekim7206@gmail.com)"
   ]
  },
  {
   "cell_type": "code",
   "execution_count": 1,
   "metadata": {
    "collapsed": true
   },
   "outputs": [],
   "source": [
    "from numpy import *\n",
    "from scipy.integrate import dblquad\n",
    "from scipy.optimize import newton\n",
    "import matplotlib\n",
    "import matplotlib.pyplot as plt"
   ]
  },
  {
   "cell_type": "code",
   "execution_count": 2,
   "metadata": {
    "collapsed": false
   },
   "outputs": [],
   "source": [
    "import warnings\n",
    "warnings.filterwarnings(\"ignore\")"
   ]
  },
  {
   "cell_type": "code",
   "execution_count": 3,
   "metadata": {
    "collapsed": false
   },
   "outputs": [],
   "source": [
    "%matplotlib inline\n",
    "\n",
    "# matplotlib setup\n",
    "matplotlib.rcParams['font.size'] = 18\n",
    "matplotlib.rcParams['text.usetex'] = True"
   ]
  },
  {
   "cell_type": "markdown",
   "metadata": {},
   "source": [
    "Unlike conventional 2D systems with quadratic dispersion, the graphene shows a linear energy-momentum relation \n",
    "$$\\varepsilon_{\\mathbf{k}s} = s\\hbar v_\\mathrm{F} |\\mathbf{k}| $$\n",
    "near the $K, K'$ points of the Brillouin zone. Here, $v_\\mathrm{F}$ is the 2D Fermi velocity and $s=\\pm1$ is the band index. Based on this linear relation, the dynamical screening function (dielectric function) can be obtained using the random-phase approximation (RPA):\n",
    "$$\\epsilon^\\mathrm{RPA}(\\mathbf{q},\\omega) = 1 - v_\\mathrm{C}(\\mathbf{q})\\chi_0(\\mathbf{q},\\omega)$$\n",
    "where $v_\\mathrm{C}(\\mathbf{q}) = 2\\pi e^2/\\kappa q$ is the 2D Coulomb potential in the momentum space."
   ]
  },
  {
   "cell_type": "code",
   "execution_count": 4,
   "metadata": {
    "collapsed": true
   },
   "outputs": [],
   "source": [
    "def energy(k, phi, q, s):\n",
    "    '''\n",
    "    Linear energy dispersion near the K point of the momentum space\n",
    "    '''\n",
    "    return (s * sqrt(k ** 2 + q ** 2 + 2 * k * q * cos(phi)))"
   ]
  },
  {
   "cell_type": "code",
   "execution_count": 5,
   "metadata": {
    "collapsed": true
   },
   "outputs": [],
   "source": [
    "q_e = 1.60217662e-19 * 2.9979245800e9   # charge of an electron in units of Coulomb\n",
    "kappa = 2.5\n",
    "\n",
    "def v_c(q):\n",
    "    '''\n",
    "    Coulomb potential in momentum space in Gaussian units (CGS)\n",
    "    '''\n",
    "    return 2 * pi * q_e ** 2 / (kappa * abs(q))"
   ]
  },
  {
   "cell_type": "markdown",
   "metadata": {},
   "source": [
    "$\\chi_0 (\\mathbf{q},\\omega)$ is the non-interacting density-density response function given by\n",
    "$$\\chi_0(\\mathbf{q},\\omega) = g_s g_v\\sum_{s,s' = \\pm 1} \\int \\frac{d^2 k}{(2\\pi)^2} \\frac{f_{\\mathbf{k},s} - f_{\\mathbf{k+q},s'}}{\\hbar \\omega + \\varepsilon_{\\mathbf{k},s} - \\varepsilon_{\\mathbf{k+q},s'}+i\\eta} F_{s, s'}(\\mathbf{k},\\mathbf{k+q}),$$\n",
    "where $g_s=g_v=2$ denote the spin and valley degeneracies and $\\eta\\rightarrow 0^+$ is an infinitesimal positive number. $F_{s,s'}(\\mathbf{k},\\mathbf{k}')= (1 + ss'\\cos{\\theta_{\\mathbf{k},\\mathbf{k}'}})/2$ is the overlap between wavefunctions with $\\theta_{\\mathbf{k},\\mathbf{k}'}$ being the angle between vectors $\\mathbf{k}$ and $\\mathbf{k}'$. Here, $f_{\\mathbf{k}, s}$ is the Fermi distribution function."
   ]
  },
  {
   "cell_type": "markdown",
   "metadata": {},
   "source": [
    "The non-interacting density-density response function $\\chi_0$ can be decomposed into two parts, $\\chi_0 = \\chi^{+}_0 + \\chi^{-}_0$, with"
   ]
  },
  {
   "cell_type": "markdown",
   "metadata": {},
   "source": [
    "$$\\chi^{+}_0(\\mathbf{q}, \\omega) = \\frac{g_s g_v}{2} \\int \\frac{d^{2}k}{(2\\pi)^2}\\left[\\frac{(f_{\\mathbf{k},+} - f_{\\mathbf{k+q},+})(1 + \\cos{\\theta_{\\mathbf{k},\\mathbf{k+q}}})}{\\hbar\\omega + \\varepsilon_{\\mathbf{k},+}-\\varepsilon_{\\mathbf{k+q},+} + i\\eta}\n",
    "+\\frac{f_{\\mathbf{k},+} (1 - \\cos{\\theta_{\\mathbf{k},\\mathbf{k+q}}})}{\\hbar\\omega + \\varepsilon_{\\mathbf{k},+}-\\varepsilon_{\\mathbf{k+q},-} + i\\eta} \n",
    "-\\frac{f_{\\mathbf{k+q},+}(1 - \\cos{\\theta_{\\mathbf{k},\\mathbf{k+q}}})}{\\hbar\\omega + \\varepsilon_{\\mathbf{k},-}-\\varepsilon_{\\mathbf{k+q},+} + i\\eta}\\right],$$"
   ]
  },
  {
   "cell_type": "markdown",
   "metadata": {},
   "source": [
    "$$\\chi^{-}_0(\\mathbf{q}, \\omega) = \\frac{g_s g_v}{2} \\int \\frac{d^{2}k}{(2\\pi)^2}\\left[\\frac{(f_{\\mathbf{k},-} - f_{\\mathbf{k+q},-})(1 + \\cos{\\theta_{\\mathbf{k},\\mathbf{k+q}}})}{\\hbar\\omega + \\varepsilon_{\\mathbf{k},-}-\\varepsilon_{\\mathbf{k+q},-} + i\\eta}\n",
    "+\\frac{f_{\\mathbf{k},-} (1 - \\cos{\\theta_{\\mathbf{k},\\mathbf{k+q}}})}{\\hbar\\omega + \\varepsilon_{\\mathbf{k},-}-\\varepsilon_{\\mathbf{k+q},+} + i\\eta} \n",
    "-\\frac{f_{\\mathbf{k+q},-}(1 - \\cos{\\theta_{\\mathbf{k},\\mathbf{k+q}}})}{\\hbar\\omega + \\varepsilon_{\\mathbf{k},+}-\\varepsilon_{\\mathbf{k+q},-} + i\\eta}\\right].$$"
   ]
  },
  {
   "cell_type": "markdown",
   "metadata": {},
   "source": [
    "$$\\cos{\\theta_{\\mathbf{k},\\mathbf{k+q}}} = \\frac{\\mathbf{k}\\cdot\\mathbf{k+q}}{k|\\mathbf{k+q}|} = \\frac{k + q\\cos{\\phi}}{\\sqrt{k^2 + q^2 + 2kq\\cos{\\phi}}}$$"
   ]
  },
  {
   "cell_type": "code",
   "execution_count": 6,
   "metadata": {
    "collapsed": true
   },
   "outputs": [],
   "source": [
    "def cosine(k, phi, q):\n",
    "    '''\n",
    "    cosine between the two vectors k and k + q as a function of phi,\n",
    "    which is the angle bewteen k and q.\n",
    "    '''\n",
    "    return ((k + q * cos(phi)) / sqrt(k**2 + q**2 + 2 * k * q * cos(phi)))"
   ]
  },
  {
   "cell_type": "markdown",
   "metadata": {},
   "source": [
    "In the zero-temperature limit $T\\rightarrow 0$, the Fermi distribution function $f_{\\mathbf{k} s}$ reduces to a simple step function or unity depending on the band index $s=\\pm 1$:\n",
    "$$f_{\\mathbf{k} s} = \\left[e^{\\beta(\\varepsilon_{\\mathbf{k}s}-\\mu)} + 1\\right]^{-1}\\quad \\xrightarrow{T\\rightarrow 0} \\quad \\Theta(\\varepsilon_\\mathrm{F} - \\varepsilon_{\\mathbf{k}s}) = \n",
    "\\begin{cases} \\Theta(k_\\mathrm{F} - k) & \\textrm{for }s= +1 \\\\\n",
    "              1 & \\textrm{for }s=-1 \n",
    "\\end{cases}$$\n",
    "Here, the Fermi energy is defined as $\\varepsilon_\\mathrm{F} = \\hbar v_\\mathrm{F}k_\\mathrm{F}$, with $k_\\mathrm{F}$ being the Fermi wavevector."
   ]
  },
  {
   "cell_type": "code",
   "execution_count": 7,
   "metadata": {
    "collapsed": true
   },
   "outputs": [],
   "source": [
    "eta = 1e-4"
   ]
  },
  {
   "cell_type": "markdown",
   "metadata": {},
   "source": [
    "We express the plus and the minus polarizabilities in simpler forms and perform the numerical integration:"
   ]
  },
  {
   "cell_type": "markdown",
   "metadata": {},
   "source": [
    "$$\\therefore \\frac{\\chi^{+}_0(\\mathbf{q},\\omega)}{D(\\varepsilon_\\mathrm{F})} = \\int_{\\tilde{k}<1} \\frac{d^{2}\\tilde{k}}{4\\pi}\\left[\\left(\\frac{1 + \\cos{\\theta_{\\mathbf{k},\\mathbf{k+q}}}}{\\tilde{\\omega} + \\tilde{\\varepsilon}_{\\mathbf{k},+}-\\tilde{\\varepsilon}_{\\mathbf{k+q},+} + i\\tilde{\\eta}}\n",
    "+\\frac{1 - \\cos{\\theta_{\\mathbf{k},\\mathbf{k+q}}}}{\\tilde{\\omega} + \\tilde{\\varepsilon}_{\\mathbf{k},+}-\\tilde{\\varepsilon}_{\\mathbf{k+q},-} + i\\tilde{\\eta}}\n",
    "\\right)\n",
    "-\n",
    "\\left(\\frac{1 + \\cos{\\theta_{\\mathbf{k-q},\\mathbf{k}}}}{\\tilde{\\omega} + \\tilde{\\varepsilon}_{\\mathbf{k-q},+}-\\tilde{\\varepsilon}_{\\mathbf{k},+} + i\\tilde{\\eta}} + \n",
    "\\frac{1 - \\cos{\\theta_{\\mathbf{k-q},\\mathbf{k}}}}{\\tilde{\\omega} + \\tilde{\\varepsilon}_{\\mathbf{k-q},-}-\\tilde{\\varepsilon}_{\\mathbf{k},+} + i\\tilde{\\eta}} \\right)\n",
    "\\right] $$"
   ]
  },
  {
   "cell_type": "code",
   "execution_count": 8,
   "metadata": {
    "collapsed": true
   },
   "outputs": [],
   "source": [
    "def polarizability0_p_integrand(k, phi, q, omega):\n",
    "    '''\n",
    "    For the evaluation of this dblquad, k-integration followed\n",
    "    by phi-integration is more efficient.\n",
    "    '''\n",
    "    e11 = (1 + cosine(k, phi, q)) / (omega + energy(k, phi, 0, +1)\n",
    "                                     - energy(k, phi, q, +1) + 1j * eta)\n",
    "    e12 = (1 - cosine(k, phi, q)) / (omega + energy(k, phi, 0, +1)\n",
    "                                     - energy(k, phi, q, -1) + 1j * eta)\n",
    "    e1 = e11 + e12\n",
    "\n",
    "    e21 = (1 + cosine(k, pi + phi, q)) / (omega + energy(k, pi + phi, q, +1)\n",
    "                                      - energy(k, phi, 0, +1) + 1j * eta)\n",
    "    e22 = (1 - cosine(k, pi + phi, q)) / (omega + energy(k, pi + phi, q, -1)\n",
    "                                      - energy(k, phi, 0, +1) + 1j * eta)\n",
    "    e2 = - (e21 + e22)\n",
    "    return - k * (e1 + e2) / (4 * pi)\n",
    "\n",
    "def polarizability0_p_real(q, omega):\n",
    "    return dblquad(lambda k, phi: polarizability0_p_integrand(k, phi, q, omega).real,\n",
    "                   0, 2 * pi, lambda k: 0, lambda k: 1,\n",
    "                   epsabs=1e-05, epsrel=1e-05)[0]\n",
    "\n",
    "def polarizability0_p_imag(q, omega):\n",
    "    return dblquad(lambda k, phi: polarizability0_p_integrand(k, phi, q, omega).imag,\n",
    "                   0, 2 * pi, lambda k: 0, lambda k: 1,\n",
    "                   epsabs=1e-05, epsrel=1e-05)[0]"
   ]
  },
  {
   "cell_type": "markdown",
   "metadata": {},
   "source": [
    "$$\\chi^{-}_0(\\mathbf{q}, \\omega) \\xrightarrow{T\\rightarrow0} \\frac{g_s g_v}{2} \\int \\frac{d^{2}k}{(2\\pi)^2}\\left[\n",
    "\\frac{ 1}{\\hbar\\omega + \\varepsilon_{\\mathbf{k},-}-\\varepsilon_{\\mathbf{k+q},+} + i\\eta} \n",
    "-\\frac{1}{\\hbar\\omega + \\varepsilon_{\\mathbf{k},+}-\\varepsilon_{\\mathbf{k+q},-} + i\\eta}\\right](1 - \\cos{\\theta_{\\mathbf{k},\\mathbf{k+q}}}) $$"
   ]
  },
  {
   "cell_type": "markdown",
   "metadata": {},
   "source": [
    "$$\\therefore \\frac{\\chi^{-}_0(\\mathbf{q}, \\omega)}{D(\\varepsilon_\\mathrm{F})}= \\int \\frac{ d^{2}\\tilde{k}}{4\\pi}\\left[\n",
    "\\frac{1}{\\tilde{\\omega} + \\tilde{\\varepsilon}_{\\mathbf{k},-}-\\tilde{\\varepsilon}_{\\mathbf{k+q},+} + i\\tilde{\\eta}} \n",
    "-\\frac{1}{\\tilde{\\omega} + \\tilde{\\varepsilon}_{\\mathbf{k},+}-\\tilde{\\varepsilon}_{\\mathbf{k+q},-} + i\\tilde{\\eta}}\\right](1 - \\cos{\\theta_{\\mathbf{k},\\mathbf{k+q}}}) $$"
   ]
  },
  {
   "cell_type": "markdown",
   "metadata": {},
   "source": [
    "where $\\tilde{\\omega} = \\hbar\\omega/\\varepsilon_\\mathrm{F}$, $\\tilde{\\varepsilon}_{\\mathbf{k},s} = \\varepsilon_{\\mathbf{k},s}/\\varepsilon_\\mathrm{F}$, and $\\tilde{k} = k/k_\\mathrm{F}$. Here $$D(\\varepsilon_\\mathrm{F}) = \\frac{g_s g_v}{2\\pi} \\frac{k_\\mathrm{F}}{\\hbar v_\\mathrm{F}} = \\frac{g_s g_v}{2\\pi}\\frac{k_\\mathrm{F}}{\\varepsilon_\\mathrm{F}}$$\n",
    "is the density of states at the Fermi energy. Note that the static polarizability at $q=0$ satisfies $$\\Pi_0(0, 0) = \\Pi_0^{+}(0,0) + \\Pi_0^{-} (0, 0) = D(\\varepsilon_\\mathrm{F}).$$"
   ]
  },
  {
   "cell_type": "code",
   "execution_count": 9,
   "metadata": {
    "collapsed": true
   },
   "outputs": [],
   "source": [
    "# spin and valley degeneracies\n",
    "g_s, g_v = 2, 2\n",
    "# density in units of cm^{-2}\n",
    "n = 1e12\n",
    "# Fermi wavevector in CGS units\n",
    "wavevector_F = (4 * pi * n / (g_s * g_v))**(1/2)\n",
    "\n",
    "hbar = 1.0545716e-27\n",
    "# Fermi energy in CGS units\n",
    "energy_F = 6.5 * 1.60217662e-12 * 1e-8\n",
    "# Density of states at the Fermi level in CGS units\n",
    "DOS_F = g_s * g_v * wavevector_F / (2 * pi * energy_F)"
   ]
  },
  {
   "cell_type": "code",
   "execution_count": 10,
   "metadata": {
    "collapsed": false
   },
   "outputs": [],
   "source": [
    "def polarizability0_m_integrand(k, phi, q, omega):\n",
    "    '''\n",
    "    For the evaluation of this dblquad, phi-integration followed by\n",
    "    k-integration is much more efficient.\n",
    "    '''\n",
    "    e1 = + 1 / (omega + energy(k, phi, 0, -1) - energy(k, phi, q, +1) + 1j * eta)\n",
    "    e2 = - 1 / (omega + energy(k, phi, 0, +1) - energy(k, phi, q, -1) + 1j * eta)\n",
    "    e = (e1 + e2) * (1 - cosine(k, phi, q))\n",
    "    return - k * e / (4 * pi)\n",
    "\n",
    "k_c = 50     # cutoff wavevector for numerical integration\n",
    "\n",
    "def polarizability0_m_real(q, omega):\n",
    "    return dblquad(lambda phi, k: polarizability0_m_integrand(k, phi, q, omega).real,\n",
    "                   0, k_c, lambda phi: 0, lambda phi: 2 * pi,\n",
    "                   epsabs=1e-05, epsrel=1e-05)[0]\n",
    "\n",
    "def polarizability0_m_imag(q, omega):\n",
    "    return dblquad(lambda phi, k: polarizability0_m_integrand(k, phi, q, omega).imag,\n",
    "                   0, k_c, lambda phi: 0, lambda phi: 2 * pi,\n",
    "                  epsabs=1e-05, epsrel=1e-05)[0]"
   ]
  },
  {
   "cell_type": "code",
   "execution_count": 11,
   "metadata": {
    "collapsed": true
   },
   "outputs": [],
   "source": [
    "def polarizability0_real(q, omega):\n",
    "    return (polarizability0_p_real(q, omega)\n",
    "            + polarizability0_m_real(q, omega))\n",
    "\n",
    "def polarizability0_imag(q, omega):\n",
    "    return (polarizability0_p_imag(q, omega)\n",
    "            + polarizability0_m_imag(q, omega))\n",
    "\n",
    "def polarizability0(q, omega):\n",
    "    return (polarizability0_real(q, omega)\n",
    "            + 1j * polarizability0_imag(q, omega))"
   ]
  },
  {
   "cell_type": "markdown",
   "metadata": {},
   "source": [
    "The interacting polarizability $\\Pi^\\mathrm{RPA}(\\mathbf{q},\\omega)$  within RPA is calculated as follows:\n",
    "$$ \\Pi^\\mathrm{RPA}(\\mathbf{q},\\omega) = \\frac{\\Pi_0(\\mathbf{q},\\omega)}{\\epsilon^\\mathrm{RPA}(\\mathbf{q},\\omega)}=\\frac{\\Pi_0(\\mathbf{q},\\omega)}{1 - v_\\mathrm{C}(\\mathbf{q})\\Pi_0(\\mathbf{q},\\omega)}$$"
   ]
  },
  {
   "cell_type": "markdown",
   "metadata": {},
   "source": [
    "The loss function is given by\n",
    "$$ -\\mathrm{Im}\\left[\\frac{1}{\\epsilon^\\mathrm{RPA}(\\mathbf{q},\\omega)}\\right] = -\\mathrm{Im}\\left[1 + v_\\mathrm{C}(\\mathbf{q})\\Pi^\\mathrm{RPA} (\\mathbf{q},\\omega) \\right] = -\\mathrm{Im}\\left[\\frac{1}{1-v_\\mathrm{C}(\\mathbf{q})\\Pi_0(\\mathbf{q},\\omega)}\\right]$$"
   ]
  },
  {
   "cell_type": "markdown",
   "metadata": {},
   "source": [
    "## Plasmon mode dispersion $\\omega(\\mathbf{q})$ in 2D graphene"
   ]
  },
  {
   "cell_type": "code",
   "execution_count": 64,
   "metadata": {
    "collapsed": false
   },
   "outputs": [],
   "source": [
    "N = 20\n",
    "\n",
    "# range of omega/E_F values: 0 to 3\n",
    "omega = linspace(1e-2, 3, N)\n",
    "# range of q/k_F values: 0 to 3\n",
    "q = linspace(1e-2, 3, N)"
   ]
  },
  {
   "cell_type": "code",
   "execution_count": 13,
   "metadata": {
    "collapsed": false
   },
   "outputs": [],
   "source": [
    "omega0 = sqrt(g_s * g_v * q_e ** 2 * energy_F / (2 * kappa))"
   ]
  },
  {
   "cell_type": "code",
   "execution_count": 14,
   "metadata": {
    "collapsed": false
   },
   "outputs": [],
   "source": [
    "# empty array to store the imaginary part of polarizability values\n",
    "polarizability = zeros((N, N), dtype=complex)"
   ]
  },
  {
   "cell_type": "code",
   "execution_count": 15,
   "metadata": {
    "collapsed": false
   },
   "outputs": [
    {
     "name": "stdout",
     "output_type": "stream",
     "text": [
      "idx1 = 0, q = 0.010000 complete\n",
      "idx1 = 1, q = 0.167368 complete\n",
      "idx1 = 2, q = 0.324737 complete\n",
      "idx1 = 3, q = 0.482105 complete\n",
      "idx1 = 4, q = 0.639474 complete\n",
      "idx1 = 5, q = 0.796842 complete\n",
      "idx1 = 6, q = 0.954211 complete\n",
      "idx1 = 7, q = 1.111579 complete\n",
      "idx1 = 8, q = 1.268947 complete\n",
      "idx1 = 9, q = 1.426316 complete\n",
      "idx1 = 10, q = 1.583684 complete\n",
      "idx1 = 11, q = 1.741053 complete\n",
      "idx1 = 12, q = 1.898421 complete\n",
      "idx1 = 13, q = 2.055789 complete\n",
      "idx1 = 14, q = 2.213158 complete\n",
      "idx1 = 15, q = 2.370526 complete\n",
      "idx1 = 16, q = 2.527895 complete\n",
      "idx1 = 17, q = 2.685263 complete\n",
      "idx1 = 18, q = 2.842632 complete\n",
      "idx1 = 19, q = 3.000000 complete\n"
     ]
    }
   ],
   "source": [
    "# time-consuming calculation\n",
    "for idx1, q_ in enumerate(q):\n",
    "    for idx2, omega_ in enumerate(omega):\n",
    "        polarizability0_ = polarizability0(q_, omega_)\n",
    "        polarizability[idx1, idx2] = (polarizability0_ / (1 - v_c(q_ * wavevector_F) *\n",
    "                                                          DOS_F * polarizability0_))\n",
    "    print(r\"idx1 = %d, q = %f complete\" % (idx1, q_))"
   ]
  },
  {
   "cell_type": "code",
   "execution_count": 16,
   "metadata": {
    "collapsed": false
   },
   "outputs": [],
   "source": [
    "# plasmon dispersion (numerical) --- needs revision\n",
    "# plasmon_freq = zeros(N)\n",
    "\n",
    "#for idx, q_ in enumerate(q):\n",
    "#    plasmon_freq[idx] = newton(lambda omega: (1 - v_c(q_ * wavevector_F) * DOS_F *\n",
    "#                                              polarizability0_real(q_,omega)),\n",
    "#                               omega0 * sqrt(q_) / energy_F, tol=1e-4)\n",
    "#    print(plasmon_freq[idx])"
   ]
  },
  {
   "cell_type": "code",
   "execution_count": 65,
   "metadata": {
    "collapsed": false
   },
   "outputs": [
    {
     "data": {
      "text/plain": [
       "<matplotlib.colorbar.Colorbar at 0x117578080>"
      ]
     },
     "execution_count": 65,
     "metadata": {},
     "output_type": "execute_result"
    },
    {
     "data": {
      "image/png": "[encoded data removed]",
      "text/plain": [
       "<matplotlib.figure.Figure at 0x1171ab828>"
      ]
     },
     "metadata": {},
     "output_type": "display_data"
    }
   ],
   "source": [
    "fig, ax = plt.subplots(1,1, figsize=(5.5,5))\n",
    "\n",
    "#ax.plot(q, plasmon_freq)\n",
    "ax.plot(q, omega0 * sqrt(q)/ energy_F, ls='--', color='black',\n",
    "        lw=2, label=r'$\\omega = \\omega_0 \\sqrt{q}$')\n",
    "\n",
    "ax.set_xlim([0, 3]); ax.set_ylim([0, 3]);\n",
    "#ax.imshow(q, omega, polarizability_imag, origin='down')\n",
    "cs = ax.contourf(q, omega, polarizability.imag.T, [0.001, 0.1, 0.2, 0.3, 0.4])\n",
    "ax.set_xlabel(r'$q/k_\\mathrm{F}$')\n",
    "ax.set_ylabel(r'$\\omega/\\varepsilon_\\mathrm{F}$')\n",
    "fig.colorbar(cs, ax=ax)"
   ]
  },
  {
   "cell_type": "markdown",
   "metadata": {},
   "source": [
    "The imaginary part of the dielectric function $\\epsilon^{\\mathrm{RPA}}(\\mathbf{q},\\omega)$ calculated numerically within RPA is mapped. To find the plasmon dispersion, "
   ]
  },
  {
   "cell_type": "markdown",
   "metadata": {},
   "source": [
    "## Static Polarizabililty ($\\omega=0$) for 2D graphene"
   ]
  },
  {
   "cell_type": "code",
   "execution_count": 68,
   "metadata": {
    "collapsed": false
   },
   "outputs": [],
   "source": [
    "N = 20\n",
    "\n",
    "# range of q/k_F values: 0 to 5\n",
    "q = linspace(1e-2, 5, N)"
   ]
  },
  {
   "cell_type": "code",
   "execution_count": 57,
   "metadata": {
    "collapsed": false
   },
   "outputs": [],
   "source": [
    "# empty arrays to store polarizability values\n",
    "polarizability0_p, polarizability0_m = zeros(N), zeros(N)"
   ]
  },
  {
   "cell_type": "code",
   "execution_count": 58,
   "metadata": {
    "collapsed": false
   },
   "outputs": [],
   "source": [
    "# static polarizability\n",
    "for idx, q_ in enumerate(q):\n",
    "    polarizability0_p[idx] = polarizability0_p_real(q_, 0)\n",
    "    polarizability0_m[idx] = polarizability0_m_real(q_, 0)"
   ]
  },
  {
   "cell_type": "code",
   "execution_count": 69,
   "metadata": {
    "collapsed": false
   },
   "outputs": [
    {
     "data": {
      "image/png": "[encoded data removed]",
      "text/plain": [
       "<matplotlib.figure.Figure at 0x1176be5f8>"
      ]
     },
     "metadata": {},
     "output_type": "display_data"
    }
   ],
   "source": [
    "fig, ax = plt.subplots(1,1, figsize=(5,5))\n",
    "\n",
    "ax.plot(q, polarizability0_p, label=r'$\\Pi^{+}_0$', lw=2)\n",
    "ax.plot(q, polarizability0_m, label=r'$\\Pi^{-}_0$', lw=2)\n",
    "ax.plot(q, polarizability0_p + polarizability0_m, label=r'$\\Pi_0$', lw=2)\n",
    "\n",
    "ax.set_xlabel(r'$q/k_\\mathrm{F}$')\n",
    "ax.set_ylabel(r'$\\Pi_0(q,\\omega=0)/D(\\varepsilon_\\mathrm{F})$')\n",
    "fig.text(0.12, 0.93, r'Static polarizability for 2D graphene')\n",
    "ax.set_xlim([0, 5]); ax.set_ylim([0, 2])\n",
    "ax.legend(loc=0);"
   ]
  },
  {
   "cell_type": "markdown",
   "metadata": {},
   "source": [
    "This is the static $(\\omega=0)$ polarizability for 2D graphene and Figure 2 of [Phys. Rev. B <strong>75</strong>, 205418 (2007)] has been reproduced."
   ]
  },
  {
   "cell_type": "markdown",
   "metadata": {},
   "source": [
    "# Version Information"
   ]
  },
  {
   "cell_type": "code",
   "execution_count": 13,
   "metadata": {
    "collapsed": false
   },
   "outputs": [
    {
     "data": {
      "application/json": {
       "Software versions": [
        {
         "module": "Python",
         "version": "3.4.4 64bit [GCC 4.2.1 Compatible Apple LLVM 7.0.2 (clang-700.1.81)]"
        },
        {
         "module": "IPython",
         "version": "4.0.1"
        },
        {
         "module": "OS",
         "version": "Darwin 15.2.0 x86_64 i386 64bit"
        },
        {
         "module": "numpy",
         "version": "1.10.4"
        },
        {
         "module": "scipy",
         "version": "0.16.1"
        },
        {
         "module": "matplotlib",
         "version": "1.5.0"
        }
       ]
      },
      "text/html": [
       "<table><tr><th>Software</th><th>Version</th></tr><tr><td>Python</td><td>3.4.4 64bit [GCC 4.2.1 Compatible Apple LLVM 7.0.2 (clang-700.1.81)]</td></tr><tr><td>IPython</td><td>4.0.1</td></tr><tr><td>OS</td><td>Darwin 15.2.0 x86_64 i386 64bit</td></tr><tr><td>numpy</td><td>1.10.4</td></tr><tr><td>scipy</td><td>0.16.1</td></tr><tr><td>matplotlib</td><td>1.5.0</td></tr><tr><td colspan='2'>Tue Jan 12 01:06:13 2016 KST</td></tr></table>"
      ],
      "text/latex": [
       "\\begin{tabular}{|l|l|}\\hline\n",
       "{\\bf Software} & {\\bf Version} \\\\ \\hline\\hline\n",
       "Python & 3.4.4 64bit [GCC 4.2.1 Compatible Apple LLVM 7.0.2 (clang-700.1.81)] \\\\ \\hline\n",
       "IPython & 4.0.1 \\\\ \\hline\n",
       "OS & Darwin 15.2.0 x86\\_64 i386 64bit \\\\ \\hline\n",
       "numpy & 1.10.4 \\\\ \\hline\n",
       "scipy & 0.16.1 \\\\ \\hline\n",
       "matplotlib & 1.5.0 \\\\ \\hline\n",
       "\\hline \\multicolumn{2}{|l|}{Tue Jan 12 01:06:13 2016 KST} \\\\ \\hline\n",
       "\\end{tabular}\n"
      ],
      "text/plain": [
       "Software versions\n",
       "Python 3.4.4 64bit [GCC 4.2.1 Compatible Apple LLVM 7.0.2 (clang-700.1.81)]\n",
       "IPython 4.0.1\n",
       "OS Darwin 15.2.0 x86_64 i386 64bit\n",
       "numpy 1.10.4\n",
       "scipy 0.16.1\n",
       "matplotlib 1.5.0\n",
       "Tue Jan 12 01:06:13 2016 KST"
      ]
     },
     "execution_count": 13,
     "metadata": {},
     "output_type": "execute_result"
    }
   ],
   "source": [
    "%reload_ext version_information\n",
    "\n",
    "%version_information numpy, scipy, matplotlib"
   ]
  }
 ],
 "metadata": {
  "kernelspec": {
   "display_name": "Python 3",
   "language": "python",
   "name": "python3"
  },
  "language_info": {
   "codemirror_mode": {
    "name": "ipython",
    "version": 3
   },
   "file_extension": ".py",
   "mimetype": "text/x-python",
   "name": "python",
   "nbconvert_exporter": "python",
   "pygments_lexer": "ipython3",
   "version": "3.4.4"
  }
 },
 "nbformat": 4,
 "nbformat_minor": 0
}

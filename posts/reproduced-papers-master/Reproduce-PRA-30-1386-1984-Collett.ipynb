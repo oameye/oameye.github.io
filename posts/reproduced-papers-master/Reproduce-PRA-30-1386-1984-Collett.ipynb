{
 "cells": [
  {
   "cell_type": "markdown",
   "metadata": {},
   "source": [
    "# Reproduce: Squeezing of intracavity and traveling-wave light fields produced in parametric amplification"
   ]
  },
  {
   "cell_type": "markdown",
   "metadata": {},
   "source": [
    "M. J. Collett and C. W. Gardiner, <i>Squeezing of intracavity and traveling-wave light fields produced in parametric amplification</i>, <a href=\"http://journals.aps.org/pra/abstract/10.1103/PhysRevA.30.1386\">Phys. Rev. A <b>30</b>, 1386 (1984)</a>."
   ]
  },
  {
   "cell_type": "markdown",
   "metadata": {},
   "source": [
    "Author : <b>Eunjong Kim</b> (<a href=\"mailto:ekim7206@gmail.com\">ekim7206@gmail.com</a>)"
   ]
  },
  {
   "cell_type": "markdown",
   "metadata": {},
   "source": [
    "Status : Work in progress"
   ]
  },
  {
   "cell_type": "markdown",
   "metadata": {},
   "source": [
    "In this notebook, I will derive the equations governing the input-output formulation of optical cavity, which is a grueling task if done with bruteforce hand calculation."
   ]
  },
  {
   "cell_type": "markdown",
   "metadata": {},
   "source": [
    "## Setup Modules"
   ]
  },
  {
   "cell_type": "code",
   "execution_count": 1,
   "metadata": {
    "collapsed": false
   },
   "outputs": [],
   "source": [
    "from sympy import *\n",
    "init_printing()"
   ]
  },
  {
   "cell_type": "code",
   "execution_count": 2,
   "metadata": {
    "collapsed": false
   },
   "outputs": [],
   "source": [
    "from sympsi import *\n",
    "from sympsi.boson import BosonOp, MultiBosonOp, BosonVacuumKet\n",
    "from sympsi.operator import OperatorFunction\n",
    "from sympsi.expectation import Expectation, Covariance\n",
    "from sympsi.operatorordering import normal_ordered_form"
   ]
  },
  {
   "cell_type": "markdown",
   "metadata": {},
   "source": [
    "## Quantum Stochastic Differential Equation (QSDE)"
   ]
  },
  {
   "cell_type": "code",
   "execution_count": 3,
   "metadata": {
    "collapsed": false
   },
   "outputs": [],
   "source": [
    "x = symbols('x', real=True)\n",
    "t, t0, t1, t_ = symbols(\"t, t_0, t_1, {t'}\", real=True)\n",
    "w, w0, w1, w_ = symbols(\"\\omega, \\omega_0, \\omega_1, {\\omega'}\", real=True)\n",
    "k_w = Function('k')(w)\n",
    "g = Function('g')\n",
    "hbar = Symbol(\"hbar\")"
   ]
  },
  {
   "cell_type": "markdown",
   "metadata": {},
   "source": [
    "First, define the time-dependent cavity field operators $a(t)$, $a^\\dagger(t)$"
   ]
  },
  {
   "cell_type": "code",
   "execution_count": 4,
   "metadata": {
    "collapsed": false
   },
   "outputs": [
    {
     "data": {
      "image/png": "[encoded data removed]",
      "text/latex": [
       "$${{{a}}(t)}$$"
      ],
      "text/plain": [
       "OperatorFunction(a,t)"
      ]
     },
     "execution_count": 4,
     "metadata": {},
     "output_type": "execute_result"
    }
   ],
   "source": [
    "a = BosonOp(\"a\")\n",
    "a_t = OperatorFunction(a, t)\n",
    "a_t"
   ]
  },
  {
   "cell_type": "markdown",
   "metadata": {},
   "source": [
    "and the time-dependent field operators of the external multimode field, $b_{\\omega}(t)$, $b_{\\omega}^\\dagger(t)$"
   ]
  },
  {
   "cell_type": "code",
   "execution_count": 5,
   "metadata": {
    "collapsed": false
   },
   "outputs": [
    {
     "data": {
      "image/png": "[encoded data removed]",
      "text/latex": [
       "$${{{b_{\\omega}}}(t)}$$"
      ],
      "text/plain": [
       "OperatorFunction(b,t)"
      ]
     },
     "execution_count": 5,
     "metadata": {},
     "output_type": "execute_result"
    }
   ],
   "source": [
    "b_w = MultiBosonOp(\"b\", w, 'continuous')\n",
    "b_w_t = OperatorFunction(b_w, t)\n",
    "b_w_t"
   ]
  },
  {
   "cell_type": "markdown",
   "metadata": {},
   "source": [
    "The interaction Hamiltonian between the cavity field, represented by the harmonic oscillator annihilation and creation operators $a, a^\\dagger$, and the external field in the rotating wave approximation is given by"
   ]
  },
  {
   "cell_type": "code",
   "execution_count": 6,
   "metadata": {
    "collapsed": false
   },
   "outputs": [
    {
     "data": {
      "image/png": "[encoded data removed]",
      "text/latex": [
       "$${H_{{int}} (t)} = i \\hbar \\int_{-\\infty}^{\\infty} g{\\left ({\\omega'} \\right )} \\left({{{a}}(t)} {{{{b_{{\\omega'}}}^\\dagger}}(t)} - {{{b_{{\\omega'}}}}(t)} {{{{a}^\\dagger}}(t)}\\right)\\, d{\\omega'}$$"
      ],
      "text/plain": [
       "                     ∞                                                        \n",
       "                     ⌠                                                        \n",
       "                     ⎮               ⎛                                      ⎛ \n",
       "{H_{int}} (t) = ⅈ⋅h̅⋅⎮  g({\\omega'})⋅⎝OperatorFunction(a,t)⋅OperatorFunction⎝b\n",
       "                     ⌡                                                        \n",
       "                     -∞                                                       \n",
       "\n",
       "                                                                 \n",
       "                                                                 \n",
       "†  ⎞                                         ⎛ †  ⎞⎞             \n",
       " ,t⎠ - OperatorFunction(b,t)⋅OperatorFunction⎝a ,t⎠⎠ d({\\omega'})\n",
       "                                                                 \n",
       "                                                                 "
      ]
     },
     "execution_count": 6,
     "metadata": {},
     "output_type": "execute_result"
    }
   ],
   "source": [
    "Hint = I*hbar * Integral((g(w) * (a_t * Dagger(b_w_t) - b_w_t * Dagger(a_t))).subs(w, w_), (w_,-oo,oo))\n",
    "Hintsym = Symbol(\"{H_{int}} (t)\")\n",
    "Eq(Hintsym, Hint)"
   ]
  },
  {
   "cell_type": "markdown",
   "metadata": {},
   "source": [
    "### The Heisenberg Equation of Motion for the field operator $b_t(\\omega)$"
   ]
  },
  {
   "cell_type": "markdown",
   "metadata": {},
   "source": [
    "The Heisenberg equation of motion of the operator $b_\\omega(t) = e^{-i\\omega t} b_\\omega$ can be expressed as\n",
    "\n",
    "\n",
    "$$\n",
    "\\frac{d}{dt}b_\\omega(t) = \\frac{\\partial}{\\partial t} b_\\omega(t) - \\frac{i}{\\hbar}[b_\\omega(t), H_{int}(t)]\n",
    "$$"
   ]
  },
  {
   "cell_type": "code",
   "execution_count": 7,
   "metadata": {
    "collapsed": false
   },
   "outputs": [
    {
     "data": {
      "image/png": "[encoded data removed]",
      "text/latex": [
       "$$g{\\left (\\omega \\right )} {{{a}}(t)} + \\frac{\\partial}{\\partial t} {{{b_{\\omega}}}(t)} + {{{{a}^\\dagger}}(t)} {{{b_{\\omega}}}(t)} \\int_{-\\infty}^{\\infty} g{\\left ({\\omega'} \\right )} {{{b_{{\\omega'}}}}(t)}\\, d{\\omega'} - {{{a}}(t)} {{{b_{\\omega}}}(t)} \\int_{-\\infty}^{\\infty} g{\\left ({\\omega'} \\right )} {{{{b_{{\\omega'}}}^\\dagger}}(t)}\\, d{\\omega'} - {{{b_{\\omega}}}(t)} {{{{a}^\\dagger}}(t)} \\int_{-\\infty}^{\\infty} g{\\left ({\\omega'} \\right )} {{{b_{{\\omega'}}}}(t)}\\, d{\\omega'} + {{{b_{\\omega}}}(t)} {{{a}}(t)} \\int_{-\\infty}^{\\infty} g{\\left ({\\omega'} \\right )} {{{{b_{{\\omega'}}}^\\dagger}}(t)}\\, d{\\omega'}$$"
      ],
      "text/plain": [
       "                                                                              \n",
       "                                                                              \n",
       "                                  ∂                                           \n",
       "g(\\omega)⋅OperatorFunction(a,t) + ──(OperatorFunction(b,t)) + OperatorFunction\n",
       "                                  ∂t                                          \n",
       "                                                                              \n",
       "\n",
       "                                                                              \n",
       "                             ∞                                                \n",
       "⎛ †  ⎞                       ⌠                                                \n",
       "⎝a ,t⎠⋅OperatorFunction(b,t)⋅⎮  g({\\omega'})⋅OperatorFunction(b,t) d({\\omega'}\n",
       "                             ⌡                                                \n",
       "                             -∞                                               \n",
       "\n",
       "                                                ∞                             \n",
       "                                                ⌠                             \n",
       "                                                ⎮                             \n",
       ") - OperatorFunction(a,t)⋅OperatorFunction(b,t)⋅⎮  g({\\omega'})⋅OperatorFuncti\n",
       "                                                ⌡                             \n",
       "                                                -∞                            \n",
       "\n",
       "                                                                              \n",
       "                                                                     ∞        \n",
       "  ⎛ †  ⎞                                                      ⎛ †  ⎞ ⌠        \n",
       "on⎝b ,t⎠ d({\\omega'}) - OperatorFunction(b,t)⋅OperatorFunction⎝a ,t⎠⋅⎮  g({\\om\n",
       "                                                                     ⌡        \n",
       "                                                                     -∞       \n",
       "\n",
       "                                                                              \n",
       "                                                                              \n",
       "                                                                              \n",
       "ega'})⋅OperatorFunction(b,t) d({\\omega'}) + OperatorFunction(b,t)⋅OperatorFunc\n",
       "                                                                              \n",
       "                                                                              \n",
       "\n",
       "          ∞                                                  \n",
       "          ⌠                                                  \n",
       "          ⎮                               ⎛ †  ⎞             \n",
       "tion(a,t)⋅⎮  g({\\omega'})⋅OperatorFunction⎝b ,t⎠ d({\\omega'})\n",
       "          ⌡                                                  \n",
       "          -∞                                                 "
      ]
     },
     "execution_count": 7,
     "metadata": {},
     "output_type": "execute_result"
    }
   ],
   "source": [
    "b_w_t_diff = b_w_t.diff(t) - I/hbar * Commutator(b_w_t, Hint.replace(w, w_))\n",
    "b_w_t_diff1 = b_w_t_diff.expand(commutator=True).expand(commutator=True).doit()\n",
    "b_w_t_diff2 = pull_outwards(b_w_t_diff1).doit()\n",
    "b_w_t_diff2"
   ]
  },
  {
   "cell_type": "code",
   "execution_count": 8,
   "metadata": {
    "collapsed": false
   },
   "outputs": [
    {
     "data": {
      "image/png": "[encoded data removed]",
      "text/latex": [
       "$${\\dot{b}_{\\omega}(t)} = - i \\omega {{{b_{\\omega}}}(t)} - \\int_{-\\infty}^{\\infty} g{\\left ({\\omega'} \\right )} \\left(- \\delta\\left(- \\omega + {\\omega'}\\right) {{{a}}(t)} + \\left({{{a}}(t)} {{{b_{\\omega}}}(t)} - {{{b_{\\omega}}}(t)} {{{a}}(t)}\\right) {{{{b_{{\\omega'}}}^\\dagger}}(t)} - {{{b_{{\\omega'}}}}(t)} \\left({{{{a}^\\dagger}}(t)} {{{b_{\\omega}}}(t)} - {{{b_{\\omega}}}(t)} {{{{a}^\\dagger}}(t)}\\right)\\right)\\, d{\\omega'}$$"
      ],
      "text/plain": [
       "                                                        ∞                     \n",
       "                                                        ⌠                     \n",
       "                                                        ⎮               ⎛     \n",
       "{\\dot{b}_\\omega}(t) = -ⅈ⋅\\omega⋅OperatorFunction(b,t) - ⎮  g({\\omega'})⋅⎝-Dira\n",
       "                                                        ⌡                     \n",
       "                                                        -∞                    \n",
       "\n",
       "                                                                              \n",
       "                                                                              \n",
       "                                                                              \n",
       "cDelta(-\\omega + {\\omega'})⋅OperatorFunction(a,t) + (OperatorFunction(a,t)⋅Ope\n",
       "                                                                              \n",
       "                                                                              \n",
       "\n",
       "                                                                              \n",
       "                                                                              \n",
       "                                                                              \n",
       "ratorFunction(b,t) - OperatorFunction(b,t)⋅OperatorFunction(a,t))⋅OperatorFunc\n",
       "                                                                              \n",
       "                                                                              \n",
       "\n",
       "                                                                              \n",
       "                                                                              \n",
       "    ⎛ †  ⎞                         ⎛                ⎛ †  ⎞                    \n",
       "tion⎝b ,t⎠ - OperatorFunction(b,t)⋅⎝OperatorFunction⎝a ,t⎠⋅OperatorFunction(b,\n",
       "                                                                              \n",
       "                                                                              \n",
       "\n",
       "                                                                \n",
       "                                                                \n",
       "                                           ⎛ †  ⎞⎞⎞             \n",
       "t) - OperatorFunction(b,t)⋅OperatorFunction⎝a ,t⎠⎠⎠ d({\\omega'})\n",
       "                                                                \n",
       "                                                                "
      ]
     },
     "execution_count": 8,
     "metadata": {},
     "output_type": "execute_result"
    }
   ],
   "source": [
    "b_w_t_diff3 = b_w_t_diff1.subs(b_w_t, exp(-I*w*t)*b_w).doit().subs(exp(-I*w*t)*b_w, b_w_t)\n",
    "Eq(Symbol(\"{\\dot{b}_\\omega}(t)\"), b_w_t_diff3)"
   ]
  },
  {
   "cell_type": "markdown",
   "metadata": {},
   "source": [
    "This is equivalent to\n",
    "$$\n",
    "\\frac{d}{dt}\\left( e^{i\\omega t} b_\\omega (t)\\right) = e^{i\\omega t} \\left[ \\dot{b}_\\omega(t) + i\\omega b_\\omega (t)\\right] = g(\\omega) a(t) e^{i\\omega t}\n",
    "$$"
   ]
  },
  {
   "cell_type": "markdown",
   "metadata": {},
   "source": [
    "and the solution to this differential equation can be written in two ways:"
   ]
  },
  {
   "cell_type": "markdown",
   "metadata": {},
   "source": [
    "#### a. in terms of the initial conditions at time $t_0 <t$ (the <i>input</i>)"
   ]
  },
  {
   "cell_type": "markdown",
   "metadata": {},
   "source": [
    "$$\n",
    "e^{i\\omega t}b_\\omega(t) - e^{i\\omega t_0} b_\\omega(t_0) = \\int_{t_0}^{t\\ \\ \\ } g(\\omega) a(t') e^{i\\omega t'} dt' \\\\\n",
    "\\therefore b_\\omega(t) = e^{-i\\omega(t-t_0)} b_\\omega(t_0) + g(\\omega) \\int_{t_0}^{t} e^{-i\\omega (t-t')} a(t') dt'\n",
    "$$"
   ]
  },
  {
   "cell_type": "code",
   "execution_count": 9,
   "metadata": {
    "collapsed": false
   },
   "outputs": [
    {
     "data": {
      "image/png": "[encoded data removed]",
      "text/latex": [
       "$$g{\\left (\\omega \\right )} \\int_{t_{0}}^{t} e^{- i \\omega \\left(t - {t'}\\right)} {{{a}}({t'})}\\, d{t'} + e^{- i \\omega \\left(t - t_{0}\\right)} {{{b_{\\omega}}}(t_{0})}$$"
      ],
      "text/plain": [
       "          t                                                                   \n",
       "          ⌠                                                                   \n",
       "          ⎮   -ⅈ⋅\\omega⋅(t - {t'})                                     -ⅈ⋅\\ome\n",
       "g(\\omega)⋅⎮  ℯ                    ⋅OperatorFunction(a,{t'}) d({t'}) + ℯ       \n",
       "          ⌡                                                                   \n",
       "          t₀                                                                  \n",
       "\n",
       "                                  \n",
       "                                  \n",
       "ga⋅(t - t₀)                       \n",
       "           ⋅OperatorFunction(b,t₀)\n",
       "                                  \n",
       "                                  "
      ]
     },
     "execution_count": 9,
     "metadata": {},
     "output_type": "execute_result"
    }
   ],
   "source": [
    "b_w_t_input = exp(-I*w*(t-t0)) * b_w_t(t0) + g(w) * Integral(exp(-I*w*(t-t_)) * a_t(t_), (t_, t0, t))\n",
    "b_w_t_input"
   ]
  },
  {
   "cell_type": "markdown",
   "metadata": {},
   "source": [
    "#### b. in terms of the final conditions at time $t_1>t$ (the <i>output</i>)"
   ]
  },
  {
   "cell_type": "markdown",
   "metadata": {},
   "source": [
    "\n",
    "$$\n",
    "\\displaystyle e^{i\\omega t_1}b_\\omega(t_1) - e^{i\\omega t} b_\\omega(t) = \\int_{t}^{t_1\\ \\ } g(\\omega) a(t') e^{i\\omega t'} dt'\\\\\n",
    "\\therefore b_\\omega(t) = e^{-i\\omega(t-t_1)} b_\\omega(t_1) - g(\\omega) \\int_{t}^{t_1} e^{-i\\omega (t-t')} a(t') dt'\n",
    "$$"
   ]
  },
  {
   "cell_type": "code",
   "execution_count": 10,
   "metadata": {
    "collapsed": false
   },
   "outputs": [
    {
     "data": {
      "image/png": "[encoded data removed]",
      "text/latex": [
       "$$- g{\\left (\\omega \\right )} \\int_{t}^{t_{1}} e^{- i \\omega \\left(t - {t'}\\right)} {{{a}}({t'})}\\, d{t'} + e^{- i \\omega \\left(t - t_{1}\\right)} {{{b_{\\omega}}}(t_{1})}$$"
      ],
      "text/plain": [
       "            t₁                                                                \n",
       "            ⌠                                                                 \n",
       "            ⎮   -ⅈ⋅\\omega⋅(t - {t'})                                     -ⅈ⋅\\o\n",
       "- g(\\omega)⋅⎮  ℯ                    ⋅OperatorFunction(a,{t'}) d({t'}) + ℯ     \n",
       "            ⌡                                                                 \n",
       "            t                                                                 \n",
       "\n",
       "                                    \n",
       "                                    \n",
       "mega⋅(t - t₁)                       \n",
       "             ⋅OperatorFunction(b,t₁)\n",
       "                                    \n",
       "                                    "
      ]
     },
     "execution_count": 10,
     "metadata": {},
     "output_type": "execute_result"
    }
   ],
   "source": [
    "b_w_t_output = exp(-I*w*(t-t1)) * b_w_t(t1) - g(w) * Integral(exp(-I*w*(t-t_))*a_t(t_), (t_, t, t1))\n",
    "b_w_t_output"
   ]
  },
  {
   "cell_type": "markdown",
   "metadata": {},
   "source": [
    "### The Heisenberg equation of motion of the cavity field operator $a(t)$"
   ]
  },
  {
   "cell_type": "markdown",
   "metadata": {},
   "source": [
    "The Heisenberg equation of motion of the cavity field operator can be expressed as\n",
    "\n",
    "\n",
    "$$\n",
    "\\dot{a} =  - \\frac{i}{\\hbar}[a, H_{sys}] - \\frac{i}{\\hbar}[a, H_{int}] \n",
    "$$"
   ]
  },
  {
   "cell_type": "code",
   "execution_count": 11,
   "metadata": {
    "collapsed": false
   },
   "outputs": [
    {
     "data": {
      "image/png": "[encoded data removed]",
      "text/latex": [
       "$$i \\hbar \\int_{-\\infty}^{\\infty} g{\\left (\\omega \\right )} \\left({{{a}}(t)} {{{{b_{\\omega}}^\\dagger}}(t)} - {{{b_{\\omega}}}(t)} {{{{a}^\\dagger}}(t)}\\right)\\, d\\omega$$"
      ],
      "text/plain": [
       "     ∞                                                                        \n",
       "     ⌠                                                                        \n",
       "     ⎮            ⎛                                      ⎛ †  ⎞               \n",
       "ⅈ⋅h̅⋅⎮  g(\\omega)⋅⎝OperatorFunction(a,t)⋅OperatorFunction⎝b ,t⎠ - OperatorFunc\n",
       "     ⌡                                                                        \n",
       "     -∞                                                                       \n",
       "\n",
       "                                           \n",
       "                                           \n",
       "                          ⎛ †  ⎞⎞          \n",
       "tion(b,t)⋅OperatorFunction⎝a ,t⎠⎠ d(\\omega)\n",
       "                                           \n",
       "                                           "
      ]
     },
     "execution_count": 11,
     "metadata": {},
     "output_type": "execute_result"
    }
   ],
   "source": [
    "Hint = Hint.replace(w_, w)\n",
    "Hint"
   ]
  },
  {
   "cell_type": "code",
   "execution_count": 12,
   "metadata": {
    "collapsed": false
   },
   "outputs": [
    {
     "data": {
      "image/png": "[encoded data removed]",
      "text/latex": [
       "$$\\frac{i \\left[H_{sys},{{{a}}(t)}\\right]}{\\hbar}$$"
      ],
      "text/plain": [
       "ⅈ⋅[H_sys,OperatorFunction(a,t)]\n",
       "───────────────────────────────\n",
       "               h̅              "
      ]
     },
     "execution_count": 12,
     "metadata": {},
     "output_type": "execute_result"
    }
   ],
   "source": [
    "Hsyssym = Operator('H_sys') # Hamiltonian of the system\n",
    "term1 = -I/hbar * Commutator(a_t, Hsyssym)\n",
    "term1"
   ]
  },
  {
   "cell_type": "code",
   "execution_count": 13,
   "metadata": {
    "collapsed": false
   },
   "outputs": [
    {
     "data": {
      "image/png": "[encoded data removed]",
      "text/latex": [
       "$$- \\int_{-\\infty}^{\\infty} g{\\left (\\omega \\right )} \\left(\\left({{{a}}(t)} {{{b_{\\omega}}}(t)} - {{{b_{\\omega}}}(t)} {{{a}}(t)}\\right) {{{{a}^\\dagger}}(t)} - {{{a}}(t)} \\left({{{a}}(t)} {{{{b_{\\omega}}^\\dagger}}(t)} - {{{{b_{\\omega}}^\\dagger}}(t)} {{{a}}(t)}\\right) + {{{b_{\\omega}}}(t)}\\right)\\, d\\omega$$"
      ],
      "text/plain": [
       " ∞                                                                            \n",
       " ⌠                                                                            \n",
       " ⎮            ⎛                                                               \n",
       "-⎮  g(\\omega)⋅⎝(OperatorFunction(a,t)⋅OperatorFunction(b,t) - OperatorFunction\n",
       " ⌡                                                                            \n",
       " -∞                                                                           \n",
       "\n",
       "                                                                              \n",
       "                                                                              \n",
       "                                             ⎛ †  ⎞                         ⎛ \n",
       "(b,t)⋅OperatorFunction(a,t))⋅OperatorFunction⎝a ,t⎠ - OperatorFunction(a,t)⋅⎝O\n",
       "                                                                              \n",
       "                                                                              \n",
       "\n",
       "                                                                              \n",
       "                                                                              \n",
       "                                     ⎛ †  ⎞                   ⎛ †  ⎞          \n",
       "peratorFunction(a,t)⋅OperatorFunction⎝b ,t⎠ - OperatorFunction⎝b ,t⎠⋅OperatorF\n",
       "                                                                              \n",
       "                                                                              \n",
       "\n",
       "                                                \n",
       "                                                \n",
       "            ⎞                        ⎞          \n",
       "unction(a,t)⎠ + OperatorFunction(b,t)⎠ d(\\omega)\n",
       "                                                \n",
       "                                                "
      ]
     },
     "execution_count": 13,
     "metadata": {},
     "output_type": "execute_result"
    }
   ],
   "source": [
    "term2_0 = -I/hbar * Commutator(a_t, Hint)\n",
    "term2_1 = term2_0.expand(commutator=True).expand(commutator=True).doit(independent=True)\n",
    "term2_1"
   ]
  },
  {
   "cell_type": "markdown",
   "metadata": {},
   "source": [
    "substituting the solution in terms of the input field,"
   ]
  },
  {
   "cell_type": "code",
   "execution_count": 14,
   "metadata": {
    "collapsed": false
   },
   "outputs": [
    {
     "data": {
      "image/png": "[encoded data removed]",
      "text/latex": [
       "$$- \\int_{-\\infty}^{\\infty} g^{2}{\\left (\\omega \\right )} \\int_{t_{0}}^{t} e^{- i \\omega t} e^{i \\omega {t'}} {{{a}}({t'})}\\, d{t'} - g^{2}{\\left (\\omega \\right )} \\left(\\int_{t_{0}}^{t} e^{- i \\omega t} e^{i \\omega {t'}} {{{a}}({t'})}\\, d{t'}\\right) {{{a}}(t)} {{{{a}^\\dagger}}(t)} + g^{2}{\\left (\\omega \\right )} {{{a}}(t)} \\left(\\int_{t_{0}}^{t} e^{- i \\omega t} e^{i \\omega {t'}} {{{a}}({t'})}\\, d{t'}\\right) {{{{a}^\\dagger}}(t)} + g{\\left (\\omega \\right )} {{{a}}(t)} {{{{b_{\\omega}}^\\dagger}}(t)} {{{a}}(t)} - g{\\left (\\omega \\right )} \\left({{{a}}(t)}\\right)^{2} {{{{b_{\\omega}}^\\dagger}}(t)} + g{\\left (\\omega \\right )} e^{- i \\omega t} e^{i \\omega t_{0}} {{{a}}(t)} {{{b_{\\omega}}}(t_{0})} {{{{a}^\\dagger}}(t)} + g{\\left (\\omega \\right )} e^{- i \\omega t} e^{i \\omega t_{0}} {{{b_{\\omega}}}(t_{0})} - g{\\left (\\omega \\right )} e^{- i \\omega t} e^{i \\omega t_{0}} {{{b_{\\omega}}}(t_{0})} {{{a}}(t)} {{{{a}^\\dagger}}(t)}\\, d\\omega$$"
      ],
      "text/plain": [
       " ∞                                                                            \n",
       " ⌠                                                                            \n",
       " ⎮  ⎛           t                                                             \n",
       " ⎮  ⎜           ⌠                                                             \n",
       " ⎮  ⎜ 2         ⎮   -ⅈ⋅\\omega⋅t  ⅈ⋅\\omega⋅{t'}                                \n",
       "-⎮  ⎜g (\\omega)⋅⎮  ℯ           ⋅ℯ             ⋅OperatorFunction(a,{t'}) d({t'}\n",
       " ⎮  ⎜           ⌡                                                             \n",
       " ⎮  ⎝           t₀                                                            \n",
       " ⌡                                                                            \n",
       " -∞                                                                           \n",
       "\n",
       "                                                                              \n",
       "                                                                              \n",
       "               ⎛t                                                             \n",
       "               ⎜⌠                                                             \n",
       "     2         ⎜⎮   -ⅈ⋅\\omega⋅t  ⅈ⋅\\omega⋅{t'}                                \n",
       ") - g (\\omega)⋅⎜⎮  ℯ           ⋅ℯ             ⋅OperatorFunction(a,{t'}) d({t'}\n",
       "               ⎜⌡                                                             \n",
       "               ⎝t₀                                                            \n",
       "                                                                              \n",
       "                                                                              \n",
       "\n",
       "                                                                              \n",
       "                                                                              \n",
       " ⎞                                                                            \n",
       " ⎟                                                                            \n",
       " ⎟                                       ⎛ †  ⎞    2                          \n",
       ")⎟⋅OperatorFunction(a,t)⋅OperatorFunction⎝a ,t⎠ + g (\\omega)⋅OperatorFunction(\n",
       " ⎟                                                                            \n",
       " ⎠                                                                            \n",
       "                                                                              \n",
       "                                                                              \n",
       "\n",
       "                                                                              \n",
       "                                                                              \n",
       "     ⎛t                                                              ⎞        \n",
       "     ⎜⌠                                                              ⎟        \n",
       "     ⎜⎮   -ⅈ⋅\\omega⋅t  ⅈ⋅\\omega⋅{t'}                                 ⎟        \n",
       "a,t)⋅⎜⎮  ℯ           ⋅ℯ             ⋅OperatorFunction(a,{t'}) d({t'})⎟⋅Operato\n",
       "     ⎜⌡                                                              ⎟        \n",
       "     ⎝t₀                                                             ⎠        \n",
       "                                                                              \n",
       "                                                                              \n",
       "\n",
       "                                                                              \n",
       "                                                                              \n",
       "                                                                              \n",
       "                                                                              \n",
       "         ⎛ †  ⎞                                                   ⎛ †  ⎞      \n",
       "rFunction⎝a ,t⎠ + g(\\omega)⋅OperatorFunction(a,t)⋅OperatorFunction⎝b ,t⎠⋅Opera\n",
       "                                                                              \n",
       "                                                                              \n",
       "                                                                              \n",
       "                                                                              \n",
       "\n",
       "                                                                              \n",
       "                                                                              \n",
       "                                                                              \n",
       "                                                                              \n",
       "                                                  2                 ⎛ †  ⎞    \n",
       "torFunction(a,t) - g(\\omega)⋅OperatorFunction(a,t) ⋅OperatorFunction⎝b ,t⎠ + g\n",
       "                                                                              \n",
       "                                                                              \n",
       "                                                                              \n",
       "                                                                              \n",
       "\n",
       "                                                                              \n",
       "                                                                              \n",
       "                                                                              \n",
       "                                                                              \n",
       "          -ⅈ⋅\\omega⋅t  ⅈ⋅\\omega⋅t₀                                            \n",
       "(\\omega)⋅ℯ           ⋅ℯ           ⋅OperatorFunction(a,t)⋅OperatorFunction(b,t₀\n",
       "                                                                              \n",
       "                                                                              \n",
       "                                                                              \n",
       "                                                                              \n",
       "\n",
       "                                                                              \n",
       "                                                                              \n",
       "                                                                              \n",
       "                                                                              \n",
       "                  ⎛ †  ⎞              -ⅈ⋅\\omega⋅t  ⅈ⋅\\omega⋅t₀                \n",
       ")⋅OperatorFunction⎝a ,t⎠ + g(\\omega)⋅ℯ           ⋅ℯ           ⋅OperatorFunctio\n",
       "                                                                              \n",
       "                                                                              \n",
       "                                                                              \n",
       "                                                                              \n",
       "\n",
       "                                                                              \n",
       "                                                                              \n",
       "                                                                              \n",
       "                                                                              \n",
       "                     -ⅈ⋅\\omega⋅t  ⅈ⋅\\omega⋅t₀                                 \n",
       "n(b,t₀) - g(\\omega)⋅ℯ           ⋅ℯ           ⋅OperatorFunction(b,t₀)⋅OperatorF\n",
       "                                                                              \n",
       "                                                                              \n",
       "                                                                              \n",
       "                                                                              \n",
       "\n",
       "                                              \n",
       "                                              \n",
       "                                   ⎞          \n",
       "                                   ⎟          \n",
       "                             ⎛ †  ⎞⎟          \n",
       "unction(a,t)⋅OperatorFunction⎝a ,t⎠⎟ d(\\omega)\n",
       "                                   ⎟          \n",
       "                                   ⎠          \n",
       "                                              \n",
       "                                              "
      ]
     },
     "execution_count": 14,
     "metadata": {},
     "output_type": "execute_result"
    }
   ],
   "source": [
    "term2_2 = term2_1.replace(b_w_t, b_w_t_input).expand()\n",
    "term2_2"
   ]
  },
  {
   "cell_type": "code",
   "execution_count": 15,
   "metadata": {
    "collapsed": false
   },
   "outputs": [
    {
     "data": {
      "image/png": "[encoded data removed]",
      "text/latex": [
       "$$- \\int_{-\\infty}^{\\infty} g^{2}{\\left (\\omega \\right )} e^{- i \\omega t} \\int_{t_{0}}^{t} e^{i \\omega {t'}} {{{a}}({t'})}\\, d{t'}\\, d\\omega - \\int_{-\\infty}^{\\infty} g{\\left (\\omega \\right )} e^{- i \\omega t} e^{i \\omega t_{0}} {{{b_{\\omega}}}(t_{0})}\\, d\\omega$$"
      ],
      "text/plain": [
       "  ∞                                                                           \n",
       "  ⌠                                                                           \n",
       "  ⎮                          t                                                \n",
       "  ⎮                          ⌠                                                \n",
       "  ⎮   2          -ⅈ⋅\\omega⋅t ⎮   ⅈ⋅\\omega⋅{t'}                                \n",
       "- ⎮  g (\\omega)⋅ℯ           ⋅⎮  ℯ             ⋅OperatorFunction(a,{t'}) d({t'}\n",
       "  ⎮                          ⌡                                                \n",
       "  ⎮                          t₀                                               \n",
       "  ⌡                                                                           \n",
       "  -∞                                                                          \n",
       "\n",
       "                                                                              \n",
       "                                                                              \n",
       "              ∞                                                               \n",
       "              ⌠                                                               \n",
       "              ⎮             -ⅈ⋅\\omega⋅t  ⅈ⋅\\omega⋅t₀                          \n",
       ") d(\\omega) - ⎮  g(\\omega)⋅ℯ           ⋅ℯ           ⋅OperatorFunction(b,t₀) d(\n",
       "              ⌡                                                               \n",
       "              -∞                                                              \n",
       "                                                                              \n",
       "                                                                              \n",
       "\n",
       "       \n",
       "       \n",
       "       \n",
       "       \n",
       "       \n",
       "\\omega)\n",
       "       \n",
       "       \n",
       "       \n",
       "       "
      ]
     },
     "execution_count": 15,
     "metadata": {},
     "output_type": "execute_result"
    }
   ],
   "source": [
    "term2_3 = pull_outwards(term2_2)\n",
    "term2_3"
   ]
  },
  {
   "cell_type": "markdown",
   "metadata": {},
   "source": [
    "### Markov quantum stochastic process"
   ]
  },
  {
   "cell_type": "markdown",
   "metadata": {},
   "source": [
    "Suppose that $g(\\omega)$ is independent of the frequency over a wide range of frequencies around $\\omega=0$ and has the value"
   ]
  },
  {
   "cell_type": "code",
   "execution_count": 16,
   "metadata": {
    "collapsed": false
   },
   "outputs": [
    {
     "data": {
      "image/png": "[encoded data removed]",
      "text/latex": [
       "$$g^{2}{\\left (\\omega \\right )} = \\frac{\\gamma}{2 \\pi}$$"
      ],
      "text/plain": [
       " 2           \\gamma\n",
       "g (\\omega) = ──────\n",
       "              2⋅π  "
      ]
     },
     "execution_count": 16,
     "metadata": {},
     "output_type": "execute_result"
    }
   ],
   "source": [
    "gamma = Symbol(\"\\gamma\", real=True); Eq(g(w)**2, gamma/(2*pi))"
   ]
  },
  {
   "cell_type": "code",
   "execution_count": 17,
   "metadata": {
    "collapsed": false
   },
   "outputs": [
    {
     "data": {
      "image/png": "[encoded data removed]",
      "text/latex": [
       "$$- \\frac{\\sqrt{2} \\sqrt{\\gamma}}{2 \\sqrt{\\pi}} \\int_{-\\infty}^{\\infty} e^{- i \\omega t} e^{i \\omega t_{0}} {{{b_{\\omega}}}(t_{0})}\\, d\\omega - \\frac{\\gamma}{2 \\pi} \\int_{-\\infty}^{\\infty} e^{- i \\omega t} \\int_{t_{0}}^{t} e^{i \\omega {t'}} {{{a}}({t'})}\\, d{t'}\\, d\\omega$$"
      ],
      "text/plain": [
       "                                                                              \n",
       "                                                                              \n",
       "                                                                              \n",
       "                                                                              \n",
       "                   ∞                                                          \n",
       "                   ⌠                                                          \n",
       "    ___   ________ ⎮   -ⅈ⋅\\omega⋅t  ⅈ⋅\\omega⋅t₀                               \n",
       "  ╲╱ 2 ⋅╲╱ \\gamma ⋅⎮  ℯ           ⋅ℯ           ⋅OperatorFunction(b,t₀) d(\\omeg\n",
       "                   ⌡                                                          \n",
       "                   -∞                                                         \n",
       "- ────────────────────────────────────────────────────────────────────────────\n",
       "                                         ___                                  \n",
       "                                     2⋅╲╱ π                                   \n",
       "\n",
       "            ∞                                                                 \n",
       "            ⌠                                                                 \n",
       "            ⎮               t                                                 \n",
       "            ⎮               ⌠                                                 \n",
       "            ⎮   -ⅈ⋅\\omega⋅t ⎮   ⅈ⋅\\omega⋅{t'}                                 \n",
       "     \\gamma⋅⎮  ℯ           ⋅⎮  ℯ             ⋅OperatorFunction(a,{t'}) d({t'})\n",
       "            ⎮               ⌡                                                 \n",
       "a)          ⎮               t₀                                                \n",
       "            ⌡                                                                 \n",
       "            -∞                                                                \n",
       "── - ─────────────────────────────────────────────────────────────────────────\n",
       "                                             2⋅π                              \n",
       "                                                                              \n",
       "\n",
       "          \n",
       "          \n",
       "          \n",
       "          \n",
       "          \n",
       " d(\\omega)\n",
       "          \n",
       "          \n",
       "          \n",
       "          \n",
       "──────────\n",
       "          \n",
       "          "
      ]
     },
     "execution_count": 17,
     "metadata": {},
     "output_type": "execute_result"
    }
   ],
   "source": [
    "term2_4 = pull_outwards(term2_3.replace(g(w), sqrt(gamma/(2*pi))))\n",
    "term2_4"
   ]
  },
  {
   "cell_type": "markdown",
   "metadata": {},
   "source": [
    "Defining an <i>input field</i> as "
   ]
  },
  {
   "cell_type": "markdown",
   "metadata": {},
   "source": [
    "$$\n",
    "a_{in}(t) = -\\frac{1}{\\sqrt{2\\pi}} \\int_{-\\infty}^{\\infty} d\\omega\\ e^{-i\\omega(t-t_0)} b_\\omega(t_0)\n",
    "$$"
   ]
  },
  {
   "cell_type": "code",
   "execution_count": 18,
   "metadata": {
    "collapsed": false
   },
   "outputs": [
    {
     "data": {
      "image/png": "[encoded data removed]",
      "text/latex": [
       "$$- \\frac{\\sqrt{2}}{2 \\sqrt{\\pi}} \\int_{-\\infty}^{\\infty} e^{- i \\omega \\left(t - t_{0}\\right)} {{{b_{\\omega}}}(t_{0})}\\, d\\omega$$"
      ],
      "text/plain": [
       "       ∞                                                       \n",
       "       ⌠                                                       \n",
       "   ___ ⎮   -ⅈ⋅\\omega⋅(t - t₀)                                  \n",
       "-╲╱ 2 ⋅⎮  ℯ                  ⋅OperatorFunction(b,t₀) d(\\omega) \n",
       "       ⌡                                                       \n",
       "       -∞                                                      \n",
       "───────────────────────────────────────────────────────────────\n",
       "                                ___                            \n",
       "                            2⋅╲╱ π                             "
      ]
     },
     "execution_count": 18,
     "metadata": {},
     "output_type": "execute_result"
    }
   ],
   "source": [
    "a_in_t = -1/sqrt(2*pi) * Integral(exp(-I*w*(t-t0)) * b_w_t(t0), (w, -oo, oo))\n",
    "a_in_t"
   ]
  },
  {
   "cell_type": "markdown",
   "metadata": {},
   "source": [
    "This operator satisfies the commutation relation"
   ]
  },
  {
   "cell_type": "markdown",
   "metadata": {},
   "source": [
    "$[a_{in}(t), a_{in}^\\dagger(t')] = $"
   ]
  },
  {
   "cell_type": "code",
   "execution_count": 19,
   "metadata": {
    "collapsed": false
   },
   "outputs": [
    {
     "data": {
      "image/png": "[encoded data removed]",
      "text/latex": [
       "$$- \\frac{1}{2 \\pi} \\left[\\int_{-\\infty}^{\\infty} e^{i {\\omega'} \\left(- t_{0} + {t'}\\right)} {{{{b_{{\\omega'}}}^\\dagger}}(t_{0})}\\, d{\\omega'},\\int_{-\\infty}^{\\infty} e^{- i \\omega \\left(t - t_{0}\\right)} {{{b_{\\omega}}}(t_{0})}\\, d\\omega\\right]$$"
      ],
      "text/plain": [
       " ⎡∞                                                                 ∞         \n",
       " ⎢⌠                                                                 ⌠         \n",
       " ⎢⎮   ⅈ⋅{\\omega'}⋅(-t₀ + {t'})                 ⎛ †   ⎞              ⎮   -ⅈ⋅\\om\n",
       "-⎢⎮  ℯ                        ⋅OperatorFunction⎝b ,t₀⎠ d({\\omega'}),⎮  ℯ      \n",
       " ⎢⌡                                                                 ⌡         \n",
       " ⎣-∞                                                                -∞        \n",
       "──────────────────────────────────────────────────────────────────────────────\n",
       "                                                             2⋅π              \n",
       "\n",
       "                                             ⎤ \n",
       "                                             ⎥ \n",
       "ega⋅(t - t₀)                                 ⎥ \n",
       "            ⋅OperatorFunction(b,t₀) d(\\omega)⎥ \n",
       "                                             ⎥ \n",
       "                                             ⎦ \n",
       "───────────────────────────────────────────────\n",
       "                                               "
      ]
     },
     "execution_count": 19,
     "metadata": {},
     "output_type": "execute_result"
    }
   ],
   "source": [
    "comm = Commutator(a_in_t, Dagger(a_in_t.replace(t, t_)).replace(w, w_))\n",
    "comm"
   ]
  },
  {
   "cell_type": "code",
   "execution_count": 20,
   "metadata": {
    "collapsed": false
   },
   "outputs": [
    {
     "data": {
      "image/png": "[encoded data removed]",
      "text/latex": [
       "$$\\delta\\left(- t + {t'}\\right)$$"
      ],
      "text/plain": [
       "DiracDelta(-t + {t'})"
      ]
     },
     "execution_count": 20,
     "metadata": {},
     "output_type": "execute_result"
    }
   ],
   "source": [
    "replace_dirac_delta(pull_outwards(push_inwards(comm.expand(commutator=True).expand(commutator=True)).doit().args[1][0]))"
   ]
  },
  {
   "cell_type": "markdown",
   "metadata": {},
   "source": [
    "The operator $a_{in}(t)$ satisfies the commutation relations:\n",
    "$$\n",
    "[a_{in}(t),a_{in}^\\dagger (t')] = \\delta (t-t'), \\quad [a_{in}(t),a_{in}(t')] =[a_{in}^\\dagger(t),a_{in}^\\dagger (t')] =0\n",
    "$$"
   ]
  },
  {
   "cell_type": "markdown",
   "metadata": {},
   "source": [
    "So it is possible to treat them as multimode Bosonic Operators with continuous mode $t$."
   ]
  },
  {
   "cell_type": "code",
   "execution_count": 21,
   "metadata": {
    "collapsed": false
   },
   "outputs": [
    {
     "data": {
      "image/png": "[encoded data removed]",
      "text/latex": [
       "$${{a_{in}}(t)}$$"
      ],
      "text/plain": [
       "OperatorFunction(a_in,t)"
      ]
     },
     "execution_count": 21,
     "metadata": {},
     "output_type": "execute_result"
    }
   ],
   "source": [
    "a_in = Operator('a_in')\n",
    "a_in_t = OperatorFunction(a_in, t)\n",
    "a_in_t"
   ]
  },
  {
   "cell_type": "code",
   "execution_count": 22,
   "metadata": {
    "collapsed": false
   },
   "outputs": [
    {
     "data": {
      "image/png": "[encoded data removed]",
      "text/latex": [
       "$$\\sqrt{\\gamma} {{a_{in}}(t)} - \\frac{\\gamma}{2 \\pi} \\int_{-\\infty}^{\\infty} e^{- i \\omega t} \\int_{t_{0}}^{t} e^{i \\omega {t'}} {{{a}}({t'})}\\, d{t'}\\, d\\omega$$"
      ],
      "text/plain": [
       "                                             ∞                                \n",
       "                                             ⌠                                \n",
       "                                             ⎮               t                \n",
       "                                             ⎮               ⌠                \n",
       "                                             ⎮   -ⅈ⋅\\omega⋅t ⎮   ⅈ⋅\\omega⋅{t'}\n",
       "                                      \\gamma⋅⎮  ℯ           ⋅⎮  ℯ             \n",
       "                                             ⎮               ⌡                \n",
       "                                             ⎮               t₀               \n",
       "                                             ⌡                                \n",
       "  ________                                   -∞                               \n",
       "╲╱ \\gamma ⋅OperatorFunction(a_in,t) - ────────────────────────────────────────\n",
       "                                                                              \n",
       "\n",
       "                                           \n",
       "                                           \n",
       "                                           \n",
       "                                           \n",
       "                                           \n",
       "⋅OperatorFunction(a,{t'}) d({t'}) d(\\omega)\n",
       "                                           \n",
       "                                           \n",
       "                                           \n",
       "                                           \n",
       "───────────────────────────────────────────\n",
       "2⋅π                                        "
      ]
     },
     "execution_count": 22,
     "metadata": {},
     "output_type": "execute_result"
    }
   ],
   "source": [
    "term2_5 = term2_4.subs(Integral(exp(-I*w*(t-t0)) * b_w_t(t0), (w, -oo, oo)).expand(), -sqrt(2*pi)* a_in_t)\n",
    "term2_5"
   ]
  },
  {
   "cell_type": "markdown",
   "metadata": {},
   "source": [
    "Applying the <b>Leibniz integral rule</b>(http://en.wikipedia.org/wiki/Leibniz_integral_rule),"
   ]
  },
  {
   "cell_type": "code",
   "execution_count": 23,
   "metadata": {
    "collapsed": false
   },
   "outputs": [
    {
     "data": {
      "image/png": "[encoded data removed]",
      "text/latex": [
       "$$\\sqrt{\\gamma} {{a_{in}}(t)} - \\frac{\\gamma}{2 \\pi} \\int_{t_{0}}^{t} \\left(\\int_{-\\infty}^{\\infty} e^{- i \\omega t} e^{i \\omega {t'}}\\, d\\omega\\right) {{{a}}({t'})}\\, d{t'}$$"
      ],
      "text/plain": [
       "                                             t                                \n",
       "                                             ⌠                                \n",
       "                                             ⎮  ⎛∞                            \n",
       "                                             ⎮  ⎜⌠                            \n",
       "                                             ⎮  ⎜⎮   -ⅈ⋅\\omega⋅t  ⅈ⋅\\omega⋅{t'\n",
       "                                      \\gamma⋅⎮  ⎜⎮  ℯ           ⋅ℯ            \n",
       "                                             ⎮  ⎜⌡                            \n",
       "                                             ⎮  ⎝-∞                           \n",
       "                                             ⌡                                \n",
       "  ________                                   t₀                               \n",
       "╲╱ \\gamma ⋅OperatorFunction(a_in,t) - ────────────────────────────────────────\n",
       "                                                                              \n",
       "\n",
       "                                             \n",
       "                                             \n",
       "           ⎞                                 \n",
       "           ⎟                                 \n",
       "}          ⎟                                 \n",
       "  d(\\omega)⎟⋅OperatorFunction(a,{t'}) d({t'})\n",
       "           ⎟                                 \n",
       "           ⎠                                 \n",
       "                                             \n",
       "                                             \n",
       "─────────────────────────────────────────────\n",
       " 2⋅π                                         "
      ]
     },
     "execution_count": 23,
     "metadata": {},
     "output_type": "execute_result"
    }
   ],
   "source": [
    "term2_6 = pull_outwards(exchange_integral_order(push_inwards(term2_5)))\n",
    "term2_6"
   ]
  },
  {
   "cell_type": "markdown",
   "metadata": {},
   "source": [
    "and replacing the integrand with Dirac Delta function,"
   ]
  },
  {
   "cell_type": "code",
   "execution_count": 24,
   "metadata": {
    "collapsed": false
   },
   "outputs": [
    {
     "data": {
      "image/png": "[encoded data removed]",
      "text/latex": [
       "$$\\sqrt{\\gamma} {{a_{in}}(t)} + \\gamma \\theta\\left(- t + t_{0}\\right) {{{a}}(t)} - \\frac{\\gamma {{{a}}(t)}}{2}$$"
      ],
      "text/plain": [
       "  ________                                                                    \n",
       "╲╱ \\gamma ⋅OperatorFunction(a_in,t) + \\gamma⋅Heaviside(-t + t₀)⋅OperatorFuncti\n",
       "                                                                              \n",
       "\n",
       "          \\gamma⋅OperatorFunction(a,t)\n",
       "on(a,t) - ────────────────────────────\n",
       "                       2              "
      ]
     },
     "execution_count": 24,
     "metadata": {},
     "output_type": "execute_result"
    }
   ],
   "source": [
    "term2_7 = replace_dirac_delta(term2_6).doit().expand()\n",
    "term2_7"
   ]
  },
  {
   "cell_type": "markdown",
   "metadata": {},
   "source": [
    "To use our assumption $t>t_0$, we introduce the function <tt>assume_positive</tt>,"
   ]
  },
  {
   "cell_type": "code",
   "execution_count": 25,
   "metadata": {
    "collapsed": false
   },
   "outputs": [],
   "source": [
    "def assume_positive(e, p_number):\n",
    "    \"\"\"\n",
    "    Assume p_number positive in the expression e\n",
    "    \"\"\"\n",
    "    positive = Symbol(\"epsilon\",positive=True)\n",
    "    return e.subs(p_number, positive).subs(positive, p_number)"
   ]
  },
  {
   "cell_type": "code",
   "execution_count": 26,
   "metadata": {
    "collapsed": false
   },
   "outputs": [
    {
     "data": {
      "image/png": "[encoded data removed]",
      "text/latex": [
       "$$\\sqrt{\\gamma} {{a_{in}}(t)} - \\frac{\\gamma {{{a}}(t)}}{2}$$"
      ],
      "text/plain": [
       "  ________                            \\gamma⋅OperatorFunction(a,t)\n",
       "╲╱ \\gamma ⋅OperatorFunction(a_in,t) - ────────────────────────────\n",
       "                                                   2              "
      ]
     },
     "execution_count": 26,
     "metadata": {},
     "output_type": "execute_result"
    }
   ],
   "source": [
    "term2 = assume_positive(term2_7, t-t0)\n",
    "term2"
   ]
  },
  {
   "cell_type": "markdown",
   "metadata": {},
   "source": [
    "So, the Heisenberg equation of motion for cavity field $a(t)$ reduces to"
   ]
  },
  {
   "cell_type": "code",
   "execution_count": 27,
   "metadata": {
    "collapsed": false
   },
   "outputs": [
    {
     "data": {
      "image/png": "[encoded data removed]",
      "text/latex": [
       "$$\\dot{a} (t) = \\sqrt{\\gamma} {{a_{in}}(t)} - \\frac{\\gamma {{{a}}(t)}}{2} + \\frac{i \\left[H_{sys},{{{a}}(t)}\\right]}{\\hbar}$$"
      ],
      "text/plain": [
       "                ________                            \\gamma⋅OperatorFunction(a,\n",
       "\\dot{a} (t) = ╲╱ \\gamma ⋅OperatorFunction(a_in,t) - ──────────────────────────\n",
       "                                                                 2            \n",
       "\n",
       "t)   ⅈ⋅[H_sys,OperatorFunction(a,t)]\n",
       "── + ───────────────────────────────\n",
       "                    h̅              "
      ]
     },
     "execution_count": 27,
     "metadata": {},
     "output_type": "execute_result"
    }
   ],
   "source": [
    "a_t_diff1 = term1 + term2\n",
    "a_t_diffsym = Symbol(\"\\dot{a} (t)\")\n",
    "Eq(a_t_diffsym, a_t_diff1)"
   ]
  },
  {
   "cell_type": "markdown",
   "metadata": {},
   "source": [
    "This is a <i>quantum stochastic differential equation</i> (qsde) for the intracavity field, $a(t)$."
   ]
  },
  {
   "cell_type": "markdown",
   "metadata": {},
   "source": [
    "Alternatively, we can define the output field operator as\n",
    "$$\n",
    "a_{out}(t) = \\frac{1}{\\sqrt{2\\pi}} \\int_{-\\infty}^{\\infty} d\\omega \\ e^{-i\\omega(t-t_1)} b_\\omega(t_1)\n",
    "$$"
   ]
  },
  {
   "cell_type": "markdown",
   "metadata": {},
   "source": [
    "By the same token, $a_{out}(t)$ also satisfied the commutation relations\n",
    "\n",
    "\n",
    "$$\n",
    "[a_{out}(t),a_{out}^\\dagger (t')] = \\delta (t-t'), \\quad [a_{out}(t),a_{out}(t')] =[a_{out}^\\dagger(t),a_{out}^\\dagger (t')] =0\n",
    "$$\n",
    "and hence can also be considered a multimode Bosonic Operators with continuous mode $t$."
   ]
  },
  {
   "cell_type": "code",
   "execution_count": 28,
   "metadata": {
    "collapsed": false
   },
   "outputs": [
    {
     "data": {
      "image/png": "[encoded data removed]",
      "text/latex": [
       "$${{a_{out}}(t)}$$"
      ],
      "text/plain": [
       "OperatorFunction(a_out,t)"
      ]
     },
     "execution_count": 28,
     "metadata": {},
     "output_type": "execute_result"
    }
   ],
   "source": [
    "a_out = Operator('a_out')\n",
    "a_out_t = OperatorFunction(a_out, t)\n",
    "a_out_t"
   ]
  },
  {
   "cell_type": "markdown",
   "metadata": {},
   "source": [
    "Repeating the same procedure we did just above,"
   ]
  },
  {
   "cell_type": "code",
   "execution_count": 29,
   "metadata": {
    "collapsed": false
   },
   "outputs": [
    {
     "data": {
      "image/png": "[encoded data removed]",
      "text/latex": [
       "$$- \\sqrt{\\gamma} {{a_{out}}(t)} + \\gamma \\theta\\left(- t + t_{1}\\right) {{{a}}(t)} - \\frac{\\gamma {{{a}}(t)}}{2}$$"
      ],
      "text/plain": [
       "    ________                                                                  \n",
       "- ╲╱ \\gamma ⋅OperatorFunction(a_out,t) + \\gamma⋅Heaviside(-t + t₁)⋅OperatorFun\n",
       "                                                                              \n",
       "\n",
       "             \\gamma⋅OperatorFunction(a,t)\n",
       "ction(a,t) - ────────────────────────────\n",
       "                          2              "
      ]
     },
     "execution_count": 29,
     "metadata": {},
     "output_type": "execute_result"
    }
   ],
   "source": [
    "term2_2 = term2_1.replace(b_w_t, b_w_t_output).expand()\n",
    "term2_3 = pull_outwards(term2_2)\n",
    "term2_4 = pull_outwards(term2_3.replace(g(w), sqrt(gamma/(2*pi))))\n",
    "term2_5 = term2_4.subs(Integral(exp(-I*w*(t-t1)) * b_w_t(t1), (w, -oo, oo)).expand(), sqrt(2*pi)* a_out_t)\n",
    "term2_6 = pull_outwards(exchange_integral_order(push_inwards(term2_5)))\n",
    "term2_7 = replace_dirac_delta(term2_6).doit().expand()\n",
    "term2_7"
   ]
  },
  {
   "cell_type": "markdown",
   "metadata": {},
   "source": [
    "To use our assumption $t_1>t$, we employ <tt>assume_positive</tt> function, as we did before:"
   ]
  },
  {
   "cell_type": "code",
   "execution_count": 30,
   "metadata": {
    "collapsed": false
   },
   "outputs": [
    {
     "data": {
      "image/png": "[encoded data removed]",
      "text/latex": [
       "$$- \\sqrt{\\gamma} {{a_{out}}(t)} + \\frac{\\gamma {{{a}}(t)}}{2}$$"
      ],
      "text/plain": [
       "    ________                             \\gamma⋅OperatorFunction(a,t)\n",
       "- ╲╱ \\gamma ⋅OperatorFunction(a_out,t) + ────────────────────────────\n",
       "                                                      2              "
      ]
     },
     "execution_count": 30,
     "metadata": {},
     "output_type": "execute_result"
    }
   ],
   "source": [
    "term2_8 = assume_positive(term2_7, t1-t)\n",
    "term2_8"
   ]
  },
  {
   "cell_type": "code",
   "execution_count": 31,
   "metadata": {
    "collapsed": false
   },
   "outputs": [
    {
     "data": {
      "image/png": "[encoded data removed]",
      "text/latex": [
       "$$\\dot{a} (t) = - \\sqrt{\\gamma} {{a_{out}}(t)} + \\frac{\\gamma {{{a}}(t)}}{2} + \\frac{i \\left[H_{sys},{{{a}}(t)}\\right]}{\\hbar}$$"
      ],
      "text/plain": [
       "                  ________                             \\gamma⋅OperatorFunction\n",
       "\\dot{a} (t) = - ╲╱ \\gamma ⋅OperatorFunction(a_out,t) + ───────────────────────\n",
       "                                                                    2         \n",
       "\n",
       "(a,t)   ⅈ⋅[H_sys,OperatorFunction(a,t)]\n",
       "───── + ───────────────────────────────\n",
       "                       h̅              "
      ]
     },
     "execution_count": 31,
     "metadata": {},
     "output_type": "execute_result"
    }
   ],
   "source": [
    "a_t_diff2 = term1 + term2_8\n",
    "Eq(a_t_diffsym, a_t_diff2)"
   ]
  },
  {
   "cell_type": "markdown",
   "metadata": {},
   "source": [
    "To summarize, the Heisenberg equation of motion for the intracavity operator $a(t)$ are given by"
   ]
  },
  {
   "cell_type": "code",
   "execution_count": 32,
   "metadata": {
    "collapsed": false
   },
   "outputs": [
    {
     "data": {
      "image/png": "[encoded data removed]",
      "text/latex": [
       "$$\\dot{a} (t) = \\sqrt{\\gamma} {{a_{in}}(t)} - \\frac{\\gamma {{{a}}(t)}}{2} + \\frac{i \\left[H_{sys},{{{a}}(t)}\\right]}{\\hbar}$$"
      ],
      "text/plain": [
       "                ________                            \\gamma⋅OperatorFunction(a,\n",
       "\\dot{a} (t) = ╲╱ \\gamma ⋅OperatorFunction(a_in,t) - ──────────────────────────\n",
       "                                                                 2            \n",
       "\n",
       "t)   ⅈ⋅[H_sys,OperatorFunction(a,t)]\n",
       "── + ───────────────────────────────\n",
       "                    h̅              "
      ]
     },
     "execution_count": 32,
     "metadata": {},
     "output_type": "execute_result"
    }
   ],
   "source": [
    "Eq(a_t_diffsym, a_t_diff1)"
   ]
  },
  {
   "cell_type": "code",
   "execution_count": 33,
   "metadata": {
    "collapsed": false
   },
   "outputs": [
    {
     "data": {
      "image/png": "[encoded data removed]",
      "text/latex": [
       "$$\\dot{a} (t) = - \\sqrt{\\gamma} {{a_{out}}(t)} + \\frac{\\gamma {{{a}}(t)}}{2} + \\frac{i \\left[H_{sys},{{{a}}(t)}\\right]}{\\hbar}$$"
      ],
      "text/plain": [
       "                  ________                             \\gamma⋅OperatorFunction\n",
       "\\dot{a} (t) = - ╲╱ \\gamma ⋅OperatorFunction(a_out,t) + ───────────────────────\n",
       "                                                                    2         \n",
       "\n",
       "(a,t)   ⅈ⋅[H_sys,OperatorFunction(a,t)]\n",
       "───── + ───────────────────────────────\n",
       "                       h̅              "
      ]
     },
     "execution_count": 33,
     "metadata": {},
     "output_type": "execute_result"
    }
   ],
   "source": [
    "Eq(a_t_diffsym, a_t_diff2)"
   ]
  },
  {
   "cell_type": "markdown",
   "metadata": {},
   "source": [
    "and hence the input and output fields are then seen to be related by"
   ]
  },
  {
   "cell_type": "code",
   "execution_count": 34,
   "metadata": {
    "collapsed": false
   },
   "outputs": [
    {
     "data": {
      "image/png": "[encoded data removed]",
      "text/latex": [
       "$${{{a}}(t)} = \\frac{1}{\\sqrt{\\gamma}} \\left({{a_{in}}(t)} + {{a_{out}}(t)}\\right)$$"
      ],
      "text/plain": [
       "                        OperatorFunction(a_in,t) + OperatorFunction(a_out,t)\n",
       "OperatorFunction(a,t) = ────────────────────────────────────────────────────\n",
       "                                               ________                     \n",
       "                                             ╲╱ \\gamma                      "
      ]
     },
     "execution_count": 34,
     "metadata": {},
     "output_type": "execute_result"
    }
   ],
   "source": [
    "Eq(a_t, solve(a_t_diff2 - a_t_diff1, a_t)[0])"
   ]
  },
  {
   "cell_type": "markdown",
   "metadata": {},
   "source": [
    "### Linear Systems"
   ]
  },
  {
   "cell_type": "markdown",
   "metadata": {},
   "source": [
    "For a linear system, the Heisenberg equation of motion for $a(t)$ can be simply expressed as\n",
    "\n",
    "\n",
    "$$\n",
    "\\frac{d\\mathbf{a}(t)}{dt} = \\left( \\mathbf{A} - \\frac{\\gamma}{2}\\mathbb{I}\\right) \\mathbf{a}(t) + \\sqrt{\\gamma} \\mathbf{a}_{in}(t) \\\\\n",
    "= \\left( \\mathbf{A} + \\frac{\\gamma}{2}\\mathbb{I}\\right) \\mathbf{a}(t) - \\sqrt{\\gamma} \\mathbf{a}_{out}(t)\n",
    "$$\n",
    "\n",
    "where\n",
    "$$\\mathbf{a}(t) = \\begin{bmatrix} a(t) \\\\ a^\\dagger (t) \\end{bmatrix}\n",
    "$$\n",
    "and $\\mathbf{A}$ is a matrix."
   ]
  },
  {
   "cell_type": "markdown",
   "metadata": {},
   "source": [
    "In terms of the frequency components, defined by $\\tilde{a}(\\omega) \\equiv \\frac{1}{\\sqrt{2\\pi}} \\int_{-\\infty}^{\\infty} e^{i\\omega t} a(t) dt$,"
   ]
  },
  {
   "cell_type": "markdown",
   "metadata": {},
   "source": [
    "$$\n",
    "\\mathbf{a}(t) = \\begin{bmatrix}\n",
    "\\frac{1}{\\sqrt{2\\pi}} \\int_{-\\infty}^{\\infty} e^{-i\\omega t} \\tilde{a}(\\omega) d\\omega \\\\\n",
    "\\frac{1}{\\sqrt{2\\pi}} \\int_{-\\infty}^{\\infty} e^{i\\omega t} \\tilde{a}^\\dagger(\\omega) d\\omega \n",
    "\\end{bmatrix}\n",
    "=\n",
    "\\begin{bmatrix}\n",
    "\\frac{1}{\\sqrt{2\\pi}} \\int_{-\\infty}^{\\infty} e^{-i\\omega t} \\tilde{a}(\\omega) d\\omega \\\\\n",
    "\\frac{1}{\\sqrt{2\\pi}} \\int_{-\\infty}^{\\infty} e^{-i\\omega t} \\tilde{a}^\\dagger(-\\omega) d\\omega \n",
    "\\end{bmatrix}\n",
    "= \\frac{1}{\\sqrt{2\\pi}} \\int_{-\\infty}^{\\infty} e^{-i\\omega t}  \\tilde{\\mathbf{a}}(\\omega) d\\omega\n",
    "$$\n",
    "where\n",
    "$$\\tilde{\\mathbf{a}}(\\omega) = \\begin{bmatrix} a(\\omega) \\\\ a^\\dagger (-\\omega) \\end{bmatrix}\n",
    "$$"
   ]
  },
  {
   "cell_type": "markdown",
   "metadata": {},
   "source": [
    "The equation becomes\n",
    "$$\n",
    "-i\\omega \\tilde{\\mathbf{a}}(\\omega) = \\left(\\mathbf{A} - \\frac{\\gamma}{2}\\mathbb{I}\\right) \\tilde{\\mathbf{a}}(\\omega)+ \\sqrt{\\gamma} \\tilde{\\mathbf{a}}_{in}(\\omega) \\\\\n",
    "= \\left( \\mathbf{A} + \\frac{\\gamma}{2}\\mathbb{I}\\right) \\tilde{\\mathbf{a}}(\\omega) - \\sqrt{\\gamma} \\tilde{\\mathbf{a}}_{out}(\\omega)\n",
    "$$"
   ]
  },
  {
   "cell_type": "markdown",
   "metadata": {},
   "source": [
    "Rearranging to eliminate the intermal mode,$$\n",
    "\\tilde{\\mathbf{a}}_{out}(\\omega) = \\left[ \\mathbf{A} + \\left(\\frac{\\gamma}{2} + i\\omega\\right) \\mathbb{1}\\right]\n",
    "\\left[-\\mathbf{A} + \\left(\\frac{\\gamma}{2} - i\\omega\\right) \\mathbb{1}\\right]^{-1} \\tilde{\\mathbf{a}}_{in}(\\omega)$$"
   ]
  },
  {
   "cell_type": "markdown",
   "metadata": {},
   "source": [
    "## A One-Sided Cavity"
   ]
  },
  {
   "cell_type": "markdown",
   "metadata": {},
   "source": [
    "If the system Hamiltonian is assumed to be a free Harmonic oscillator, we get a model of a single mode in a one-sided cavity."
   ]
  },
  {
   "cell_type": "code",
   "execution_count": 35,
   "metadata": {
    "collapsed": false
   },
   "outputs": [
    {
     "data": {
      "image/png": "[encoded data removed]",
      "text/latex": [
       "$$H_{sys} = \\omega_{0} \\hbar {{{{a}^\\dagger}}(t)} {{{a}}(t)}$$"
      ],
      "text/plain": [
       "                                   ⎛ †  ⎞                      \n",
       "H_sys = \\omega₀⋅h̅⋅OperatorFunction⎝a ,t⎠⋅OperatorFunction(a,t)"
      ]
     },
     "execution_count": 35,
     "metadata": {},
     "output_type": "execute_result"
    }
   ],
   "source": [
    "Hsys = hbar * w0 * Dagger(a_t) * a_t\n",
    "Eq(Hsyssym, Hsys)"
   ]
  },
  {
   "cell_type": "code",
   "execution_count": 36,
   "metadata": {
    "collapsed": false
   },
   "outputs": [
    {
     "data": {
      "image/png": "[encoded data removed]",
      "text/latex": [
       "$$- i \\omega_{0} {{{a}}(t)}$$"
      ],
      "text/plain": [
       "-ⅈ⋅\\omega₀⋅OperatorFunction(a,t)"
      ]
     },
     "execution_count": 36,
     "metadata": {},
     "output_type": "execute_result"
    }
   ],
   "source": [
    "term1_ = term1.subs(Hsyssym, Hsys).expand(commutator=True).doit()\n",
    "term1_"
   ]
  },
  {
   "cell_type": "markdown",
   "metadata": {},
   "source": [
    "The equation for the intermal-mode operator is:"
   ]
  },
  {
   "cell_type": "code",
   "execution_count": 37,
   "metadata": {
    "collapsed": false
   },
   "outputs": [
    {
     "data": {
      "image/png": "[encoded data removed]",
      "text/latex": [
       "$$\\dot{a} (t) = \\sqrt{\\gamma} {{a_{in}}(t)} - \\frac{\\gamma {{{a}}(t)}}{2} - i \\omega_{0} {{{a}}(t)}$$"
      ],
      "text/plain": [
       "                ________                            \\gamma⋅OperatorFunction(a,\n",
       "\\dot{a} (t) = ╲╱ \\gamma ⋅OperatorFunction(a_in,t) - ──────────────────────────\n",
       "                                                                 2            \n",
       "\n",
       "t)                                  \n",
       "── - ⅈ⋅\\omega₀⋅OperatorFunction(a,t)\n",
       "                                    "
      ]
     },
     "execution_count": 37,
     "metadata": {},
     "output_type": "execute_result"
    }
   ],
   "source": [
    "Eq(a_t_diffsym, a_t_diff1.subs(Hsyssym, Hsys).expand(commutator=True).doit())"
   ]
  },
  {
   "cell_type": "markdown",
   "metadata": {},
   "source": [
    "Thus, the matrix $\\mathbf{A}$ becomes"
   ]
  },
  {
   "cell_type": "code",
   "execution_count": 38,
   "metadata": {
    "collapsed": false
   },
   "outputs": [
    {
     "data": {
      "image/png": "[encoded data removed]",
      "text/latex": [
       "$$\\left[\\begin{matrix}- i \\omega_{0} & 0\\\\0 & i \\omega_{0}\\end{matrix}\\right]$$"
      ],
      "text/plain": [
       "⎡-ⅈ⋅\\omega₀      0    ⎤\n",
       "⎢                     ⎥\n",
       "⎣    0       ⅈ⋅\\omega₀⎦"
      ]
     },
     "execution_count": 38,
     "metadata": {},
     "output_type": "execute_result"
    }
   ],
   "source": [
    "A = Matrix([[-I*w0, 0], [0, I*w0]])\n",
    "A"
   ]
  },
  {
   "cell_type": "markdown",
   "metadata": {},
   "source": [
    "and the coefficient matrix connecting $\\tilde{\\mathbf{a}}_{out}(\\omega)$ and $\\tilde{\\mathbf{a}}_{out}(\\omega)$ becomes"
   ]
  },
  {
   "cell_type": "code",
   "execution_count": 39,
   "metadata": {
    "collapsed": false
   },
   "outputs": [
    {
     "data": {
      "image/png": "[encoded data removed]",
      "text/latex": [
       "$$\\left(\\left[\\begin{matrix}- i \\omega_{0} & 0\\\\0 & i \\omega_{0}\\end{matrix}\\right] + \\left(\\frac{\\gamma}{2} + i \\omega\\right) \\mathbb{I}\\right) \\left(\\left[\\begin{matrix}i \\omega_{0} & 0\\\\0 & - i \\omega_{0}\\end{matrix}\\right] + \\left(\\frac{\\gamma}{2} - i \\omega\\right) \\mathbb{I}\\right)^{-1}$$"
      ],
      "text/plain": [
       "                                                                              \n",
       "⎛                          ⎛\\gamma           ⎞  ⎞ ⎛                          ⎛\n",
       "⎜⎡-ⅈ⋅\\omega₀      0    ⎤ + ⎜────── + ⅈ⋅\\omega⎟⋅I⎟⋅⎜⎡ⅈ⋅\\omega₀      0     ⎤ + ⎜\n",
       "⎜⎢                     ⎥   ⎝  2              ⎠  ⎟ ⎜⎢                     ⎥   ⎝\n",
       "⎝⎣    0       ⅈ⋅\\omega₀⎦                        ⎠ ⎝⎣    0      -ⅈ⋅\\omega₀⎦    \n",
       "\n",
       "                     -1\n",
       "\\gamma           ⎞  ⎞  \n",
       "────── - ⅈ⋅\\omega⎟⋅I⎟  \n",
       "  2              ⎠  ⎟  \n",
       "                    ⎠  "
      ]
     },
     "execution_count": 39,
     "metadata": {},
     "output_type": "execute_result"
    }
   ],
   "source": [
    "Id = Identity(2)\n",
    "T = (A + (gamma/2 + I*w) *  Id) * (-A + (gamma/2 - I*w)*Id).inverse()\n",
    "T"
   ]
  },
  {
   "cell_type": "code",
   "execution_count": 40,
   "metadata": {
    "collapsed": false
   },
   "outputs": [
    {
     "data": {
      "image/png": "[encoded data removed]",
      "text/latex": [
       "$$\\left[\\begin{matrix}\\frac{\\frac{\\gamma}{2} + i \\omega - i \\omega_{0}}{\\frac{\\gamma}{2} - i \\omega + i \\omega_{0}} & 0\\\\0 & \\frac{\\frac{\\gamma}{2} + i \\omega + i \\omega_{0}}{\\frac{\\gamma}{2} - i \\omega - i \\omega_{0}}\\end{matrix}\\right]$$"
      ],
      "text/plain": [
       "⎡\\gamma                                                      ⎤\n",
       "⎢────── + ⅈ⋅\\omega - ⅈ⋅\\omega₀                               ⎥\n",
       "⎢  2                                                         ⎥\n",
       "⎢─────────────────────────────                0              ⎥\n",
       "⎢\\gamma                                                      ⎥\n",
       "⎢────── - ⅈ⋅\\omega + ⅈ⋅\\omega₀                               ⎥\n",
       "⎢  2                                                         ⎥\n",
       "⎢                                                            ⎥\n",
       "⎢                               \\gamma                       ⎥\n",
       "⎢                               ────── + ⅈ⋅\\omega + ⅈ⋅\\omega₀⎥\n",
       "⎢                                 2                          ⎥\n",
       "⎢              0                ─────────────────────────────⎥\n",
       "⎢                               \\gamma                       ⎥\n",
       "⎢                               ────── - ⅈ⋅\\omega - ⅈ⋅\\omega₀⎥\n",
       "⎣                                 2                          ⎦"
      ]
     },
     "execution_count": 40,
     "metadata": {},
     "output_type": "execute_result"
    }
   ],
   "source": [
    "T.subs(Id, eye(2)).doit(deep=True)"
   ]
  },
  {
   "cell_type": "markdown",
   "metadata": {},
   "source": [
    "We obtain the following relations:\n",
    "$$\\tilde{a}(\\omega) = \\frac{\\sqrt{\\gamma}}{\\frac{\\gamma}{2} - i(\\omega-\\omega_0)} \\tilde{a}_{in} (\\omega),\\quad\n",
    "\\tilde{a}_{out} (\\omega) = \\frac{\\frac{\\gamma}{2}+i(\\omega-\\omega_0)}{\\frac{\\gamma}{2}-i(\\omega-\\omega_0)} \\tilde{a}_{in} (\\omega) .$$"
   ]
  },
  {
   "cell_type": "code",
   "execution_count": null,
   "metadata": {
    "collapsed": true
   },
   "outputs": [],
   "source": []
  }
 ],
 "metadata": {
  "kernelspec": {
   "display_name": "Python 3",
   "language": "python",
   "name": "python3"
  },
  "language_info": {
   "codemirror_mode": {
    "name": "ipython",
    "version": 3
   },
   "file_extension": ".py",
   "mimetype": "text/x-python",
   "name": "python",
   "nbconvert_exporter": "python",
   "pygments_lexer": "ipython3",
   "version": "3.4.3"
  }
 },
 "nbformat": 4,
 "nbformat_minor": 0
}

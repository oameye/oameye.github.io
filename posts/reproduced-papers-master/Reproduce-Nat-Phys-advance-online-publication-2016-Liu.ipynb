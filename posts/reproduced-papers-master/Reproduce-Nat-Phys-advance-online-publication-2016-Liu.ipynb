{
 "cells": [
  {
   "cell_type": "markdown",
   "metadata": {},
   "source": [
    "# Reproduce: Quantum electrodynamics near a photonic bandgap (Preliminary)"
   ]
  },
  {
   "cell_type": "markdown",
   "metadata": {},
   "source": [
    "Yanbing Liu and Andrew A Houck, Quantum electrodynamics near a photonic bandgap, Nat. Phys., (2016)."
   ]
  },
  {
   "cell_type": "markdown",
   "metadata": {},
   "source": [
    "Reproduced by <strong>Eunjong Kim</strong> (eunjongkim@caltech.edu)"
   ]
  },
  {
   "cell_type": "markdown",
   "metadata": {},
   "source": [
    "## Import Modules"
   ]
  },
  {
   "cell_type": "code",
   "execution_count": 1,
   "metadata": {
    "collapsed": true
   },
   "outputs": [],
   "source": [
    "# Setup for symbolic calculation\n",
    "import sympy as sp\n",
    "sp.init_printing()"
   ]
  },
  {
   "cell_type": "code",
   "execution_count": 2,
   "metadata": {
    "collapsed": false
   },
   "outputs": [],
   "source": [
    "# Setup for numerical calculation\n",
    "import numpy as np\n",
    "import numpy.linalg as la\n",
    "from scipy.optimize import fsolve, brentq\n",
    "from scipy.integrate import quad"
   ]
  },
  {
   "cell_type": "code",
   "execution_count": 3,
   "metadata": {
    "collapsed": true
   },
   "outputs": [],
   "source": [
    "# Setup for plots\n",
    "import matplotlib.pyplot as plt\n",
    "from matplotlib import rcParams, cm\n",
    "%matplotlib inline\n",
    "rcParams.update({\"text.usetex\": True, \"font.size\": 16})"
   ]
  },
  {
   "cell_type": "markdown",
   "metadata": {},
   "source": [
    "##  Dispersion relation and the band structure"
   ]
  },
  {
   "cell_type": "markdown",
   "metadata": {},
   "source": [
    "### Symbolic Calculation using the transfer matrix method"
   ]
  },
  {
   "cell_type": "markdown",
   "metadata": {},
   "source": [
    "In this section, we derive the equation (1) of this paper using the SymPy module (symbolic calulation)."
   ]
  },
  {
   "cell_type": "code",
   "execution_count": 4,
   "metadata": {
    "collapsed": true
   },
   "outputs": [],
   "source": [
    "# Define symbolic variables corresponding to frequency,\n",
    "# wavevector, and size of the unit cell\n",
    "omega_sym = sp.Symbol(r'\\omega')\n",
    "k_sym = sp.Symbol(r'k')\n",
    "d_sym = sp.Symbol(r'd')"
   ]
  },
  {
   "cell_type": "code",
   "execution_count": 5,
   "metadata": {
    "collapsed": false
   },
   "outputs": [],
   "source": [
    "# Define a list of phase velocity, characteristic impedance,\n",
    "# and length of each section of the unit cell\n",
    "v_sym = [sp.Symbol(r'v_{p1}'), sp.Symbol(r'v_{p2}')]\n",
    "Z_sym = [sp.Symbol(r'Z_{1}'), sp.Symbol(r'Z_{2}')]\n",
    "l_sym = [sp.Symbol(r'l_{1}'), sp.Symbol(r'l_{2}')]\n",
    "Z0_sym = sp.Symbol(r'Z_{0}')"
   ]
  },
  {
   "cell_type": "code",
   "execution_count": 6,
   "metadata": {
    "collapsed": true
   },
   "outputs": [],
   "source": [
    "# qubit parameters\n",
    "gamma_sym = sp.Symbol(r'\\gamma')\n",
    "omega_a_sym = sp.Symbol(r'\\omega_a')"
   ]
  },
  {
   "cell_type": "markdown",
   "metadata": {},
   "source": [
    "We define the transfer matrix (ABCD) of each coplanar waveguide (CPW) section,"
   ]
  },
  {
   "cell_type": "code",
   "execution_count": 7,
   "metadata": {
    "collapsed": true
   },
   "outputs": [],
   "source": [
    "def CPW_ABCD_sym(omega, idx):\n",
    "    \"\"\"\n",
    "    Construct an ABCD matrix (symbolic) of the coplanar waveguide of specified index\n",
    "    \"\"\"\n",
    "    A = sp.cos(omega * l_sym[idx] / v_sym[idx])\n",
    "    B = sp.I * sp.sin(omega * l_sym[idx] / v_sym[idx]) * Z_sym[idx]\n",
    "    C = sp.I * sp.sin(omega * l_sym[idx] / v_sym[idx]) / Z_sym[idx]\n",
    "    D = sp.cos(omega * l_sym[idx] / v_sym[idx])\n",
    "    return sp.Matrix([[A, B], [C, D]])\n",
    "\n"
   ]
  },
  {
   "cell_type": "markdown",
   "metadata": {},
   "source": [
    "The transfer matrix $M_\\textrm{unit}$ is the product of that of each section:"
   ]
  },
  {
   "cell_type": "code",
   "execution_count": 8,
   "metadata": {
    "collapsed": false
   },
   "outputs": [
    {
     "data": {
      "image/png": "[encoded data removed]",
      "text/latex": [
       "$$\\left[\\begin{matrix}- \\frac{Z_{1}}{Z_{2}} \\sin{\\left (\\frac{\\omega l_{1}}{v_{p1}} \\right )} \\sin{\\left (\\frac{\\omega l_{2}}{v_{p2}} \\right )} + \\cos{\\left (\\frac{\\omega l_{1}}{v_{p1}} \\right )} \\cos{\\left (\\frac{\\omega l_{2}}{v_{p2}} \\right )} & i Z_{1} \\sin{\\left (\\frac{\\omega l_{1}}{v_{p1}} \\right )} \\cos{\\left (\\frac{\\omega l_{2}}{v_{p2}} \\right )} + i Z_{2} \\sin{\\left (\\frac{\\omega l_{2}}{v_{p2}} \\right )} \\cos{\\left (\\frac{\\omega l_{1}}{v_{p1}} \\right )}\\\\\\frac{i}{Z_{2}} \\sin{\\left (\\frac{\\omega l_{2}}{v_{p2}} \\right )} \\cos{\\left (\\frac{\\omega l_{1}}{v_{p1}} \\right )} + \\frac{i}{Z_{1}} \\sin{\\left (\\frac{\\omega l_{1}}{v_{p1}} \\right )} \\cos{\\left (\\frac{\\omega l_{2}}{v_{p2}} \\right )} & \\cos{\\left (\\frac{\\omega l_{1}}{v_{p1}} \\right )} \\cos{\\left (\\frac{\\omega l_{2}}{v_{p2}} \\right )} - \\frac{Z_{2}}{Z_{1}} \\sin{\\left (\\frac{\\omega l_{1}}{v_{p1}} \\right )} \\sin{\\left (\\frac{\\omega l_{2}}{v_{p2}} \\right )}\\end{matrix}\\right]$$"
      ],
      "text/plain": [
       "⎡           ⎛\\omega⋅l_{1}⎞    ⎛\\omega⋅l_{2}⎞                                  \n",
       "⎢  Z_{1}⋅sin⎜────────────⎟⋅sin⎜────────────⎟                                  \n",
       "⎢           ⎝   v_{p1}   ⎠    ⎝   v_{p2}   ⎠      ⎛\\omega⋅l_{1}⎞    ⎛\\omega⋅l_\n",
       "⎢- ───────────────────────────────────────── + cos⎜────────────⎟⋅cos⎜─────────\n",
       "⎢                    Z_{2}                        ⎝   v_{p1}   ⎠    ⎝   v_{p2}\n",
       "⎢                                                                             \n",
       "⎢       ⎛\\omega⋅l_{2}⎞    ⎛\\omega⋅l_{1}⎞        ⎛\\omega⋅l_{1}⎞    ⎛\\omega⋅l_{2\n",
       "⎢  ⅈ⋅sin⎜────────────⎟⋅cos⎜────────────⎟   ⅈ⋅sin⎜────────────⎟⋅cos⎜───────────\n",
       "⎢       ⎝   v_{p2}   ⎠    ⎝   v_{p1}   ⎠        ⎝   v_{p1}   ⎠    ⎝   v_{p2}  \n",
       "⎢  ───────────────────────────────────── + ───────────────────────────────────\n",
       "⎣                  Z_{2}                                   Z_{1}              \n",
       "\n",
       "                                                                              \n",
       "                                                                              \n",
       "{2}⎞             ⎛\\omega⋅l_{1}⎞    ⎛\\omega⋅l_{2}⎞              ⎛\\omega⋅l_{2}⎞ \n",
       "───⎟  ⅈ⋅Z_{1}⋅sin⎜────────────⎟⋅cos⎜────────────⎟ + ⅈ⋅Z_{2}⋅sin⎜────────────⎟⋅\n",
       "   ⎠             ⎝   v_{p1}   ⎠    ⎝   v_{p2}   ⎠              ⎝   v_{p2}   ⎠ \n",
       "                                                                              \n",
       "}⎞                                                        ⎛\\omega⋅l_{1}⎞    ⎛\\\n",
       "─⎟                                               Z_{2}⋅sin⎜────────────⎟⋅sin⎜─\n",
       " ⎠            ⎛\\omega⋅l_{1}⎞    ⎛\\omega⋅l_{2}⎞            ⎝   v_{p1}   ⎠    ⎝ \n",
       "──         cos⎜────────────⎟⋅cos⎜────────────⎟ - ─────────────────────────────\n",
       "              ⎝   v_{p1}   ⎠    ⎝   v_{p2}   ⎠                     Z_{1}      \n",
       "\n",
       "                 ⎤\n",
       "                 ⎥\n",
       "   ⎛\\omega⋅l_{1}⎞⎥\n",
       "cos⎜────────────⎟⎥\n",
       "   ⎝   v_{p1}   ⎠⎥\n",
       "                 ⎥\n",
       "omega⋅l_{2}⎞     ⎥\n",
       "───────────⎟     ⎥\n",
       "  v_{p2}   ⎠     ⎥\n",
       "────────────     ⎥\n",
       "                 ⎦"
      ]
     },
     "execution_count": 8,
     "metadata": {},
     "output_type": "execute_result"
    }
   ],
   "source": [
    "M_unit_sym = CPW_ABCD_sym(omega_sym, 0) * CPW_ABCD_sym(omega_sym, 1)\n",
    "M_unit_sym"
   ]
  },
  {
   "cell_type": "markdown",
   "metadata": {},
   "source": [
    "Also, the ABCD matrix $M_a$ for qubit can be described as:"
   ]
  },
  {
   "cell_type": "code",
   "execution_count": 9,
   "metadata": {
    "collapsed": true
   },
   "outputs": [],
   "source": [
    "def qubit_ABCD_sym(omega):\n",
    "    \"\"\"\n",
    "    Construct an ABCD matrix (symbolic) of an atom in the single photon regime\n",
    "    \"\"\"\n",
    "    A = 1\n",
    "    B = 0\n",
    "    C = - sp.I * gamma_sym / (omega - omega_a_sym) / Z0_sym\n",
    "    D = 1\n",
    "    return sp.Matrix([[A, B], [C, D]])"
   ]
  },
  {
   "cell_type": "code",
   "execution_count": 10,
   "metadata": {
    "collapsed": false
   },
   "outputs": [
    {
     "data": {
      "image/png": "[encoded data removed]",
      "text/latex": [
       "$$\\left[\\begin{matrix}1 & 0\\\\- \\frac{i \\gamma}{Z_{0} \\left(\\omega - \\omega_a\\right)} & 1\\end{matrix}\\right]$$"
      ],
      "text/plain": [
       "⎡           1              0⎤\n",
       "⎢                           ⎥\n",
       "⎢       -ⅈ⋅\\gamma           ⎥\n",
       "⎢────────────────────────  1⎥\n",
       "⎣Z_{0}⋅(\\omega - \\omegaₐ)   ⎦"
      ]
     },
     "execution_count": 10,
     "metadata": {},
     "output_type": "execute_result"
    }
   ],
   "source": [
    "qubit_ABCD_sym(omega_sym)"
   ]
  },
  {
   "cell_type": "markdown",
   "metadata": {},
   "source": [
    "Now, we calculate the band structure for the bare photonic crystal (in the absence of qubit). For a periodic system, the voltage $V(x, t)$ and current $I(x, t)$ should be of the Bloch form,\n",
    "$$\n",
    "\\begin{bmatrix} V(0, t) \\\\ I(0, t) \\end{bmatrix}\n",
    "= M_\\textrm{unit}\n",
    "\\begin{bmatrix} V(d, t) \\\\ I(d, t) \\end{bmatrix} = M_\\textrm{unit}e^{ikd}\\begin{bmatrix} V(0, t) \\\\ I(0, t) \\end{bmatrix},\n",
    "$$\n",
    "so that\n",
    "$$\n",
    "M_\\textrm{unit}\\begin{bmatrix} V(0, t) \\\\ I(0, t) \\end{bmatrix}\n",
    "= e^{-ikd}\\begin{bmatrix} V(0, t) \\\\ I(0, t) \\end{bmatrix}.\n",
    "$$"
   ]
  },
  {
   "cell_type": "markdown",
   "metadata": {},
   "source": [
    "We require that the determinant of $ (e^{ikd} M_\\textrm{unit} - I)$ be zero for non-trivial solutions, and we get the following dispersion relation:"
   ]
  },
  {
   "cell_type": "code",
   "execution_count": 11,
   "metadata": {
    "collapsed": false,
    "scrolled": true
   },
   "outputs": [
    {
     "data": {
      "image/png": "[encoded data removed]",
      "text/latex": [
       "$$\\frac{Z_{1}}{2 Z_{2}} \\sin{\\left (\\frac{\\omega l_{1}}{v_{p1}} \\right )} \\sin{\\left (\\frac{\\omega l_{2}}{v_{p2}} \\right )} + \\cos{\\left (k \\left(l_{1} + l_{2}\\right) \\right )} - \\cos{\\left (\\frac{\\omega l_{1}}{v_{p1}} \\right )} \\cos{\\left (\\frac{\\omega l_{2}}{v_{p2}} \\right )} + \\frac{Z_{2}}{2 Z_{1}} \\sin{\\left (\\frac{\\omega l_{1}}{v_{p1}} \\right )} \\sin{\\left (\\frac{\\omega l_{2}}{v_{p2}} \\right )} = 0$$"
      ],
      "text/plain": [
       "         ⎛\\omega⋅l_{1}⎞    ⎛\\omega⋅l_{2}⎞                                     \n",
       "Z_{1}⋅sin⎜────────────⎟⋅sin⎜────────────⎟                                     \n",
       "         ⎝   v_{p1}   ⎠    ⎝   v_{p2}   ⎠                               ⎛\\omeg\n",
       "───────────────────────────────────────── + cos(k⋅(l_{1} + l_{2})) - cos⎜─────\n",
       "                 2⋅Z_{2}                                                ⎝   v_\n",
       "\n",
       "                                      ⎛\\omega⋅l_{1}⎞    ⎛\\omega⋅l_{2}⎞    \n",
       "                             Z_{2}⋅sin⎜────────────⎟⋅sin⎜────────────⎟    \n",
       "a⋅l_{1}⎞    ⎛\\omega⋅l_{2}⎞            ⎝   v_{p1}   ⎠    ⎝   v_{p2}   ⎠    \n",
       "───────⎟⋅cos⎜────────────⎟ + ───────────────────────────────────────── = 0\n",
       "{p1}   ⎠    ⎝   v_{p2}   ⎠                    2⋅Z_{1}                     "
      ]
     },
     "execution_count": 11,
     "metadata": {},
     "output_type": "execute_result"
    }
   ],
   "source": [
    "Expr = sp.simplify(sp.det(M_unit_sym * sp.exp(sp.I * k_sym * d_sym) - sp.eye(2))\n",
    "                   / (2 * sp.exp(sp.I * k_sym * d_sym))).subs(d_sym, sum(l_sym))\n",
    "sp.Eq(Expr, 0)"
   ]
  },
  {
   "cell_type": "markdown",
   "metadata": {},
   "source": [
    "Assuming the same phase velocity in all sections, $v_{p} \\equiv v_{p1} = v_{p2}$"
   ]
  },
  {
   "cell_type": "code",
   "execution_count": 12,
   "metadata": {
    "collapsed": false,
    "scrolled": true
   },
   "outputs": [
    {
     "data": {
      "image/png": "[encoded data removed]",
      "text/latex": [
       "$$\\frac{Z_{1}}{2 Z_{2}} \\sin{\\left (\\frac{\\omega l_{1}}{v_{p}} \\right )} \\sin{\\left (\\frac{\\omega l_{2}}{v_{p}} \\right )} + \\cos{\\left (k \\left(l_{1} + l_{2}\\right) \\right )} - \\cos{\\left (\\frac{\\omega l_{1}}{v_{p}} \\right )} \\cos{\\left (\\frac{\\omega l_{2}}{v_{p}} \\right )} + \\frac{Z_{2}}{2 Z_{1}} \\sin{\\left (\\frac{\\omega l_{1}}{v_{p}} \\right )} \\sin{\\left (\\frac{\\omega l_{2}}{v_{p}} \\right )} = 0$$"
      ],
      "text/plain": [
       "         ⎛\\omega⋅l_{1}⎞    ⎛\\omega⋅l_{2}⎞                                     \n",
       "Z_{1}⋅sin⎜────────────⎟⋅sin⎜────────────⎟                                     \n",
       "         ⎝     vₚ     ⎠    ⎝     vₚ     ⎠                               ⎛\\omeg\n",
       "───────────────────────────────────────── + cos(k⋅(l_{1} + l_{2})) - cos⎜─────\n",
       "                 2⋅Z_{2}                                                ⎝     \n",
       "\n",
       "                                      ⎛\\omega⋅l_{1}⎞    ⎛\\omega⋅l_{2}⎞    \n",
       "                             Z_{2}⋅sin⎜────────────⎟⋅sin⎜────────────⎟    \n",
       "a⋅l_{1}⎞    ⎛\\omega⋅l_{2}⎞            ⎝     vₚ     ⎠    ⎝     vₚ     ⎠    \n",
       "───────⎟⋅cos⎜────────────⎟ + ───────────────────────────────────────── = 0\n",
       "vₚ     ⎠    ⎝     vₚ     ⎠                    2⋅Z_{1}                     "
      ]
     },
     "execution_count": 12,
     "metadata": {},
     "output_type": "execute_result"
    }
   ],
   "source": [
    "v_p_sym = sp.Symbol('v_p')\n",
    "Expr = Expr.subs({v_sym[0]: v_p_sym, v_sym[1]: v_p_sym})\n",
    "sp.Eq(Expr, 0)"
   ]
  },
  {
   "cell_type": "markdown",
   "metadata": {},
   "source": [
    "Thus, the Equation (1) is obtained."
   ]
  },
  {
   "cell_type": "markdown",
   "metadata": {},
   "source": [
    "### Evaluation of the band structure"
   ]
  },
  {
   "cell_type": "markdown",
   "metadata": {},
   "source": [
    "From this dispersion relation, it is possible to numerically evaluate the band structure. First, we put the values of parameters. \n",
    "The eigenfrequency of the second band at $k=\\pi/d$ is given by $\\omega_0 /2\\pi= 7.7\\textrm{ GHz}$. The parameters corresponding to lengths $l$ and the impedances $Z$ are: $l_1 = 0.45\\mathrm{\\ mm}$, $l_2 = 8\\mathrm{\\ mm}$, $Z_1 = 28\\mathrm{\\ \\Omega}$, $Z_2 = 125\\mathrm{\\ \\Omega}$."
   ]
  },
  {
   "cell_type": "code",
   "execution_count": 13,
   "metadata": {
    "collapsed": false
   },
   "outputs": [],
   "source": [
    "# values of parameters in SI units\n",
    "omega0 = 2 * np.pi * 7.7e9\n",
    "\n",
    "l = [0.45e-3, 8e-3]\n",
    "Z = [28, 125]\n",
    "d = sum(l)"
   ]
  },
  {
   "cell_type": "code",
   "execution_count": 14,
   "metadata": {
    "collapsed": false
   },
   "outputs": [],
   "source": [
    "dict_items = []\n",
    "for idx in range(2):\n",
    "    dict_items.append((l_sym[idx], l[idx]))\n",
    "    dict_items.append((Z_sym[idx], Z[idx]))"
   ]
  },
  {
   "cell_type": "markdown",
   "metadata": {},
   "source": [
    "We can compute the value of the phase velocity $v_p$ (assuming $v_{p1} = v_{p2}$) using the dispersion relation and $\\omega = \\omega_0$ at $k = \\pi/d$"
   ]
  },
  {
   "cell_type": "code",
   "execution_count": 15,
   "metadata": {
    "collapsed": false,
    "scrolled": true
   },
   "outputs": [
    {
     "data": {
      "image/png": "[encoded data removed]",
      "text/latex": [
       "$$\\frac{16409}{7000} \\sin{\\left (\\frac{21771237.0893773}{v_{p}} \\right )} \\sin{\\left (\\frac{387044214.922263}{v_{p}} \\right )} - \\cos{\\left (\\frac{21771237.0893773}{v_{p}} \\right )} \\cos{\\left (\\frac{387044214.922263}{v_{p}} \\right )} - 1.0$$"
      ],
      "text/plain": [
       "         ⎛21771237.0893773⎞    ⎛387044214.922263⎞                             \n",
       "16409⋅sin⎜────────────────⎟⋅sin⎜────────────────⎟                             \n",
       "         ⎝       vₚ       ⎠    ⎝       vₚ       ⎠      ⎛21771237.0893773⎞    ⎛\n",
       "───────────────────────────────────────────────── - cos⎜────────────────⎟⋅cos⎜\n",
       "                       7000                            ⎝       vₚ       ⎠    ⎝\n",
       "\n",
       "                       \n",
       "                       \n",
       "387044214.922263⎞      \n",
       "────────────────⎟ - 1.0\n",
       "       vₚ       ⎠      "
      ]
     },
     "execution_count": 15,
     "metadata": {},
     "output_type": "execute_result"
    }
   ],
   "source": [
    "Expr_ = Expr.subs(dict_items)\n",
    "expr_ = Expr_.subs({omega_sym: omega0, k_sym: np.pi/d}); expr_"
   ]
  },
  {
   "cell_type": "code",
   "execution_count": 16,
   "metadata": {
    "collapsed": false
   },
   "outputs": [
    {
     "data": {
      "image/png": "[encoded data removed]",
      "text/latex": [
       "$$124756072.413$$"
      ],
      "text/plain": [
       "124756072.413"
      ]
     },
     "execution_count": 16,
     "metadata": {},
     "output_type": "execute_result"
    }
   ],
   "source": [
    "func = sp.lambdify(v_p_sym, expr_, \"numpy\")\n",
    "v_p = fsolve(func, omega0/(np.pi/d))[0]; v_p"
   ]
  },
  {
   "cell_type": "markdown",
   "metadata": {},
   "source": [
    "Thus the value of the phase velocity is estimated as $v_p = 1.248 \\times 10^{8} \\mathrm{\\ m/s}$. Using this, we calculate the band structure from the dispersion relation"
   ]
  },
  {
   "cell_type": "code",
   "execution_count": 17,
   "metadata": {
    "collapsed": false
   },
   "outputs": [],
   "source": [
    "expr = Expr_.subs(v_p_sym, v_p)\n",
    "func = sp.lambdify((omega_sym, k_sym), expr, \"numpy\")"
   ]
  },
  {
   "cell_type": "code",
   "execution_count": 18,
   "metadata": {
    "collapsed": false
   },
   "outputs": [],
   "source": [
    "# Number of k-points to evaluate\n",
    "N_kPts = 100\n",
    "# Number of bands to evaluate\n",
    "N_band = 4\n",
    "\n",
    "kPts = np.linspace(- np.pi / d, np.pi / d, N_kPts)"
   ]
  },
  {
   "cell_type": "code",
   "execution_count": 19,
   "metadata": {
    "collapsed": false
   },
   "outputs": [],
   "source": [
    "freq = np.zeros((N_band, N_kPts))\n",
    "\n",
    "for n in range(N_band):\n",
    "    for idx, k_ in enumerate(kPts):\n",
    "        # search for eigenfrequency between\n",
    "        # n v_p k_0 and (n+1) v_0 k_0 (k_0 = \\pi / d)\n",
    "        freq[n, idx] = brentq(func, n * (v_p * np.pi / d),\n",
    "                              (n + 1) * (v_p * np.pi / d),\n",
    "                              args=(k_)) / (2 * np.pi)"
   ]
  },
  {
   "cell_type": "code",
   "execution_count": 20,
   "metadata": {
    "collapsed": false
   },
   "outputs": [
    {
     "data": {
      "image/png": "[encoded data removed]",
      "text/plain": [
       "<matplotlib.figure.Figure at 0x10c73f438>"
      ]
     },
     "metadata": {},
     "output_type": "display_data"
    }
   ],
   "source": [
    "fig, ax = plt.subplots(1, 1, figsize=(5, 4))\n",
    "fig_colors = ['green','red','blue', 'purple']\n",
    "for n in range(N_band):\n",
    "    ax.plot(kPts / (np.pi / d), freq[n, :] / 1e9, color=fig_colors[n])\n",
    "\n",
    "ax.set_xlabel(r'Wavevector $k/(\\pi/d)$');\n",
    "ax.set_ylabel('Frequency [GHz]');"
   ]
  },
  {
   "cell_type": "code",
   "execution_count": 21,
   "metadata": {
    "collapsed": false
   },
   "outputs": [],
   "source": [
    "# characteristic impedance of the measurement chain\n",
    "Z0 = 50"
   ]
  },
  {
   "cell_type": "code",
   "execution_count": 22,
   "metadata": {
    "collapsed": true
   },
   "outputs": [],
   "source": [
    "def ABCDtoS(ABCD):\n",
    "    A, B = ABCD[0]\n",
    "    C, D = ABCD[1]\n",
    "    denom = (A + B / Z0 + C * Z0 + D)\n",
    "    S11 = (A + B / Z0 - C * Z0 - D) / denom\n",
    "    S12 = 2 * (A * D - B * C) / denom\n",
    "    S21 = 2 / denom\n",
    "    S22 = (- A + B / Z0 - C * Z0 + D) / denom\n",
    "    return np.array([[S11, S12], [S21, S22]])"
   ]
  },
  {
   "cell_type": "markdown",
   "metadata": {},
   "source": [
    "### The transmission amplitude of the bare photonic crystal"
   ]
  },
  {
   "cell_type": "markdown",
   "metadata": {},
   "source": [
    "Here, I calculate the transmission amplitude of the bare photonic crystal (14 cells) using the transfer matrix method."
   ]
  },
  {
   "cell_type": "code",
   "execution_count": 23,
   "metadata": {
    "collapsed": false
   },
   "outputs": [],
   "source": [
    "M_unit_sym_ = M_unit_sym.subs(dict_items).subs({v_sym[0]: v_p, v_sym[1]: v_p})\n",
    "M_unit = sp.lambdify(omega_sym, M_unit_sym_, \"numpy\")"
   ]
  },
  {
   "cell_type": "code",
   "execution_count": 24,
   "metadata": {
    "collapsed": false
   },
   "outputs": [
    {
     "name": "stderr",
     "output_type": "stream",
     "text": [
      "/opt/local/Library/Frameworks/Python.framework/Versions/3.4/lib/python3.4/site-packages/ipykernel/__main__.py:8: ComplexWarning: Casting complex values to real discards the imaginary part\n"
     ]
    }
   ],
   "source": [
    "N_cell = 14    # Number of unit cells to calculate\n",
    "N_freqPts = 100\n",
    "freqPts = np.linspace(5.5, 8.5, N_freqPts)   # frequency points in units of GHz\n",
    "\n",
    "S12dB = np.zeros(N_freqPts)\n",
    "for idx, freq_ in enumerate(freqPts):\n",
    "    S12dB[idx] = 20 * np.log10(ABCDtoS(la.matrix_power(\n",
    "                    M_unit(2e9*np.pi*freq_), N_cell))[0, 1])"
   ]
  },
  {
   "cell_type": "code",
   "execution_count": 25,
   "metadata": {
    "collapsed": false
   },
   "outputs": [
    {
     "data": {
      "image/png": "[encoded data removed]",
      "text/plain": [
       "<matplotlib.figure.Figure at 0x10c9555c0>"
      ]
     },
     "metadata": {},
     "output_type": "display_data"
    }
   ],
   "source": [
    "fig, ax = plt.subplots(1, 1, figsize=(5, 3))\n",
    "ax.plot(freqPts, S12dB, color='red', lw=2)\n",
    "ax.set_xlabel('Frequency [GHz]')\n",
    "ax.set_ylabel('$S_{12}$ [dB]')\n",
    "ax.set_ylim([-40, 5]);"
   ]
  },
  {
   "cell_type": "markdown",
   "metadata": {},
   "source": [
    "## Numerical Calculation of the band and mode structures from the differential equation"
   ]
  },
  {
   "cell_type": "markdown",
   "metadata": {},
   "source": [
    "### PDE Solving using the discretization"
   ]
  },
  {
   "cell_type": "markdown",
   "metadata": {},
   "source": [
    "To analyze the mode structure (Bloch wavefunction) of an infinite microwave photonic crystal, we solve the following series of differential equations\n",
    "\n",
    "$$\n",
    "\\frac{\\partial}{\\partial x} V(x, t) = -l(x) \\frac{\\partial}{\\partial t} I(x,t), \\quad \\frac{\\partial}{\\partial x} I(x, t) = -c(x) \\frac{\\partial}{\\partial t} V(x,t)\n",
    "$$\n",
    "\n",
    "which reduces to a single partial differential equation of $V(x, t)$\n",
    "\n",
    "$$\n",
    "\\frac{\\partial}{\\partial x} \\left[ \\frac{v_p}{Z_c(x)} \\frac{\\partial V(x,t)}{\\partial x}\\right]\n",
    "= \\frac{1}{v_p Z_c(x)} \\frac{\\partial^2}{\\partial t^2} V(x,t)\n",
    "$$"
   ]
  },
  {
   "cell_type": "markdown",
   "metadata": {},
   "source": [
    "The characteristic impedance $Z_c(x) = \\sqrt{l(x)/c(x)}$ inside the unit cell ($-d/2< x < d/2$) is let to be\n",
    "$$\n",
    "Z_c (x) = \n",
    "$$\n",
    "while the phase velocity $v_p = 1/\\sqrt{l(x)c(x)}$ is a constant."
   ]
  },
  {
   "cell_type": "markdown",
   "metadata": {},
   "source": [
    "The time-independent ODE is obtained by separation of variables $V(x, t) = V(x) e^{i\\omega t}$\n",
    "$$\n",
    "\\frac{d}{dx} \\left[\\frac{1}{Z_c(x)} \\frac{dV(x)}{dx}\\right] = - \\left(\\frac{\\omega}{v_p}\\right)^2 \\frac{V(x)}{Z_c(x)}\n",
    "$$"
   ]
  },
  {
   "cell_type": "markdown",
   "metadata": {},
   "source": [
    "We solve the partial differential equation\n",
    "\n",
    "\n"
   ]
  },
  {
   "cell_type": "markdown",
   "metadata": {},
   "source": [
    "For numerical calculation of the mode structure, we impose the periodic boundary condition $Z_c(x) = Z_c(x+d)$ Fourier series expand $1/Z_c(x)$ as\n",
    "$$\n",
    "\\frac{1}{Z_c (x)} = \\sum_{m} \\eta_{m} e^{i2\\pi m x/d}.\n",
    "$$"
   ]
  },
  {
   "cell_type": "markdown",
   "metadata": {},
   "source": [
    "Here the Fourier coefficients $\\eta_m$ are written as\n",
    "$$\\eta_m = \\frac{1}{d} \\int_{-d/2}^{d/2} dx \\frac{e^{-i 2\\pi m x/d}}{Z_c(x)}$$"
   ]
  },
  {
   "cell_type": "code",
   "execution_count": 26,
   "metadata": {
    "collapsed": false
   },
   "outputs": [],
   "source": [
    "# Characteristic impedance inside the unit cell\n",
    "def Zc(x):\n",
    "    return Z[1] * ((x > - l[1] / 2) * (x < l[1] / 2)) \\\n",
    "           + Z[0] * ((x < - l[1] / 2) + (x > l[1] / 2))\n",
    "\n",
    "def eta(n_):\n",
    "    \"\"\"\n",
    "    The n-th discrete Fourier coefficient of 1/Zc(x).\n",
    "    Imaginary part vanishes due to the even parity of Zc(x)\n",
    "    with respect to the x = 0 plane.\n",
    "    \"\"\"\n",
    "    integrand = lambda x: (1 / Zc(x) *\n",
    "                           np.exp(- 2j * np.pi * n_ * x / d))\n",
    "    return quad(integrand, - d / 2, d / 2)[0] / d"
   ]
  },
  {
   "cell_type": "code",
   "execution_count": 27,
   "metadata": {
    "collapsed": false
   },
   "outputs": [],
   "source": [
    "N_xPts = 100\n",
    "xPts = np.linspace(- d / 2, d / 2, N_xPts)"
   ]
  },
  {
   "cell_type": "code",
   "execution_count": 28,
   "metadata": {
    "collapsed": false
   },
   "outputs": [
    {
     "name": "stderr",
     "output_type": "stream",
     "text": [
      "/opt/local/Library/Frameworks/Python.framework/Versions/3.4/lib/python3.4/site-packages/scipy/integrate/quadpack.py:380: ComplexWarning: Casting complex values to real discards the imaginary part\n",
      "  return _quadpack._qagse(func,a,b,args,full_output,epsabs,epsrel,limit)\n"
     ]
    }
   ],
   "source": [
    "# discrete Fourier space dimension\n",
    "L = 10\n",
    "n = np.arange(- 2 * L, 2 * L + 1)\n",
    "\n",
    "# \n",
    "eta_array = np.zeros(4 * L + 1)\n",
    "for n_ in n:\n",
    "    eta_array[n_ + 2 * L] = eta(n_)"
   ]
  },
  {
   "cell_type": "code",
   "execution_count": 29,
   "metadata": {
    "collapsed": false
   },
   "outputs": [
    {
     "data": {
      "image/png": "[encoded data removed]",
      "text/plain": [
       "<matplotlib.figure.Figure at 0x10c9c8ef0>"
      ]
     },
     "metadata": {},
     "output_type": "display_data"
    }
   ],
   "source": [
    "fig, axes = plt.subplots(1, 2, figsize=(10, 4))\n",
    "\n",
    "axes[0].plot(xPts / d, Zc(xPts), color=fig_colors[0], lw=2)\n",
    "axes[0].set_xlabel('Position in unit cell $x/d$')\n",
    "axes[0].set_ylabel(r'Characteristic Impedance $Z_c$   [$\\Omega$]')\n",
    "axes[0].set_xlim([- 1/2, 1/2]);\n",
    "\n",
    "axes[1].bar(n, eta_array, color=fig_colors[2]);\n",
    "axes[1].set_xlabel(r'$m$')\n",
    "axes[1].set_xlim([- 2 * L, 2 * L]);\n",
    "axes[1].set_ylabel(r'Discrete Fourier Coefficient $\\eta_m$  [$\\Omega^{-1}$]')\n",
    "fig.tight_layout();"
   ]
  },
  {
   "cell_type": "markdown",
   "metadata": {},
   "source": [
    "To solve this differential equation, we introduce eigenfunctions of the Bloch form $V_k(x) = u_k(x) e^{ikx}$ which satisfies $u_k(x+d) = u_k(x)$ and thus can be Fourier series expanded as\n",
    "$$ u_k(x) = \\sum_{m} c_{k,m} e^{i2\\pi m x/d}$$"
   ]
  },
  {
   "cell_type": "markdown",
   "metadata": {},
   "source": [
    "$$\n",
    "\\frac{d}{dx} \\left[\\sum_{m} \\eta_{m} e^{i2\\pi m x/d} \\frac{d}{dx}\\sum_{m'} c_{k,m'} e^{i(k+2\\pi m' /d)x}\\right] = - \\left(\\frac{\\omega}{v_p}\\right)^2 \\sum_{m} \\eta_{m} e^{i2\\pi m x/d}\\sum_{m'} c_{k,m'} e^{i(k+2\\pi m' /d)x}\n",
    "$$"
   ]
  },
  {
   "cell_type": "markdown",
   "metadata": {},
   "source": [
    "$$\n",
    "\\frac{d}{dx} \\left[\\sum_{m,m'} \\eta_{m} i\\left(k+\\frac{2\\pi m'}{d}\\right)c_{k,m'} e^{i[k+2\\pi (m+m') /d]x}\\right] = - \\left(\\frac{\\omega}{v_p}\\right)^2 \\sum_{m,m'} \\eta_{m} c_{k,m'} e^{i[k+2\\pi (m+m') /d)]x}\n",
    "$$"
   ]
  },
  {
   "cell_type": "markdown",
   "metadata": {},
   "source": [
    "$$\n",
    "\\sum_{m,m'} \\eta_{m} i\\left(k+\\frac{2\\pi m'}{d}\\right)i\\left(k+\\frac{2\\pi (m+m')}{d}\\right) c_{k,m'} e^{i[k+2\\pi (m+m') /d]x} = - \\left(\\frac{\\omega}{v_p}\\right)^2 \\sum_{m,m'} \\eta_{m} c_{k,m'} e^{i[k+2\\pi (m+m') /d)]x}\n",
    "$$"
   ]
  },
  {
   "cell_type": "markdown",
   "metadata": {},
   "source": [
    "We introduce a new index $n$ to replace $m = n-m'$\n",
    "$$\n",
    "-\\sum_{m', n} \\eta_{n-m'} \\left(k+\\frac{2\\pi m'}{d}\\right)\\left(k+\\frac{2\\pi n}{d}\\right) c_{k,m'} e^{i(k+2\\pi n /d)x} = - \\left(\\frac{\\omega}{v_p}\\right)^2 \\sum_{m',n} \\eta_{n-m'} c_{k,m'} e^{i(k+ 2\\pi n /d)x}\n",
    "$$"
   ]
  },
  {
   "cell_type": "markdown",
   "metadata": {},
   "source": [
    "Applying the inverse Fourier transform $\\frac{1}{d}\\int_{-d/2}^{d/2} dx \\ e^{-i(k+2\\pi m/d)x}$,\n",
    "$$\n",
    "-\\sum_{m', n} \\eta_{n-m'} \\left(k+\\frac{2\\pi m'}{d}\\right)\\left(k+\\frac{2\\pi n}{d}\\right) c_{k,m'}\\left[ \\frac{1}{d}\\int_{-d/2}^{d/2}dx\\ e^{i2\\pi (n-m)x /d }\\right] = - \\left(\\frac{\\omega}{v_p}\\right)^2 \\sum_{m',n} \\eta_{n-m'} c_{k,m'}\\left[ \\frac{1}{d}\\int_{-d/2}^{d/2}dx\\ e^{i2\\pi (n-m)x /d }\\right]\n",
    "$$"
   ]
  },
  {
   "cell_type": "markdown",
   "metadata": {},
   "source": [
    "The delta function identity\n",
    "$$\n",
    "\\frac{1}{d}\\int_{-d/2}^{d/2} dx\\ e^{i2\\pi (n-m)x /d} = \\delta_{n,m}\n",
    "$$\n",
    "reduces the equation into a summation only in one index $m'$\n",
    "$$\n",
    "\\sum_{m'} \\eta_{m-m'} \\left(k + \\frac{2\\pi m}{d}\\right)\\left(k + \\frac{2\\pi m'}{d}\\right) c_{k, m'}\n",
    "=  \\left(\\frac{\\omega}{v_p}\\right)^2 \\sum_{m'} \\eta_{m-m'} c_{k,m'}\n",
    "$$"
   ]
  },
  {
   "cell_type": "markdown",
   "metadata": {},
   "source": [
    "By identifying the matrices $\\mathbf{A}$, $\\mathbf{B}$, and $\\mathbf{c}$ as\n",
    "\n",
    "$$[\\mathbf{A}]_{m, m'} = \\eta_{m-m'},\\quad\n",
    "[\\mathbf{B}]_{m, m'} = \\eta_{m-m'} \\left(k + \\frac{2\\pi m}{d}\\right) \\left(k + \\frac{2\\pi m'}{d}\\right),\\quad\n",
    "[\\mathbf{c}]_m' = c_{k, m'},$$\n",
    "\n",
    "This is a matrix equation $\\mathbf{B}\\mathbf{c} = (\\omega/v_p)^2 \\mathbf{A}\\mathbf{c}$ which can be viewed as an eigenequation\n",
    "$$(\\mathbf{A}^{-1}\\mathbf{B})\\mathbf{c} = \\left(\\frac{\\omega}{v_p}\\right)^2 \\mathbf{c}$$"
   ]
  },
  {
   "cell_type": "code",
   "execution_count": 30,
   "metadata": {
    "collapsed": false
   },
   "outputs": [],
   "source": [
    "A = np.zeros((2 * L + 1, 2 * L + 1))\n",
    "for i in range(2 * L + 1):\n",
    "    for j in range(2 * L + 1):\n",
    "        m, m_ = i - L, j - L   # index offset\n",
    "        A[i, j] = eta_array[m - m_ + 2 * L]\n",
    "\n",
    "def B(k):\n",
    "    temp = np.zeros((2 * L + 1, 2 * L + 1))\n",
    "    for i in range(2 * L + 1):\n",
    "        for j in range(2 * L + 1):\n",
    "            m, m_ = i - L, j - L   # index offset\n",
    "            temp[i, j] = (eta_array[m - m_ + 2 * L]\n",
    "                          * (k + 2 * np.pi * m / d)\n",
    "                          * (k + 2 * np.pi * m_ / d))\n",
    "    return temp\n",
    "\n",
    "def Op(k):\n",
    "    return np.dot(la.inv(A), B(k))"
   ]
  },
  {
   "cell_type": "code",
   "execution_count": 31,
   "metadata": {
    "collapsed": false
   },
   "outputs": [],
   "source": [
    "def solve_eigenequation(k):\n",
    "    eig_vals, eig_vecs = la.eig(Op(k))\n",
    "    # sorting eigenvalues and eigenvectors\n",
    "    idx = eig_vals.argsort()\n",
    "    eig_vals = eig_vals[idx]\n",
    "    eig_vecs = eig_vecs[:,idx]\n",
    "    \n",
    "    eig_freq = np.sqrt(eig_vals) * v_p / (2 * np.pi)\n",
    "    return eig_freq, eig_vecs"
   ]
  },
  {
   "cell_type": "code",
   "execution_count": 32,
   "metadata": {
    "collapsed": false
   },
   "outputs": [],
   "source": [
    "def Bloch_wavefunc(x, c):\n",
    "    \"\"\"`1\n",
    "    Given the amplitudes [c],\n",
    "    Calculate the Bloch wavefunction\n",
    "\n",
    "        u_k (x) = sum_{n} c_{k, n} exp(i2\\pi n x/d)\n",
    "\n",
    "    and return its absolute value.\n",
    "    \"\"\"\n",
    "    V = np.zeros(len(x))\n",
    "    for n in range(2 * L + 1):\n",
    "        V = V + c[n] * np.exp(2j * np.pi * (n - L) * x / d)\n",
    "    return abs(V)"
   ]
  },
  {
   "cell_type": "code",
   "execution_count": 33,
   "metadata": {
    "collapsed": true
   },
   "outputs": [],
   "source": [
    "X, Y = np.meshgrid(kPts, xPts)\n",
    "\n",
    "N_modes = 2  # Number of modes to consider\n",
    "eig_funcs = []\n",
    "eig_freqs = []\n",
    "for n in range(N_modes):\n",
    "    eig_funcs.append(np.zeros((len(kPts), len(xPts))))\n",
    "    eig_freqs.append(np.zeros(len(kPts)))"
   ]
  },
  {
   "cell_type": "code",
   "execution_count": 34,
   "metadata": {
    "collapsed": false
   },
   "outputs": [],
   "source": [
    "for idx, k_ in enumerate(kPts):\n",
    "    eig_vals, eig_vecs = solve_eigenequation(k_)\n",
    "    for n in range(N_modes):\n",
    "        eig_funcs[n][:, idx] = Bloch_wavefunc(xPts, eig_vecs[:, n])\n",
    "        eig_freqs[n][idx] = eig_vals[n]"
   ]
  },
  {
   "cell_type": "code",
   "execution_count": 35,
   "metadata": {
    "collapsed": false
   },
   "outputs": [
    {
     "data": {
      "image/png": "[encoded data removed]",
      "text/plain": [
       "<matplotlib.figure.Figure at 0x10cb89b38>"
      ]
     },
     "metadata": {},
     "output_type": "display_data"
    }
   ],
   "source": [
    "fig, axes = plt.subplots(2, 2, figsize=(11, 8))\n",
    "\n",
    "# Band structure\n",
    "for n in range(N_modes):\n",
    "    axes[0, 0].plot(kPts/(np.pi/d), eig_freqs[n]/1e9, label=r'$n=%d$' % n, lw=2)\n",
    "axes[0, 0].set_xlabel(r'Wavevector  $k/(\\pi/d)$')\n",
    "axes[0, 0].set_ylabel(r'Frequency $\\omega/2\\pi$   [GHz]')\n",
    "axes[0, 0].set_title('Band Structure')\n",
    "axes[0, 0].legend(loc=0)\n",
    "\n",
    "# Transmission Amplitude\n",
    "axes[0, 1].plot(freqPts, S12dB, color='red', lw=2)\n",
    "axes[0, 1].set_xlabel('Frequency [GHz]')\n",
    "axes[0, 1].set_ylabel('$S_{12}$ [dB]')\n",
    "axes[0, 1].set_ylim([-40, 5])\n",
    "axes[0, 1].set_title('Transmission Amplitude')\n",
    "\n",
    "# Mode structure\n",
    "p0 = axes[1, 0].pcolor(X/(np.pi/d), Y/d, eig_funcs[0], cmap=cm.jet, vmin=0, vmax=1.5)\n",
    "p1 = axes[1, 1].pcolor(X/(np.pi/d), Y/d, eig_funcs[1], cmap=cm.jet, vmin=0, vmax=1.5)\n",
    "axes[1, 0].set_xlabel(r'Wavevector  $k/(\\pi/d)$'); axes[1, 1].set_xlabel(r'Wavevector  $k/(\\pi/d)$')\n",
    "axes[1, 0].set_ylabel(r'Position in unit cell  $x/d$')\n",
    "axes[1, 0].set_xlim([-1, 1]); axes[1, 1].set_xlim([-1, 1])\n",
    "axes[1, 0].set_ylim([-0.5, 0.5]); axes[1, 1].set_ylim([-0.5, 0.5])\n",
    "axes[1, 0].set_title(r'Mode structure ($n=0$ band)')\n",
    "axes[1, 1].set_title(r'Mode structure ($n=1$ band)');\n",
    "fig.tight_layout()\n",
    "\n",
    "fig.subplots_adjust(right=0.85)\n",
    "cbar_ax = fig.add_axes([0.9, 0.15, 0.02, 0.3])\n",
    "fig.colorbar(p1, cax=cbar_ax);"
   ]
  },
  {
   "cell_type": "markdown",
   "metadata": {},
   "source": [
    "All panels of Figure S1 has been reproduced."
   ]
  },
  {
   "cell_type": "markdown",
   "metadata": {},
   "source": [
    "## Transmission amplitude in the presence of the qubit"
   ]
  },
  {
   "cell_type": "code",
   "execution_count": 36,
   "metadata": {
    "collapsed": false
   },
   "outputs": [],
   "source": [
    "M_a_sym = qubit_ABCD_sym(omega_sym).subs({gamma_sym: 2e9 * np.pi * 0.5, Z0_sym: 28})\n",
    "M_a = sp.lambdify((omega_a_sym, omega_sym), M_a_sym, \"numpy\")"
   ]
  },
  {
   "cell_type": "code",
   "execution_count": 37,
   "metadata": {
    "collapsed": false
   },
   "outputs": [
    {
     "name": "stderr",
     "output_type": "stream",
     "text": [
      "/opt/local/Library/Frameworks/Python.framework/Versions/3.4/lib/python3.4/site-packages/ipykernel/__main__.py:9: ComplexWarning: Casting complex values to real discards the imaginary part\n"
     ]
    }
   ],
   "source": [
    "omega_a = 2e9 * np.pi * 8.5\n",
    "freqPts = np.linspace(7.2, 8.9, N_freqPts)   # Frequency Points in units of GHz\n",
    "S12dB = np.zeros(N_freqPts)\n",
    "\n",
    "for idx, freq in enumerate(freqPts):\n",
    "    omega_ = 2e9 * np.pi * freq\n",
    "    M_PhC = la.matrix_power(M_unit(omega_), 7)\n",
    "    M = np.dot(M_PhC, np.dot(M_a(omega_a, omega_), M_PhC))\n",
    "    S12dB[idx] = 20 * np.log10(ABCDtoS(M)[0][1])"
   ]
  },
  {
   "cell_type": "code",
   "execution_count": 38,
   "metadata": {
    "collapsed": false
   },
   "outputs": [
    {
     "data": {
      "image/png": "[encoded data removed]",
      "text/plain": [
       "<matplotlib.figure.Figure at 0x10c9bd9e8>"
      ]
     },
     "metadata": {},
     "output_type": "display_data"
    }
   ],
   "source": [
    "fig, ax = plt.subplots(1, 1, figsize=(3, 5))\n",
    "ax.plot(freqPts, S12dB, lw=2, color='blue')\n",
    "ax.set_xlabel(r'Frequency [GHz]')\n",
    "ax.set_ylabel(r'$S_{12}$ [dB]');"
   ]
  },
  {
   "cell_type": "markdown",
   "metadata": {},
   "source": [
    "## Version Information"
   ]
  },
  {
   "cell_type": "code",
   "execution_count": 39,
   "metadata": {
    "collapsed": false
   },
   "outputs": [
    {
     "data": {
      "application/json": {
       "Software versions": [
        {
         "module": "Python",
         "version": "3.4.5 64bit [GCC 4.2.1 Compatible Apple LLVM 7.0.2 (clang-700.1.81)]"
        },
        {
         "module": "IPython",
         "version": "5.0.0"
        },
        {
         "module": "OS",
         "version": "Darwin 15.6.0 x86_64 i386 64bit"
        },
        {
         "module": "sympy",
         "version": "1.0"
        },
        {
         "module": "numpy",
         "version": "1.11.1"
        },
        {
         "module": "scipy",
         "version": "0.18.0"
        },
        {
         "module": "matplotlib",
         "version": "1.5.2"
        }
       ]
      },
      "text/html": [
       "<table><tr><th>Software</th><th>Version</th></tr><tr><td>Python</td><td>3.4.5 64bit [GCC 4.2.1 Compatible Apple LLVM 7.0.2 (clang-700.1.81)]</td></tr><tr><td>IPython</td><td>5.0.0</td></tr><tr><td>OS</td><td>Darwin 15.6.0 x86_64 i386 64bit</td></tr><tr><td>sympy</td><td>1.0</td></tr><tr><td>numpy</td><td>1.11.1</td></tr><tr><td>scipy</td><td>0.18.0</td></tr><tr><td>matplotlib</td><td>1.5.2</td></tr><tr><td colspan='2'>Tue Aug 23 00:33:34 2016 PDT</td></tr></table>"
      ],
      "text/latex": [
       "\\begin{tabular}{|l|l|}\\hline\n",
       "{\\bf Software} & {\\bf Version} \\\\ \\hline\\hline\n",
       "Python & 3.4.5 64bit [GCC 4.2.1 Compatible Apple LLVM 7.0.2 (clang-700.1.81)] \\\\ \\hline\n",
       "IPython & 5.0.0 \\\\ \\hline\n",
       "OS & Darwin 15.6.0 x86\\_64 i386 64bit \\\\ \\hline\n",
       "sympy & 1.0 \\\\ \\hline\n",
       "numpy & 1.11.1 \\\\ \\hline\n",
       "scipy & 0.18.0 \\\\ \\hline\n",
       "matplotlib & 1.5.2 \\\\ \\hline\n",
       "\\hline \\multicolumn{2}{|l|}{Tue Aug 23 00:33:34 2016 PDT} \\\\ \\hline\n",
       "\\end{tabular}\n"
      ],
      "text/plain": [
       "Software versions\n",
       "Python 3.4.5 64bit [GCC 4.2.1 Compatible Apple LLVM 7.0.2 (clang-700.1.81)]\n",
       "IPython 5.0.0\n",
       "OS Darwin 15.6.0 x86_64 i386 64bit\n",
       "sympy 1.0\n",
       "numpy 1.11.1\n",
       "scipy 0.18.0\n",
       "matplotlib 1.5.2\n",
       "Tue Aug 23 00:33:34 2016 PDT"
      ]
     },
     "execution_count": 39,
     "metadata": {},
     "output_type": "execute_result"
    }
   ],
   "source": [
    "%reload_ext version_information\n",
    "\n",
    "%version_information sympy, numpy, scipy, matplotlib"
   ]
  }
 ],
 "metadata": {
  "kernelspec": {
   "display_name": "Python 3",
   "language": "python",
   "name": "python3"
  },
  "language_info": {
   "codemirror_mode": {
    "name": "ipython",
    "version": 3
   },
   "file_extension": ".py",
   "mimetype": "text/x-python",
   "name": "python",
   "nbconvert_exporter": "python",
   "pygments_lexer": "ipython3",
   "version": "3.4.5"
  }
 },
 "nbformat": 4,
 "nbformat_minor": 0
}

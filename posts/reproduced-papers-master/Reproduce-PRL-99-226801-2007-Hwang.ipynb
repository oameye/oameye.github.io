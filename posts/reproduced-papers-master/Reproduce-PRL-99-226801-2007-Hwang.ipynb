{
 "cells": [
  {
   "cell_type": "markdown",
   "metadata": {},
   "source": [
    "# Reproduce: Density Dependent Exchange Contribution to $\\partial\\mu/\\partial n$ and compressibility in Graphene"
   ]
  },
  {
   "cell_type": "markdown",
   "metadata": {},
   "source": [
    "E. H. Hwang, Ben Yu-Kuang Hu, and S. Das Sarma, <i>Density Dependent Exchange Contribution to $\\partial\\mu/\\partial n$ and Compressibility in Graphene</i>, Phys. Rev. Lett. <strong>99</strong>, 226801 (2007)."
   ]
  },
  {
   "cell_type": "markdown",
   "metadata": {},
   "source": [
    "Reproduced by <strong>Eunjong Kim</strong> (<a href=\"mailto:ekim7206@gmail.com\">ekim7206@gmail.com</a>)"
   ]
  },
  {
   "cell_type": "code",
   "execution_count": 1,
   "metadata": {
    "collapsed": false
   },
   "outputs": [],
   "source": [
    "from numpy import *\n",
    "from scipy.integrate import dblquad\n",
    "import matplotlib.pyplot as plt\n",
    "from matplotlib import rcParams"
   ]
  },
  {
   "cell_type": "code",
   "execution_count": 2,
   "metadata": {
    "collapsed": false
   },
   "outputs": [],
   "source": [
    "%matplotlib inline\n",
    "rcParams.update({'font.size': 18, 'text.usetex': True})"
   ]
  },
  {
   "cell_type": "markdown",
   "metadata": {},
   "source": [
    "Similarly as an electron gas system, the exchange self-energy in graphene is given by"
   ]
  },
  {
   "cell_type": "markdown",
   "metadata": {},
   "source": [
    "$$\n",
    "\\hbar \\Sigma_{s}^{(1\\mathrm{E})} (\\mathbf{k}) = -\\sum_{s'} \\int \\frac{d^{2}k'}{(2\\pi)^2} u(\\mathbf{k}-\\mathbf{k}') n_{\\mathbf{k'},s'} F_{s,s'} (\\mathbf{k},\\mathbf{k'})\n",
    "$$"
   ]
  },
  {
   "cell_type": "markdown",
   "metadata": {},
   "source": [
    "where $u(\\mathbf{q}) = 2\\pi e^2 / \\epsilon_0 q$ is the 2D Coulomb potential ($\\epsilon_0$ is the background dielectric constant due to substrates) and $F_{s,s'}(\\mathbf{k},\\mathbf{k'}) = \\left| \\big\\langle \\psi_{\\mathbf{k},s}\\big\\vert \\psi_{\\mathbf{k'},s'}\\big\\rangle \\right|^2$ is the wavefunction overlap factor given by"
   ]
  },
  {
   "cell_type": "markdown",
   "metadata": {},
   "source": [
    "$$\n",
    "F_{s,s'} (\\mathbf{k},\\mathbf{k}') = \\frac{1}{2} \\left[ 1+ss'\\cos{(\\phi_{\\mathbf{k}}-\\phi_{\\mathbf{k}'})}\\right]\n",
    "$$"
   ]
  },
  {
   "cell_type": "markdown",
   "metadata": {},
   "source": [
    "in graphene. Here, $s=\\pm1$ is the band index. At zero temperature ($T=0$) and the positive chemical potential ($\\mu=\\epsilon_\\mathrm{F}>0$), "
   ]
  },
  {
   "cell_type": "markdown",
   "metadata": {},
   "source": [
    "$$n_{\\mathbf{k}, s} = \\Theta(\\varepsilon_F - \\varepsilon_{\\mathbf{k}, s}) = \n",
    "\\begin{cases}\n",
    "\\Theta(k_\\mathrm{F}-k) &\\mathrm{for}\\ s = +1\\\\\n",
    "1 &\\mathrm{for}\\ s = -1\n",
    "\\end{cases}\n",
    "$$"
   ]
  },
  {
   "cell_type": "markdown",
   "metadata": {},
   "source": [
    "We separate the exchange self-energy into contributions from the intrinsic electrons, $\\Sigma_{x}^\\mathrm{int}$, and the extrinsic carriers, $\\Sigma_{x}^\\mathrm{ext}$. That is, $\\Sigma_{x,s}(k) = \\Sigma_{x,s}^\\mathrm{int}(k)+ \\Sigma_{x,s}^\\mathrm{ext}(k)$, where"
   ]
  },
  {
   "cell_type": "markdown",
   "metadata": {},
   "source": [
    "$$\\hbar\\Sigma_{x,s}^\\mathrm{int}(\\mathbf{k}) = - \\int \\frac{d^2 k'}{(2\\pi)^2} u(\\mathbf{k}-\\mathbf{k}') F_{s,-} (\\mathbf{k},\\mathbf{k}');$$\n",
    "$$\\hbar\\Sigma_{x,s}^\\mathrm{ext}(\\mathbf{k}) = - \\sum_{s'}\\int \\frac{d^2 k'}{(2\\pi)^2} \\delta n_{\\mathbf{k}',s'}u(\\mathbf{k}-\\mathbf{k}') F_{s,s'} (\\mathbf{k},\\mathbf{k}'),$$"
   ]
  },
  {
   "cell_type": "markdown",
   "metadata": {},
   "source": [
    "where $\\delta n_{\\mathbf{k}',s'} \\equiv n_{\\mathbf{k}',s'} - \\frac{1}{2}(1-s')$ is the difference in the electron occupation from the intrinsic $T=0$ case. At zero temperature ($T=0$) and the positive chemical potential ($\\mu=\\epsilon_\\mathrm{F}>0$),"
   ]
  },
  {
   "cell_type": "markdown",
   "metadata": {},
   "source": [
    "$$\n",
    "\\delta n_{\\mathbf{k}',+} = n_{\\mathbf{k}',+} = \\Theta(k_\\mathrm{F} - k)\\\\\n",
    "\\delta n_{\\mathbf{k}',-} = n_{\\mathbf{k}',-} - 1 = 0\n",
    "$$"
   ]
  },
  {
   "cell_type": "markdown",
   "metadata": {},
   "source": [
    "and the exchange self-energy contributions from the extrinsic carriers, only $s'=+1$ in the summation remains, and\n"
   ]
  },
  {
   "cell_type": "markdown",
   "metadata": {},
   "source": [
    "$$\\hbar\\Sigma_{x,s}^\\mathrm{ext}(\\mathbf{k}) = - \\int \\frac{d^2 k'}{(2\\pi)^2} \\delta n_{\\mathbf{k}',+}u(\\mathbf{k}-\\mathbf{k}') F_{s,+} (\\mathbf{k},\\mathbf{k}') = -\\int \\frac{d^2 k'}{(2\\pi)^2} \\Theta(k_\\mathrm{F}-k) \\frac{2\\pi e^2}{|\\mathbf{k}-\\mathbf{k}'|} \\frac{1}{2} \\left[1+s\\cos{(\\phi_\\mathbf{k}-\\phi_{\\mathbf{k}'})}\\right].\n",
    "$$"
   ]
  },
  {
   "cell_type": "markdown",
   "metadata": {},
   "source": [
    "For numerical evaluation of the integral, we assume that the wavevector $\\mathbf{k}$ is directed along the $x$-direction, $\\mathbf{k} = k\\hat{\\mathbf{x}}$ ($\\phi_\\mathbf{k}=0$),"
   ]
  },
  {
   "cell_type": "markdown",
   "metadata": {},
   "source": [
    "$$\\cos(\\phi_\\mathbf{k}-\\phi_\\mathbf{k'}) = \\cos{\\phi_\\mathbf{k'}},$$\n",
    "$$|\\mathbf{k}-\\mathbf{k'}| = \\sqrt{k^2 + (k')^2 -2kk'\\cos{\\phi_\\mathbf{k'}}}$$"
   ]
  },
  {
   "cell_type": "markdown",
   "metadata": {},
   "source": [
    "$$\n",
    "\\hbar\\Sigma_{x,s}^\\mathrm{ext}(k) = -\\frac{2\\pi e^2}{\\epsilon_0} \\frac{1}{(2\\pi)^2} \\frac{1}{2}\\int_{0}^{k_\\mathrm{F}} k'dk' \\int_{0}^{2\\pi} d\\phi' \\frac{1+s\\cos{\\phi'}}{\\sqrt{k^2 + (k')^2 -2kk'\\cos{\\phi'}}}\n",
    "$$"
   ]
  },
  {
   "cell_type": "markdown",
   "metadata": {},
   "source": [
    "We define unitless wavevectors $\\tilde{k}\\equiv k/k_\\mathrm{F}$, $\\tilde{k}'\\equiv k'/k_\\mathrm{F}$"
   ]
  },
  {
   "cell_type": "markdown",
   "metadata": {},
   "source": [
    "$$\n",
    "\\frac{\\hbar\\Sigma_{x,s}^\\mathrm{ext}(k)}{e^2k_\\mathrm{F}/\\epsilon_0} = -\\frac{1}{4\\pi} \\int_{0}^{1} d\\tilde{k}' \\int_{0}^{2\\pi}\n",
    " d\\phi' \\frac{\\tilde{k}'(1+s\\cos{\\phi'})}{\\sqrt{\\tilde{k}^2 + \\tilde{k}'^2 -2\\tilde{k}\\tilde{k}'\\cos{\\phi'}}}\n",
    "$$"
   ]
  },
  {
   "cell_type": "markdown",
   "metadata": {},
   "source": [
    "We make use of <code>scipy.integrate.dblquad</code> to evaluate the double integral:"
   ]
  },
  {
   "cell_type": "code",
   "execution_count": 3,
   "metadata": {
    "collapsed": false
   },
   "outputs": [],
   "source": [
    "def integrand(k,s,k_,phi): # define the integrand\n",
    "    return k_*(1 + s*cos(phi)) / sqrt(k**2 + k_**2 - 2*k*k_*cos(phi))\n",
    "def i(k,s): # double integration of the integrand\n",
    "    return dblquad(lambda k_, phi: integrand(k,s,k_,phi), 0, 2*pi, lambda k_: 0, lambda k_: 1)[0]"
   ]
  },
  {
   "cell_type": "code",
   "execution_count": 4,
   "metadata": {
    "collapsed": false
   },
   "outputs": [],
   "source": [
    "k = linspace(1e-5, 2, 50)  # range of k/kF values: 0 to 2\n",
    "\n",
    "SE_ext_p, SE_ext_m = zeros(len(k)), zeros(len(k))\n",
    "for idx, k_ in enumerate(k):\n",
    "    SE_ext_p[idx] = i(k_,+1)/(-4*pi)\n",
    "    SE_ext_m[idx] = i(k_,-1)/(-4*pi)"
   ]
  },
  {
   "cell_type": "code",
   "execution_count": 5,
   "metadata": {
    "collapsed": false
   },
   "outputs": [
    {
     "data": {
      "image/png": "[encoded data removed]",
      "text/plain": [
       "<matplotlib.figure.Figure at 0x111647c50>"
      ]
     },
     "metadata": {},
     "output_type": "display_data"
    }
   ],
   "source": [
    "fig, ax = plt.subplots(1,1, figsize=(6,6))\n",
    "\n",
    "ax.plot(k, SE_ext_p, label=r'$\\Sigma_{x, +}^\\mathrm{ext}$', lw=2, ls=':')\n",
    "ax.plot(k, SE_ext_m, label=r'$\\Sigma_{x, -}^\\mathrm{ext}$', lw=2, ls='--')\n",
    "ax.plot(k, SE_ext_p + SE_ext_m, label=r'$\\Sigma_{x}^\\mathrm{pb}$', lw=2, ls='-')\n",
    "\n",
    "ax.set_xlim([0, 2]); ax.set_xlabel(r'$k/k_\\mathrm{F}$')\n",
    "ax.set_ylim([-1.1, 0]); ax.set_ylabel(r'$\\hbar\\Sigma_{x}(k)/(e^2 k_\\mathrm{F}/\\epsilon_0)$')\n",
    "ax.legend(loc=0)\n",
    "fig.text(0.08, 0.95, r'Exchange self-energies for graphene with $\\mu>0$')\n",
    "ax.grid(True);"
   ]
  },
  {
   "cell_type": "markdown",
   "metadata": {},
   "source": [
    "and the Figure 1 of [PRL <b>99</b>, 226801 (2007)] is reproduced."
   ]
  },
  {
   "cell_type": "markdown",
   "metadata": {},
   "source": [
    "## Version Information"
   ]
  },
  {
   "cell_type": "code",
   "execution_count": 1,
   "metadata": {
    "collapsed": false
   },
   "outputs": [
    {
     "data": {
      "application/json": {
       "Software versions": [
        {
         "module": "Python",
         "version": "3.4.3 64bit [GCC 4.2.1 Compatible Apple LLVM 6.0 (clang-600.0.56)]"
        },
        {
         "module": "IPython",
         "version": "3.2.1"
        },
        {
         "module": "OS",
         "version": "Darwin 14.5.0 x86_64 i386 64bit"
        },
        {
         "module": "numpy",
         "version": "1.9.2"
        },
        {
         "module": "scipy",
         "version": "0.17.0.dev0+18ebef6"
        },
        {
         "module": "matplotlib",
         "version": "1.4.3"
        }
       ]
      },
      "text/html": [
       "<table><tr><th>Software</th><th>Version</th></tr><tr><td>Python</td><td>3.4.3 64bit [GCC 4.2.1 Compatible Apple LLVM 6.0 (clang-600.0.56)]</td></tr><tr><td>IPython</td><td>3.2.1</td></tr><tr><td>OS</td><td>Darwin 14.5.0 x86_64 i386 64bit</td></tr><tr><td>numpy</td><td>1.9.2</td></tr><tr><td>scipy</td><td>0.17.0.dev0+18ebef6</td></tr><tr><td>matplotlib</td><td>1.4.3</td></tr><tr><td colspan='2'>Wed Nov 11 16:24:11 2015 KST</td></tr></table>"
      ],
      "text/latex": [
       "\\begin{tabular}{|l|l|}\\hline\n",
       "{\\bf Software} & {\\bf Version} \\\\ \\hline\\hline\n",
       "Python & 3.4.3 64bit [GCC 4.2.1 Compatible Apple LLVM 6.0 (clang-600.0.56)] \\\\ \\hline\n",
       "IPython & 3.2.1 \\\\ \\hline\n",
       "OS & Darwin 14.5.0 x86\\_64 i386 64bit \\\\ \\hline\n",
       "numpy & 1.9.2 \\\\ \\hline\n",
       "scipy & 0.17.0.dev0+18ebef6 \\\\ \\hline\n",
       "matplotlib & 1.4.3 \\\\ \\hline\n",
       "\\hline \\multicolumn{2}{|l|}{Wed Nov 11 16:24:11 2015 KST} \\\\ \\hline\n",
       "\\end{tabular}\n"
      ],
      "text/plain": [
       "Software versions\n",
       "Python 3.4.3 64bit [GCC 4.2.1 Compatible Apple LLVM 6.0 (clang-600.0.56)]\n",
       "IPython 3.2.1\n",
       "OS Darwin 14.5.0 x86_64 i386 64bit\n",
       "numpy 1.9.2\n",
       "scipy 0.17.0.dev0+18ebef6\n",
       "matplotlib 1.4.3\n",
       "Wed Nov 11 16:24:11 2015 KST"
      ]
     },
     "execution_count": 1,
     "metadata": {},
     "output_type": "execute_result"
    }
   ],
   "source": [
    "%reload_ext version_information\n",
    "\n",
    "%version_information numpy, scipy, matplotlib"
   ]
  }
 ],
 "metadata": {
  "kernelspec": {
   "display_name": "Python 3",
   "language": "python",
   "name": "python3"
  },
  "language_info": {
   "codemirror_mode": {
    "name": "ipython",
    "version": 3
   },
   "file_extension": ".py",
   "mimetype": "text/x-python",
   "name": "python",
   "nbconvert_exporter": "python",
   "pygments_lexer": "ipython3",
   "version": "3.4.3"
  }
 },
 "nbformat": 4,
 "nbformat_minor": 0
}
